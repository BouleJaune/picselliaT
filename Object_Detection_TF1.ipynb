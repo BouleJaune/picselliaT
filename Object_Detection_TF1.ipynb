{
 "cells": [
  {
   "cell_type": "markdown",
   "metadata": {
    "colab_type": "text",
    "id": "ZaoLlAKrK41G"
   },
   "source": [
    "[![Open In Colab](https://colab.research.google.com/assets/colab-badge.svg)](https://colab.research.google.com/github/BouleJaune/picselliaT/blob/master/Object_Detection_TF1.ipynb)\n",
    "\n"
   ]
  },
  {
   "cell_type": "markdown",
   "metadata": {
    "colab_type": "text",
    "id": "6t3am_CDKjWU"
   },
   "source": [
    "# Object-detection made easy\n",
    "We will learn how to easily train an object detection model from a list of pre-trained models with the dataset you created on the picsell-IA platform."
   ]
  },
  {
   "cell_type": "markdown",
   "metadata": {},
   "source": [
    "# Prerequisite"
   ]
  },
  {
   "cell_type": "code",
   "execution_count": null,
   "metadata": {
    "colab": {
     "base_uri": "https://localhost:8080/",
     "height": 641
    },
    "colab_type": "code",
    "id": "bS6pLrgacUg7",
    "outputId": "2e1551d5-e572-49e9-ffd0-a324b80bdc06"
   },
   "outputs": [],
   "source": [
    "!git clone https://github.com/BouleJaune/picselliaT\n",
    "%cd picselliaT/\n",
    "!pip install picsellia\n",
    "%tensorflow_version 1.x"
   ]
  },
  {
   "cell_type": "markdown",
   "metadata": {
    "colab_type": "text",
    "id": "XhntBjQuKjWV"
   },
   "source": [
    "# Imports"
   ]
  },
  {
   "cell_type": "code",
   "execution_count": 1,
   "metadata": {
    "colab": {
     "base_uri": "https://localhost:8080/",
     "height": 164
    },
    "colab_type": "code",
    "id": "ZeMjhE6jKjWY",
    "outputId": "bbfc2840-bc5c-4cc6-e693-bd95b4c84b66",
    "scrolled": true
   },
   "outputs": [
    {
     "name": "stderr",
     "output_type": "stream",
     "text": [
      "/home/ubuntu/anaconda3/envs/tensorflow_p36/lib/python3.6/site-packages/tensorflow/python/framework/dtypes.py:516: FutureWarning: Passing (type, 1) or '1type' as a synonym of type is deprecated; in a future version of numpy, it will be understood as (type, (1,)) / '(1,)type'.\n",
      "  _np_qint8 = np.dtype([(\"qint8\", np.int8, 1)])\n",
      "/home/ubuntu/anaconda3/envs/tensorflow_p36/lib/python3.6/site-packages/tensorflow/python/framework/dtypes.py:517: FutureWarning: Passing (type, 1) or '1type' as a synonym of type is deprecated; in a future version of numpy, it will be understood as (type, (1,)) / '(1,)type'.\n",
      "  _np_quint8 = np.dtype([(\"quint8\", np.uint8, 1)])\n",
      "/home/ubuntu/anaconda3/envs/tensorflow_p36/lib/python3.6/site-packages/tensorflow/python/framework/dtypes.py:518: FutureWarning: Passing (type, 1) or '1type' as a synonym of type is deprecated; in a future version of numpy, it will be understood as (type, (1,)) / '(1,)type'.\n",
      "  _np_qint16 = np.dtype([(\"qint16\", np.int16, 1)])\n",
      "/home/ubuntu/anaconda3/envs/tensorflow_p36/lib/python3.6/site-packages/tensorflow/python/framework/dtypes.py:519: FutureWarning: Passing (type, 1) or '1type' as a synonym of type is deprecated; in a future version of numpy, it will be understood as (type, (1,)) / '(1,)type'.\n",
      "  _np_quint16 = np.dtype([(\"quint16\", np.uint16, 1)])\n",
      "/home/ubuntu/anaconda3/envs/tensorflow_p36/lib/python3.6/site-packages/tensorflow/python/framework/dtypes.py:520: FutureWarning: Passing (type, 1) or '1type' as a synonym of type is deprecated; in a future version of numpy, it will be understood as (type, (1,)) / '(1,)type'.\n",
      "  _np_qint32 = np.dtype([(\"qint32\", np.int32, 1)])\n",
      "/home/ubuntu/anaconda3/envs/tensorflow_p36/lib/python3.6/site-packages/tensorflow/python/framework/dtypes.py:525: FutureWarning: Passing (type, 1) or '1type' as a synonym of type is deprecated; in a future version of numpy, it will be understood as (type, (1,)) / '(1,)type'.\n",
      "  np_resource = np.dtype([(\"resource\", np.ubyte, 1)])\n",
      "/home/ubuntu/anaconda3/envs/tensorflow_p36/lib/python3.6/site-packages/tensorboard/compat/tensorflow_stub/dtypes.py:541: FutureWarning: Passing (type, 1) or '1type' as a synonym of type is deprecated; in a future version of numpy, it will be understood as (type, (1,)) / '(1,)type'.\n",
      "  _np_qint8 = np.dtype([(\"qint8\", np.int8, 1)])\n",
      "/home/ubuntu/anaconda3/envs/tensorflow_p36/lib/python3.6/site-packages/tensorboard/compat/tensorflow_stub/dtypes.py:542: FutureWarning: Passing (type, 1) or '1type' as a synonym of type is deprecated; in a future version of numpy, it will be understood as (type, (1,)) / '(1,)type'.\n",
      "  _np_quint8 = np.dtype([(\"quint8\", np.uint8, 1)])\n",
      "/home/ubuntu/anaconda3/envs/tensorflow_p36/lib/python3.6/site-packages/tensorboard/compat/tensorflow_stub/dtypes.py:543: FutureWarning: Passing (type, 1) or '1type' as a synonym of type is deprecated; in a future version of numpy, it will be understood as (type, (1,)) / '(1,)type'.\n",
      "  _np_qint16 = np.dtype([(\"qint16\", np.int16, 1)])\n",
      "/home/ubuntu/anaconda3/envs/tensorflow_p36/lib/python3.6/site-packages/tensorboard/compat/tensorflow_stub/dtypes.py:544: FutureWarning: Passing (type, 1) or '1type' as a synonym of type is deprecated; in a future version of numpy, it will be understood as (type, (1,)) / '(1,)type'.\n",
      "  _np_quint16 = np.dtype([(\"quint16\", np.uint16, 1)])\n",
      "/home/ubuntu/anaconda3/envs/tensorflow_p36/lib/python3.6/site-packages/tensorboard/compat/tensorflow_stub/dtypes.py:545: FutureWarning: Passing (type, 1) or '1type' as a synonym of type is deprecated; in a future version of numpy, it will be understood as (type, (1,)) / '(1,)type'.\n",
      "  _np_qint32 = np.dtype([(\"qint32\", np.int32, 1)])\n",
      "/home/ubuntu/anaconda3/envs/tensorflow_p36/lib/python3.6/site-packages/tensorboard/compat/tensorflow_stub/dtypes.py:550: FutureWarning: Passing (type, 1) or '1type' as a synonym of type is deprecated; in a future version of numpy, it will be understood as (type, (1,)) / '(1,)type'.\n",
      "  np_resource = np.dtype([(\"resource\", np.ubyte, 1)])\n"
     ]
    },
    {
     "name": "stdout",
     "output_type": "stream",
     "text": [
      "WARNING:tensorflow:\n",
      "The TensorFlow contrib module will not be included in TensorFlow 2.0.\n",
      "For more information, please see:\n",
      "  * https://github.com/tensorflow/community/blob/master/rfcs/20180907-contrib-sunset.md\n",
      "  * https://github.com/tensorflow/addons\n",
      "  * https://github.com/tensorflow/io (for I/O related ops)\n",
      "If you depend on functionality not listed there, please file an issue.\n",
      "\n"
     ]
    }
   ],
   "source": [
    "import sys\n",
    "sys.path.append(\"slim\")\n",
    "from picsellia import Client\n",
    "import picsell_utils\n",
    "import tensorflow as tf"
   ]
  },
  {
   "cell_type": "markdown",
   "metadata": {
    "colab_type": "text",
    "id": "MYlIZgv9KjWe"
   },
   "source": [
    "# Setting up your Picsell client\n",
    "\n",
    "\n",
    "We need to connect with the Picsell platform to retrieve all of your project data. "
   ]
  },
  {
   "cell_type": "code",
   "execution_count": 2,
   "metadata": {
    "colab": {},
    "colab_type": "code",
    "id": "5g9FPMCdKjWg",
    "scrolled": true
   },
   "outputs": [
    {
     "name": "stdout",
     "output_type": "stream",
     "text": [
      "Welcome Xenio3, Glad to have you back\n"
     ]
    },
    {
     "ename": "InvalidQueryError",
     "evalue": "The Network name you provided does not exists for this project",
     "output_type": "error",
     "traceback": [
      "\u001b[0;31m---------------------------------------------------------------------------\u001b[0m",
      "\u001b[0;31mInvalidQueryError\u001b[0m                         Traceback (most recent call last)",
      "\u001b[0;32m<ipython-input-2-267eec1f9dc7>\u001b[0m in \u001b[0;36m<module>\u001b[0;34m\u001b[0m\n\u001b[1;32m      5\u001b[0m \u001b[0mclt\u001b[0m \u001b[0;34m=\u001b[0m \u001b[0mClient\u001b[0m\u001b[0;34m(\u001b[0m\u001b[0mapi_token\u001b[0m\u001b[0;34m=\u001b[0m\u001b[0mapi_token\u001b[0m\u001b[0;34m)\u001b[0m\u001b[0;34m\u001b[0m\u001b[0;34m\u001b[0m\u001b[0m\n\u001b[1;32m      6\u001b[0m \u001b[0mclt\u001b[0m\u001b[0;34m.\u001b[0m\u001b[0mcheckout_project\u001b[0m\u001b[0;34m(\u001b[0m\u001b[0mproject_token\u001b[0m\u001b[0;34m=\u001b[0m\u001b[0mproject_token\u001b[0m\u001b[0;34m)\u001b[0m\u001b[0;34m\u001b[0m\u001b[0;34m\u001b[0m\u001b[0m\n\u001b[0;32m----> 7\u001b[0;31m \u001b[0mclt\u001b[0m\u001b[0;34m.\u001b[0m\u001b[0mcheckout_network\u001b[0m\u001b[0;34m(\u001b[0m\u001b[0mmodel_name\u001b[0m\u001b[0;34m)\u001b[0m\u001b[0;34m\u001b[0m\u001b[0;34m\u001b[0m\u001b[0m\n\u001b[0m",
      "\u001b[0;32m~/anaconda3/envs/tensorflow_p36/lib/python3.6/site-packages/picsellia/Client.py\u001b[0m in \u001b[0;36mcheckout_network\u001b[0;34m(self, network_name)\u001b[0m\n\u001b[1;32m    189\u001b[0m \u001b[0;34m\u001b[0m\u001b[0m\n\u001b[1;32m    190\u001b[0m         \u001b[0;32mif\u001b[0m \u001b[0mnetwork_name\u001b[0m \u001b[0;32mnot\u001b[0m \u001b[0;32min\u001b[0m \u001b[0mself\u001b[0m\u001b[0;34m.\u001b[0m\u001b[0mnetwork_names\u001b[0m\u001b[0;34m:\u001b[0m\u001b[0;34m\u001b[0m\u001b[0;34m\u001b[0m\u001b[0m\n\u001b[0;32m--> 191\u001b[0;31m             \u001b[0;32mraise\u001b[0m \u001b[0mInvalidQueryError\u001b[0m\u001b[0;34m(\u001b[0m\u001b[0;34m\"The Network name you provided does not exists for this project\"\u001b[0m\u001b[0;34m)\u001b[0m\u001b[0;34m\u001b[0m\u001b[0;34m\u001b[0m\u001b[0m\n\u001b[0m\u001b[1;32m    192\u001b[0m \u001b[0;34m\u001b[0m\u001b[0m\n\u001b[1;32m    193\u001b[0m         \u001b[0mto_send\u001b[0m \u001b[0;34m=\u001b[0m \u001b[0;34m{\u001b[0m\u001b[0;34m\"model_name\"\u001b[0m\u001b[0;34m:\u001b[0m \u001b[0mnetwork_name\u001b[0m\u001b[0;34m,\u001b[0m \u001b[0;34m\"project_token\"\u001b[0m\u001b[0;34m:\u001b[0m \u001b[0mself\u001b[0m\u001b[0;34m.\u001b[0m\u001b[0mproject_token\u001b[0m\u001b[0;34m}\u001b[0m\u001b[0;34m\u001b[0m\u001b[0;34m\u001b[0m\u001b[0m\n",
      "\u001b[0;31mInvalidQueryError\u001b[0m: The Network name you provided does not exists for this project"
     ]
    }
   ],
   "source": [
    "project_token = \"05a91847-53a6-4b29-9014-d372d11836c7\" # Token from the picsell-IA platform\n",
    "api_token = \"5890ad3e6a9701cd123ef91b69ad396de8c2d20a\"\n",
    "model_name = \"ssd-inception-base\"\n",
    "\n",
    "clt = Client(api_token=api_token)\n",
    "clt.checkout_project(project_token=project_token)\n",
    "clt.checkout_network(model_name)"
   ]
  },
  {
   "cell_type": "markdown",
   "metadata": {
    "colab_type": "text",
    "id": "UPNfFH5_KjWl"
   },
   "source": [
    "Once the client is initialized we can start the pre-processing of our data.\n",
    "\n",
    "# Data pre-processing\n",
    "\n",
    "Most of the pre-processing is done by the Tensorflow object-detection API. However we do need to put our data in a TFRecord format for the API to understand it and to create a protobuf config file describing all the parameters of our model, input pipeline, evaluation and training configuration ...\n",
    "\n",
    "Hopefully everything is handled by the picsell-utils package. \n",
    "\n",
    "## Downloading data and generating the label map\n",
    "\n",
    "First we need the annotations and images on our machine. We also need to generate a label map, mapping the labels names to a label ID that the Tensorflow object-detection API can comprehend. We simply run the commands below to achieve this."
   ]
  },
  {
   "cell_type": "code",
   "execution_count": 3,
   "metadata": {
    "colab": {
     "base_uri": "https://localhost:8080/",
     "height": 550
    },
    "colab_type": "code",
    "id": "dUq-cDBVKjWm",
    "outputId": "cc07db90-dc7f-4bfe-b23d-b8263471e90c",
    "scrolled": true
   },
   "outputs": [
    {
     "name": "stdout",
     "output_type": "stream",
     "text": [
      "Downloading annotations of project 05a91847-53a6-4b29-9014-d372d11836c7 ...\n",
      "Annotations pulled ...\n",
      "Generating labelmap ...\n",
      "Label_map.pbtxt crée @ mask-classification/ssd-inception-base/1/label_map.pbtxt\n",
      "Downloading PNG images to your machine ...\n",
      "[==================================================]0 files were already on your machine\n",
      " 113 PNG images have been downloaded to your machine\n",
      "90 Images used for training, 23 Images used for validation\n",
      "Repartition send ..\n"
     ]
    }
   ],
   "source": [
    "clt.dl_annotations()\n",
    "clt.generate_labelmap()\n",
    "clt.train_test_split()\n",
    "clt.dl_pictures()"
   ]
  },
  {
   "cell_type": "markdown",
   "metadata": {},
   "source": [
    "## TFRecord files creation\n",
    "\n",
    "Tensorflow needs the data in a TFRecord format, a memory efficient format storing data as a sequence of binary records. We generate two .record files, one for the training and one for the evaluation.\n",
    "We set the annotation type to rectangle so we can extract the bounding boxes and their label from the annotations and store them inside the records."
   ]
  },
  {
   "cell_type": "code",
   "execution_count": 4,
   "metadata": {},
   "outputs": [
    {
     "name": "stdout",
     "output_type": "stream",
     "text": [
      "WARNING:tensorflow:From /home/ubuntu/picselliaT/object_detection/utils/label_map_util.py:138: The name tf.gfile.GFile is deprecated. Please use tf.io.gfile.GFile instead.\n",
      "\n",
      "WARNING:tensorflow:From /home/ubuntu/picselliaT/picsell_utils.py:69: The name tf.python_io.TFRecordWriter is deprecated. Please use tf.io.TFRecordWriter instead.\n",
      "\n",
      "Successfully created the TFRecords: mask-classification/ssd-inception-base/1/records/train.record\n",
      "Successfully created the TFRecords: mask-classification/ssd-inception-base/1/records/eval.record\n"
     ]
    }
   ],
   "source": [
    "annotation_type = \"rectangle\" \n",
    "picsell_utils.create_record_files(label_path=clt.label_path, record_dir=clt.record_dir,\n",
    "                         tfExample_generator=clt.tf_vars_generator, annotation_type=annotation_type)"
   ]
  },
  {
   "cell_type": "markdown",
   "metadata": {
    "colab_type": "text",
    "id": "Sv6vKXsNKjWs"
   },
   "source": [
    "## Editing the configuration file\n",
    "\n",
    "Every trainable object-detection model downloaded from the Picsell.ia hub is provided with the protobuf configuration file used to train it. We want to edit this file and set some variables specific to our project. \n",
    "\n",
    "Most of those variables are provided by the SDK, but it's still up to you to set up some of them. \n",
    "If you want to dwell inside the configuration file to have more control over your model, you can still open it up with after that and go change some settings like the learning rate decay strategy. But it's not the purpose of this guide."
   ]
  },
  {
   "cell_type": "code",
   "execution_count": 5,
   "metadata": {
    "colab": {
     "base_uri": "https://localhost:8080/",
     "height": 109
    },
    "colab_type": "code",
    "id": "DOgkvSDwKjWu",
    "outputId": "c7f4aeed-ac53-4df8-d91d-e51ebb29ec83"
   },
   "outputs": [
    {
     "name": "stdout",
     "output_type": "stream",
     "text": [
      "WARNING:tensorflow:From /home/ubuntu/picselliaT/object_detection/utils/config_util.py:188: The name tf.gfile.Open is deprecated. Please use tf.io.gfile.GFile instead.\n",
      "\n",
      "WARNING:tensorflow:From /home/ubuntu/picselliaT/object_detection/utils/config_util.py:189: The name tf.logging.info is deprecated. Please use tf.compat.v1.logging.info instead.\n",
      "\n",
      "INFO:tensorflow:Writing pipeline config file to mask-classification/ssd-inception-base/1/config/pipeline.config\n"
     ]
    }
   ],
   "source": [
    "#The number of steps you want your model to be trained on\n",
    "nb_steps = 1000\n",
    "#Your batch size, highly depending of your hardware and model architecture\n",
    "#Some models will return errors while training with a really low batch size\n",
    "batch_size = 16\n",
    "#The learning rate used, it can be left to None to use the previous one. \n",
    "learning_rate = None\n",
    "\n",
    "picsell_utils.edit_config(model_selected=clt.model_selected, \n",
    "            config_output_dir=clt.config_dir,\n",
    "            record_dir=clt.record_dir, \n",
    "            label_map_path=clt.label_path, \n",
    "            num_steps=nb_steps,\n",
    "            batch_size=batch_size, \n",
    "            learning_rate=learning_rate,\n",
    "            annotation_type=annotation_type,\n",
    "            eval_number = len(clt.eval_list))"
   ]
  },
  {
   "cell_type": "markdown",
   "metadata": {
    "colab_type": "text",
    "id": "7TIdFiqvKjW0"
   },
   "source": [
    "## Training\n",
    "\n",
    "Now that the input pipeline is built we can finally launch the training. To do this we can use the wrapper function train from picsell_utils , we simply specify where we will save the checkpoint and where the configuration file is located."
   ]
  },
  {
   "cell_type": "code",
   "execution_count": 6,
   "metadata": {
    "colab": {
     "base_uri": "https://localhost:8080/",
     "height": 1000
    },
    "colab_type": "code",
    "id": "eYkGBEvnKjW1",
    "outputId": "33501fe1-bbae-4961-8d4f-4435c9ece68d",
    "scrolled": true
   },
   "outputs": [
    {
     "name": "stdout",
     "output_type": "stream",
     "text": [
      "WARNING:tensorflow:From /home/ubuntu/picselliaT/picsell_utils.py:268: The name tf.logging.set_verbosity is deprecated. Please use tf.compat.v1.logging.set_verbosity instead.\n",
      "\n",
      "WARNING:tensorflow:From /home/ubuntu/picselliaT/picsell_utils.py:268: The name tf.logging.INFO is deprecated. Please use tf.compat.v1.logging.INFO instead.\n",
      "\n",
      "WARNING:tensorflow:From /home/ubuntu/picselliaT/picsell_utils.py:270: The name tf.gfile.MakeDirs is deprecated. Please use tf.io.gfile.makedirs instead.\n",
      "\n",
      "WARNING:tensorflow:From /home/ubuntu/picselliaT/picsell_utils.py:274: The name tf.gfile.Copy is deprecated. Please use tf.io.gfile.copy instead.\n",
      "\n",
      "WARNING:tensorflow:From /home/ubuntu/picselliaT/object_detection/legacy/trainer.py:268: create_global_step (from tensorflow.contrib.framework.python.ops.variables) is deprecated and will be removed in a future version.\n",
      "Instructions for updating:\n",
      "Please switch to tf.train.create_global_step\n",
      "WARNING:tensorflow:From /home/ubuntu/picselliaT/object_detection/data_decoders/tf_example_decoder.py:182: The name tf.FixedLenFeature is deprecated. Please use tf.io.FixedLenFeature instead.\n",
      "\n",
      "WARNING:tensorflow:From /home/ubuntu/picselliaT/object_detection/data_decoders/tf_example_decoder.py:197: The name tf.VarLenFeature is deprecated. Please use tf.io.VarLenFeature instead.\n",
      "\n",
      "WARNING:tensorflow:From /home/ubuntu/picselliaT/object_detection/builders/dataset_builder.py:64: The name tf.gfile.Glob is deprecated. Please use tf.io.gfile.glob instead.\n",
      "\n",
      "WARNING:tensorflow:From /home/ubuntu/picselliaT/object_detection/builders/dataset_builder.py:71: The name tf.logging.warning is deprecated. Please use tf.compat.v1.logging.warning instead.\n",
      "\n",
      "WARNING:tensorflow:num_readers has been reduced to 1 to match input file shards.\n",
      "WARNING:tensorflow:From /home/ubuntu/picselliaT/object_detection/builders/dataset_builder.py:86: parallel_interleave (from tensorflow.contrib.data.python.ops.interleave_ops) is deprecated and will be removed in a future version.\n",
      "Instructions for updating:\n",
      "Use `tf.data.experimental.parallel_interleave(...)`.\n",
      "WARNING:tensorflow:From /home/ubuntu/anaconda3/envs/tensorflow_p36/lib/python3.6/site-packages/tensorflow/contrib/data/python/ops/interleave_ops.py:77: parallel_interleave (from tensorflow.python.data.experimental.ops.interleave_ops) is deprecated and will be removed in a future version.\n",
      "Instructions for updating:\n",
      "Use `tf.data.Dataset.interleave(map_func, cycle_length, block_length, num_parallel_calls=tf.data.experimental.AUTOTUNE)` instead. If sloppy execution is desired, use `tf.data.Options.experimental_determinstic`.\n",
      "WARNING:tensorflow:From /home/ubuntu/picselliaT/object_detection/builders/dataset_builder.py:155: DatasetV1.map_with_legacy_function (from tensorflow.python.data.ops.dataset_ops) is deprecated and will be removed in a future version.\n",
      "Instructions for updating:\n",
      "Use `tf.data.Dataset.map()\n",
      "WARNING:tensorflow:From /home/ubuntu/picselliaT/object_detection/builders/dataset_builder.py:43: DatasetV1.make_initializable_iterator (from tensorflow.python.data.ops.dataset_ops) is deprecated and will be removed in a future version.\n",
      "Instructions for updating:\n",
      "Use `for ... in dataset:` to iterate over a dataset. If using `tf.estimator`, return the `Dataset` object directly from your input function. As a last resort, you can use `tf.compat.v1.data.make_initializable_iterator(dataset)`.\n",
      "WARNING:tensorflow:From /home/ubuntu/picselliaT/object_detection/builders/dataset_builder.py:44: The name tf.add_to_collection is deprecated. Please use tf.compat.v1.add_to_collection instead.\n",
      "\n",
      "WARNING:tensorflow:From /home/ubuntu/picselliaT/object_detection/builders/dataset_builder.py:44: The name tf.GraphKeys is deprecated. Please use tf.compat.v1.GraphKeys instead.\n",
      "\n",
      "WARNING:tensorflow:From /home/ubuntu/picselliaT/object_detection/core/preprocessor.py:627: The name tf.random_uniform is deprecated. Please use tf.random.uniform instead.\n",
      "\n",
      "WARNING:tensorflow:From /home/ubuntu/picselliaT/object_detection/core/preprocessor.py:197: sample_distorted_bounding_box (from tensorflow.python.ops.image_ops_impl) is deprecated and will be removed in a future version.\n",
      "Instructions for updating:\n",
      "`seed2` arg is deprecated.Use sample_distorted_bounding_box_v2 instead.\n",
      "WARNING:tensorflow:From /home/ubuntu/picselliaT/object_detection/core/box_list_ops.py:206: add_dispatch_support.<locals>.wrapper (from tensorflow.python.ops.array_ops) is deprecated and will be removed in a future version.\n",
      "Instructions for updating:\n",
      "Use tf.where in 2.0, which has the same broadcast rule as np.where\n",
      "WARNING:tensorflow:From /home/ubuntu/picselliaT/object_detection/core/batcher.py:101: batch (from tensorflow.python.training.input) is deprecated and will be removed in a future version.\n",
      "Instructions for updating:\n",
      "Queue-based input pipelines have been replaced by `tf.data`. Use `tf.data.Dataset.batch(batch_size)` (or `padded_batch(...)` if `dynamic_pad=True`).\n",
      "WARNING:tensorflow:From /home/ubuntu/anaconda3/envs/tensorflow_p36/lib/python3.6/site-packages/tensorflow/python/training/input.py:753: QueueRunner.__init__ (from tensorflow.python.training.queue_runner_impl) is deprecated and will be removed in a future version.\n",
      "Instructions for updating:\n",
      "To construct input pipelines, use the `tf.data` module.\n",
      "WARNING:tensorflow:From /home/ubuntu/anaconda3/envs/tensorflow_p36/lib/python3.6/site-packages/tensorflow/python/training/input.py:753: add_queue_runner (from tensorflow.python.training.queue_runner_impl) is deprecated and will be removed in a future version.\n",
      "Instructions for updating:\n",
      "To construct input pipelines, use the `tf.data` module.\n",
      "WARNING:tensorflow:From /home/ubuntu/picselliaT/object_detection/core/prefetcher.py:58: The name tf.summary.scalar is deprecated. Please use tf.compat.v1.summary.scalar instead.\n",
      "\n",
      "WARNING:tensorflow:From /home/ubuntu/picselliaT/object_detection/core/preprocessor.py:2937: The name tf.image.resize_images is deprecated. Please use tf.image.resize instead.\n",
      "\n",
      "WARNING:tensorflow:From /home/ubuntu/anaconda3/envs/tensorflow_p36/lib/python3.6/site-packages/tensorflow/python/ops/init_ops.py:1251: calling VarianceScaling.__init__ (from tensorflow.python.ops.init_ops) with dtype is deprecated and will be removed in a future version.\n",
      "Instructions for updating:\n",
      "Call initializer instance with the dtype argument instead of passing it to the constructor\n",
      "INFO:tensorflow:depth of additional conv before box predictor: 0\n",
      "INFO:tensorflow:depth of additional conv before box predictor: 0\n",
      "INFO:tensorflow:depth of additional conv before box predictor: 0\n",
      "INFO:tensorflow:depth of additional conv before box predictor: 0\n",
      "INFO:tensorflow:depth of additional conv before box predictor: 0\n",
      "INFO:tensorflow:depth of additional conv before box predictor: 0\n",
      "WARNING:tensorflow:From /home/ubuntu/picselliaT/object_detection/core/losses.py:177: The name tf.losses.huber_loss is deprecated. Please use tf.compat.v1.losses.huber_loss instead.\n",
      "\n",
      "WARNING:tensorflow:From /home/ubuntu/picselliaT/object_detection/core/losses.py:183: The name tf.losses.Reduction is deprecated. Please use tf.compat.v1.losses.Reduction instead.\n",
      "\n",
      "WARNING:tensorflow:From /home/ubuntu/picselliaT/object_detection/legacy/trainer.py:209: The name tf.losses.add_loss is deprecated. Please use tf.compat.v1.losses.add_loss instead.\n",
      "\n",
      "WARNING:tensorflow:From /home/ubuntu/picselliaT/object_detection/builders/optimizer_builder.py:157: The name tf.train.get_or_create_global_step is deprecated. Please use tf.compat.v1.train.get_or_create_global_step instead.\n",
      "\n",
      "WARNING:tensorflow:From /home/ubuntu/picselliaT/object_detection/utils/learning_schedules.py:66: The name tf.train.exponential_decay is deprecated. Please use tf.compat.v1.train.exponential_decay instead.\n",
      "\n",
      "WARNING:tensorflow:From /home/ubuntu/picselliaT/object_detection/builders/optimizer_builder.py:47: The name tf.train.RMSPropOptimizer is deprecated. Please use tf.compat.v1.train.RMSPropOptimizer instead.\n",
      "\n",
      "WARNING:tensorflow:From /home/ubuntu/anaconda3/envs/tensorflow_p36/lib/python3.6/site-packages/tensorflow/python/training/rmsprop.py:119: calling Ones.__init__ (from tensorflow.python.ops.init_ops) with dtype is deprecated and will be removed in a future version.\n",
      "Instructions for updating:\n",
      "Call initializer instance with the dtype argument instead of passing it to the constructor\n"
     ]
    },
    {
     "name": "stdout",
     "output_type": "stream",
     "text": [
      "WARNING:tensorflow:From /home/ubuntu/anaconda3/envs/tensorflow_p36/lib/python3.6/site-packages/tensorflow/python/training/moving_averages.py:433: Variable.initialized_value (from tensorflow.python.ops.variables) is deprecated and will be removed in a future version.\n",
      "Instructions for updating:\n",
      "Use Variable.read_value. Variables in 2.X are initialized automatically both in eager and graph (inside tf.defun) contexts.\n",
      "WARNING:tensorflow:From /home/ubuntu/picselliaT/object_detection/legacy/trainer.py:355: The name tf.summary.histogram is deprecated. Please use tf.compat.v1.summary.histogram instead.\n",
      "\n",
      "WARNING:tensorflow:From /home/ubuntu/picselliaT/object_detection/legacy/trainer.py:357: The name tf.losses.get_losses is deprecated. Please use tf.compat.v1.losses.get_losses instead.\n",
      "\n",
      "WARNING:tensorflow:From /home/ubuntu/picselliaT/object_detection/legacy/trainer.py:361: The name tf.losses.get_total_loss is deprecated. Please use tf.compat.v1.losses.get_total_loss instead.\n",
      "\n",
      "WARNING:tensorflow:From /home/ubuntu/picselliaT/object_detection/legacy/trainer.py:370: The name tf.summary.merge is deprecated. Please use tf.compat.v1.summary.merge instead.\n",
      "\n",
      "WARNING:tensorflow:From /home/ubuntu/picselliaT/object_detection/legacy/trainer.py:378: The name tf.train.Saver is deprecated. Please use tf.compat.v1.train.Saver instead.\n",
      "\n",
      "WARNING:tensorflow:From /home/ubuntu/picselliaT/object_detection/utils/variables_helper.py:143: The name tf.train.NewCheckpointReader is deprecated. Please use tf.compat.v1.train.NewCheckpointReader instead.\n",
      "\n",
      "WARNING:tensorflow:From /home/ubuntu/anaconda3/envs/tensorflow_p36/lib/python3.6/site-packages/tensorflow/contrib/slim/python/slim/learning.py:742: Supervisor.__init__ (from tensorflow.python.training.supervisor) is deprecated and will be removed in a future version.\n",
      "Instructions for updating:\n",
      "Please switch to tf.train.MonitoredTrainingSession\n",
      "WARNING:tensorflow:From /home/ubuntu/anaconda3/envs/tensorflow_p36/lib/python3.6/site-packages/tensorflow/python/training/saver.py:1276: checkpoint_exists (from tensorflow.python.training.checkpoint_management) is deprecated and will be removed in a future version.\n",
      "Instructions for updating:\n",
      "Use standard file APIs to check for files with this prefix.\n",
      "INFO:tensorflow:Restoring parameters from 05a91847-53a6-4b29-9014-d372d11836c7/d21c776e-7595-42c1-9846-54713135b78e/1/checkpoint/origin/model.ckpt\n",
      "INFO:tensorflow:Running local_init_op.\n",
      "INFO:tensorflow:Done running local_init_op.\n",
      "INFO:tensorflow:Starting Session.\n",
      "INFO:tensorflow:Saving checkpoint to path 05a91847-53a6-4b29-9014-d372d11836c7/d21c776e-7595-42c1-9846-54713135b78e/1/checkpoint/model.ckpt\n",
      "INFO:tensorflow:Starting Queues.\n",
      "INFO:tensorflow:global_step/sec: 0\n",
      "INFO:tensorflow:Recording summary at step 0.\n",
      "INFO:tensorflow:global step 1: loss = 17.9094 (19.995 sec/step)\n",
      "INFO:tensorflow:global step 2: loss = 16.9508 (0.498 sec/step)\n",
      "INFO:tensorflow:global step 3: loss = 16.4841 (0.455 sec/step)\n",
      "INFO:tensorflow:global step 4: loss = 14.9575 (0.455 sec/step)\n",
      "INFO:tensorflow:global step 5: loss = 14.0805 (0.459 sec/step)\n",
      "INFO:tensorflow:global step 6: loss = 13.4440 (0.457 sec/step)\n",
      "INFO:tensorflow:global step 7: loss = 12.5970 (0.451 sec/step)\n",
      "INFO:tensorflow:global step 8: loss = 12.3254 (0.451 sec/step)\n",
      "INFO:tensorflow:global step 9: loss = 11.8843 (0.454 sec/step)\n",
      "INFO:tensorflow:global step 10: loss = 11.9055 (0.459 sec/step)\n",
      "INFO:tensorflow:global step 11: loss = 11.3224 (0.469 sec/step)\n",
      "INFO:tensorflow:global step 12: loss = 10.4988 (0.462 sec/step)\n",
      "INFO:tensorflow:global step 13: loss = 10.0653 (0.452 sec/step)\n",
      "INFO:tensorflow:global step 14: loss = 8.7972 (0.450 sec/step)\n",
      "INFO:tensorflow:global step 15: loss = 8.2754 (0.452 sec/step)\n",
      "INFO:tensorflow:global step 16: loss = 8.2257 (0.467 sec/step)\n",
      "INFO:tensorflow:global step 17: loss = 8.1929 (0.457 sec/step)\n",
      "INFO:tensorflow:global step 18: loss = 8.4834 (0.449 sec/step)\n",
      "INFO:tensorflow:global step 19: loss = 8.5877 (0.459 sec/step)\n",
      "INFO:tensorflow:global step 20: loss = 7.5686 (0.461 sec/step)\n",
      "INFO:tensorflow:global step 21: loss = 7.9871 (0.468 sec/step)\n",
      "INFO:tensorflow:global step 22: loss = 9.1834 (0.622 sec/step)\n",
      "INFO:tensorflow:Recording summary at step 23.\n",
      "INFO:tensorflow:global step 23: loss = 7.5451 (0.697 sec/step)\n",
      "INFO:tensorflow:global step 24: loss = 6.8589 (0.450 sec/step)\n",
      "INFO:tensorflow:global step 25: loss = 8.3190 (0.475 sec/step)\n",
      "INFO:tensorflow:global step 26: loss = 7.6705 (0.459 sec/step)\n",
      "INFO:tensorflow:global step 27: loss = 7.2572 (0.462 sec/step)\n",
      "INFO:tensorflow:global step 28: loss = 6.5252 (0.475 sec/step)\n",
      "INFO:tensorflow:global step 29: loss = 7.3180 (0.467 sec/step)\n",
      "INFO:tensorflow:global_step/sec: 1.07693\n",
      "INFO:tensorflow:global step 30: loss = 7.1669 (0.456 sec/step)\n",
      "INFO:tensorflow:global step 31: loss = 6.3872 (0.470 sec/step)\n",
      "INFO:tensorflow:global step 32: loss = 5.6949 (0.454 sec/step)\n",
      "INFO:tensorflow:global step 33: loss = 6.8840 (0.474 sec/step)\n",
      "INFO:tensorflow:global step 34: loss = 5.1266 (0.447 sec/step)\n",
      "INFO:tensorflow:global step 35: loss = 6.1693 (0.482 sec/step)\n",
      "INFO:tensorflow:global step 36: loss = 5.8601 (0.455 sec/step)\n",
      "INFO:tensorflow:global step 37: loss = 5.5487 (0.459 sec/step)\n",
      "INFO:tensorflow:global step 38: loss = 5.5691 (0.466 sec/step)\n",
      "INFO:tensorflow:global step 39: loss = 6.2338 (0.468 sec/step)\n",
      "INFO:tensorflow:global step 40: loss = 6.1500 (0.453 sec/step)\n",
      "INFO:tensorflow:global step 41: loss = 5.5405 (0.471 sec/step)\n",
      "INFO:tensorflow:global step 42: loss = 6.6893 (0.468 sec/step)\n",
      "INFO:tensorflow:global step 43: loss = 5.2082 (0.458 sec/step)\n",
      "INFO:tensorflow:global step 44: loss = 4.7374 (0.461 sec/step)\n",
      "INFO:tensorflow:global step 45: loss = 3.3282 (0.459 sec/step)\n",
      "INFO:tensorflow:global step 46: loss = 4.9928 (0.466 sec/step)\n",
      "INFO:tensorflow:global step 47: loss = 5.7884 (0.501 sec/step)\n",
      "INFO:tensorflow:global step 48: loss = 7.0128 (0.453 sec/step)\n",
      "INFO:tensorflow:global step 49: loss = 4.7512 (0.460 sec/step)\n",
      "INFO:tensorflow:global step 50: loss = 3.9889 (0.461 sec/step)\n",
      "INFO:tensorflow:global step 51: loss = 5.5663 (0.459 sec/step)\n",
      "INFO:tensorflow:global step 52: loss = 5.4325 (0.459 sec/step)\n",
      "INFO:tensorflow:global step 53: loss = 5.9795 (0.476 sec/step)\n",
      "INFO:tensorflow:global step 54: loss = 7.0142 (0.451 sec/step)\n",
      "INFO:tensorflow:global step 55: loss = 4.5760 (0.449 sec/step)\n",
      "INFO:tensorflow:global step 56: loss = 4.5593 (0.449 sec/step)\n",
      "INFO:tensorflow:global step 57: loss = 5.4895 (0.454 sec/step)\n",
      "INFO:tensorflow:global step 58: loss = 5.9903 (0.458 sec/step)\n",
      "INFO:tensorflow:global step 59: loss = 4.4341 (0.452 sec/step)\n",
      "INFO:tensorflow:global step 60: loss = 4.4241 (0.450 sec/step)\n",
      "INFO:tensorflow:global step 61: loss = 5.4474 (0.463 sec/step)\n",
      "INFO:tensorflow:global step 62: loss = 5.3558 (0.466 sec/step)\n",
      "INFO:tensorflow:global step 63: loss = 4.0034 (0.450 sec/step)\n",
      "INFO:tensorflow:global step 64: loss = 4.5604 (0.453 sec/step)\n",
      "INFO:tensorflow:global step 65: loss = 4.8305 (0.453 sec/step)\n",
      "INFO:tensorflow:global step 66: loss = 4.9014 (0.460 sec/step)\n",
      "INFO:tensorflow:global step 67: loss = 4.5990 (0.449 sec/step)\n",
      "INFO:tensorflow:global step 68: loss = 4.5556 (0.455 sec/step)\n",
      "INFO:tensorflow:global step 69: loss = 4.8594 (0.455 sec/step)\n",
      "INFO:tensorflow:global step 70: loss = 3.4433 (0.465 sec/step)\n",
      "INFO:tensorflow:global step 71: loss = 4.9904 (0.455 sec/step)\n",
      "INFO:tensorflow:global step 72: loss = 4.2955 (0.457 sec/step)\n",
      "INFO:tensorflow:global step 73: loss = 4.1568 (0.467 sec/step)\n",
      "INFO:tensorflow:global step 74: loss = 6.6163 (0.473 sec/step)\n",
      "INFO:tensorflow:global step 75: loss = 3.9441 (0.457 sec/step)\n",
      "INFO:tensorflow:global step 76: loss = 4.5102 (0.460 sec/step)\n",
      "INFO:tensorflow:global step 77: loss = 3.8545 (0.456 sec/step)\n",
      "INFO:tensorflow:global step 78: loss = 5.4983 (0.460 sec/step)\n",
      "INFO:tensorflow:global step 79: loss = 5.2633 (0.480 sec/step)\n",
      "INFO:tensorflow:global step 80: loss = 3.9471 (0.460 sec/step)\n",
      "INFO:tensorflow:global step 81: loss = 3.8535 (0.476 sec/step)\n",
      "INFO:tensorflow:global step 82: loss = 5.1548 (0.446 sec/step)\n",
      "INFO:tensorflow:global step 83: loss = 4.8061 (0.452 sec/step)\n",
      "INFO:tensorflow:global step 84: loss = 5.4085 (0.465 sec/step)\n",
      "INFO:tensorflow:global step 85: loss = 3.1024 (0.480 sec/step)\n"
     ]
    },
    {
     "name": "stdout",
     "output_type": "stream",
     "text": [
      "INFO:tensorflow:global step 86: loss = 6.3487 (0.703 sec/step)\n",
      "INFO:tensorflow:Recording summary at step 86.\n",
      "INFO:tensorflow:global step 87: loss = 5.0957 (0.699 sec/step)\n",
      "INFO:tensorflow:global step 88: loss = 3.3890 (0.465 sec/step)\n",
      "INFO:tensorflow:global step 89: loss = 5.3825 (0.458 sec/step)\n",
      "INFO:tensorflow:global step 90: loss = 4.6677 (0.475 sec/step)\n",
      "INFO:tensorflow:global step 91: loss = 4.5312 (0.465 sec/step)\n",
      "INFO:tensorflow:global step 92: loss = 5.0569 (0.465 sec/step)\n",
      "INFO:tensorflow:global step 93: loss = 4.9862 (0.454 sec/step)\n",
      "INFO:tensorflow:global_step/sec: 2.13569\n",
      "INFO:tensorflow:global step 94: loss = 5.3966 (0.474 sec/step)\n",
      "INFO:tensorflow:global step 95: loss = 4.8116 (0.460 sec/step)\n",
      "INFO:tensorflow:global step 96: loss = 4.5868 (0.458 sec/step)\n",
      "INFO:tensorflow:global step 97: loss = 6.0578 (0.457 sec/step)\n",
      "INFO:tensorflow:global step 98: loss = 5.0496 (0.468 sec/step)\n",
      "INFO:tensorflow:global step 99: loss = 5.2516 (0.453 sec/step)\n",
      "INFO:tensorflow:global step 100: loss = 4.8825 (0.470 sec/step)\n",
      "INFO:tensorflow:global step 101: loss = 4.3918 (0.496 sec/step)\n",
      "INFO:tensorflow:global step 102: loss = 5.1125 (0.459 sec/step)\n",
      "INFO:tensorflow:global step 103: loss = 5.3826 (0.457 sec/step)\n",
      "INFO:tensorflow:global step 104: loss = 7.1542 (0.455 sec/step)\n",
      "INFO:tensorflow:global step 105: loss = 4.5990 (0.463 sec/step)\n",
      "INFO:tensorflow:global step 106: loss = 5.0418 (0.478 sec/step)\n",
      "INFO:tensorflow:global step 107: loss = 4.8094 (0.464 sec/step)\n",
      "INFO:tensorflow:global step 108: loss = 4.5209 (0.453 sec/step)\n",
      "INFO:tensorflow:global step 109: loss = 3.3362 (0.470 sec/step)\n",
      "INFO:tensorflow:global step 110: loss = 4.2965 (0.456 sec/step)\n",
      "INFO:tensorflow:global step 111: loss = 3.8530 (0.452 sec/step)\n",
      "INFO:tensorflow:global step 112: loss = 4.3095 (0.493 sec/step)\n",
      "INFO:tensorflow:global step 113: loss = 3.0461 (0.467 sec/step)\n",
      "INFO:tensorflow:global step 114: loss = 3.3390 (0.466 sec/step)\n",
      "INFO:tensorflow:global step 115: loss = 5.1810 (0.457 sec/step)\n",
      "INFO:tensorflow:global step 116: loss = 5.0173 (0.457 sec/step)\n",
      "INFO:tensorflow:global step 117: loss = 3.7479 (0.460 sec/step)\n",
      "INFO:tensorflow:global step 118: loss = 3.3021 (0.459 sec/step)\n",
      "INFO:tensorflow:global step 119: loss = 4.8649 (0.474 sec/step)\n",
      "INFO:tensorflow:global step 120: loss = 3.4858 (0.473 sec/step)\n",
      "INFO:tensorflow:global step 121: loss = 5.6861 (0.458 sec/step)\n",
      "INFO:tensorflow:global step 122: loss = 5.4595 (0.453 sec/step)\n",
      "INFO:tensorflow:global step 123: loss = 4.3600 (0.472 sec/step)\n",
      "INFO:tensorflow:global step 124: loss = 3.8126 (0.469 sec/step)\n",
      "INFO:tensorflow:global step 125: loss = 5.9872 (0.452 sec/step)\n",
      "INFO:tensorflow:global step 126: loss = 4.5284 (0.468 sec/step)\n",
      "INFO:tensorflow:global step 127: loss = 6.9740 (0.467 sec/step)\n",
      "INFO:tensorflow:global step 128: loss = 4.7743 (0.464 sec/step)\n",
      "INFO:tensorflow:global step 129: loss = 5.5714 (0.464 sec/step)\n",
      "INFO:tensorflow:global step 130: loss = 4.6773 (0.460 sec/step)\n",
      "INFO:tensorflow:global step 131: loss = 5.4178 (0.463 sec/step)\n",
      "INFO:tensorflow:global step 132: loss = 3.7942 (0.467 sec/step)\n",
      "INFO:tensorflow:global step 133: loss = 5.0700 (0.461 sec/step)\n",
      "INFO:tensorflow:global step 134: loss = 4.1035 (0.459 sec/step)\n",
      "INFO:tensorflow:global step 135: loss = 4.3986 (0.461 sec/step)\n",
      "INFO:tensorflow:global step 136: loss = 5.0779 (0.454 sec/step)\n",
      "INFO:tensorflow:global step 137: loss = 5.1075 (0.453 sec/step)\n",
      "INFO:tensorflow:global step 138: loss = 4.8236 (0.477 sec/step)\n",
      "INFO:tensorflow:global step 139: loss = 4.7344 (0.472 sec/step)\n",
      "INFO:tensorflow:global step 140: loss = 4.8723 (0.468 sec/step)\n",
      "INFO:tensorflow:global step 141: loss = 4.4090 (0.459 sec/step)\n",
      "INFO:tensorflow:global step 142: loss = 4.4881 (0.455 sec/step)\n",
      "INFO:tensorflow:global step 143: loss = 4.1515 (0.457 sec/step)\n",
      "INFO:tensorflow:global step 144: loss = 3.1459 (0.462 sec/step)\n",
      "INFO:tensorflow:global step 145: loss = 4.2228 (0.457 sec/step)\n",
      "INFO:tensorflow:global step 146: loss = 3.5082 (0.456 sec/step)\n",
      "INFO:tensorflow:global step 147: loss = 4.4400 (0.467 sec/step)\n",
      "INFO:tensorflow:global step 148: loss = 4.0480 (0.473 sec/step)\n",
      "INFO:tensorflow:global step 149: loss = 4.6047 (0.556 sec/step)\n",
      "INFO:tensorflow:Recording summary at step 149.\n",
      "INFO:tensorflow:global step 150: loss = 4.5856 (0.801 sec/step)\n",
      "INFO:tensorflow:global step 151: loss = 4.2169 (0.457 sec/step)\n",
      "INFO:tensorflow:global step 152: loss = 3.8170 (0.465 sec/step)\n",
      "INFO:tensorflow:global step 153: loss = 4.8290 (0.454 sec/step)\n",
      "INFO:tensorflow:global step 154: loss = 5.1168 (0.471 sec/step)\n",
      "INFO:tensorflow:global step 155: loss = 4.8464 (0.460 sec/step)\n",
      "INFO:tensorflow:global step 156: loss = 4.4315 (0.455 sec/step)\n",
      "INFO:tensorflow:global_step/sec: 2.09762\n",
      "INFO:tensorflow:global step 157: loss = 5.6450 (0.472 sec/step)\n",
      "INFO:tensorflow:global step 158: loss = 4.6571 (0.459 sec/step)\n",
      "INFO:tensorflow:global step 159: loss = 4.8664 (0.461 sec/step)\n",
      "INFO:tensorflow:global step 160: loss = 4.3418 (0.460 sec/step)\n",
      "INFO:tensorflow:global step 161: loss = 4.8457 (0.453 sec/step)\n",
      "INFO:tensorflow:global step 162: loss = 4.4499 (0.454 sec/step)\n",
      "INFO:tensorflow:global step 163: loss = 4.0878 (0.467 sec/step)\n",
      "INFO:tensorflow:global step 164: loss = 5.3073 (0.476 sec/step)\n",
      "INFO:tensorflow:global step 165: loss = 5.2369 (0.456 sec/step)\n",
      "INFO:tensorflow:global step 166: loss = 4.9097 (0.455 sec/step)\n",
      "INFO:tensorflow:global step 167: loss = 3.4906 (0.464 sec/step)\n",
      "INFO:tensorflow:global step 168: loss = 4.4036 (0.469 sec/step)\n",
      "INFO:tensorflow:global step 169: loss = 3.9086 (0.452 sec/step)\n",
      "INFO:tensorflow:global step 170: loss = 3.9060 (0.455 sec/step)\n",
      "INFO:tensorflow:global step 171: loss = 4.1442 (0.457 sec/step)\n",
      "INFO:tensorflow:global step 172: loss = 3.3533 (0.462 sec/step)\n",
      "INFO:tensorflow:global step 173: loss = 4.0957 (0.494 sec/step)\n",
      "INFO:tensorflow:global step 174: loss = 5.0856 (0.454 sec/step)\n",
      "INFO:tensorflow:global step 175: loss = 3.0099 (0.454 sec/step)\n",
      "INFO:tensorflow:global step 176: loss = 4.0092 (0.454 sec/step)\n",
      "INFO:tensorflow:global step 177: loss = 4.0525 (0.452 sec/step)\n",
      "INFO:tensorflow:global step 178: loss = 5.0193 (0.462 sec/step)\n",
      "INFO:tensorflow:global step 179: loss = 4.7200 (0.450 sec/step)\n",
      "INFO:tensorflow:global step 180: loss = 3.2320 (0.459 sec/step)\n",
      "INFO:tensorflow:global step 181: loss = 3.3478 (0.472 sec/step)\n",
      "INFO:tensorflow:global step 182: loss = 4.6989 (0.467 sec/step)\n",
      "INFO:tensorflow:global step 183: loss = 3.0069 (0.459 sec/step)\n",
      "INFO:tensorflow:global step 184: loss = 3.5345 (0.453 sec/step)\n",
      "INFO:tensorflow:global step 185: loss = 4.1587 (0.457 sec/step)\n",
      "INFO:tensorflow:global step 186: loss = 4.9137 (0.478 sec/step)\n",
      "INFO:tensorflow:global step 187: loss = 3.9474 (0.464 sec/step)\n",
      "INFO:tensorflow:global step 188: loss = 4.4032 (0.457 sec/step)\n",
      "INFO:tensorflow:global step 189: loss = 4.1027 (0.497 sec/step)\n",
      "INFO:tensorflow:global step 190: loss = 2.9226 (0.454 sec/step)\n",
      "INFO:tensorflow:global step 191: loss = 4.9812 (0.468 sec/step)\n",
      "INFO:tensorflow:global step 192: loss = 3.6796 (0.467 sec/step)\n",
      "INFO:tensorflow:global step 193: loss = 5.4291 (0.452 sec/step)\n",
      "INFO:tensorflow:global step 194: loss = 3.8499 (0.450 sec/step)\n",
      "INFO:tensorflow:global step 195: loss = 4.2014 (0.456 sec/step)\n",
      "INFO:tensorflow:global step 196: loss = 6.2719 (0.460 sec/step)\n",
      "INFO:tensorflow:global step 197: loss = 4.1416 (0.458 sec/step)\n",
      "INFO:tensorflow:global step 198: loss = 5.1824 (0.477 sec/step)\n",
      "INFO:tensorflow:global step 199: loss = 4.1602 (0.463 sec/step)\n",
      "INFO:tensorflow:global step 200: loss = 3.6619 (0.464 sec/step)\n",
      "INFO:tensorflow:global step 201: loss = 4.3950 (0.456 sec/step)\n",
      "INFO:tensorflow:global step 202: loss = 4.9754 (0.481 sec/step)\n",
      "INFO:tensorflow:global step 203: loss = 4.3392 (0.478 sec/step)\n",
      "INFO:tensorflow:global step 204: loss = 4.7919 (0.454 sec/step)\n",
      "INFO:tensorflow:global step 205: loss = 4.3207 (0.461 sec/step)\n",
      "INFO:tensorflow:global step 206: loss = 3.5931 (0.464 sec/step)\n",
      "INFO:tensorflow:global step 207: loss = 3.1704 (0.459 sec/step)\n",
      "INFO:tensorflow:global step 208: loss = 5.1689 (0.461 sec/step)\n",
      "INFO:tensorflow:global step 209: loss = 3.3945 (0.465 sec/step)\n",
      "INFO:tensorflow:global step 210: loss = 5.3297 (0.469 sec/step)\n",
      "INFO:tensorflow:global step 211: loss = 4.0947 (0.469 sec/step)\n"
     ]
    },
    {
     "name": "stdout",
     "output_type": "stream",
     "text": [
      "INFO:tensorflow:global step 212: loss = 4.2074 (0.472 sec/step)\n",
      "INFO:tensorflow:global step 213: loss = 4.8438 (0.605 sec/step)\n",
      "INFO:tensorflow:Recording summary at step 213.\n",
      "INFO:tensorflow:global step 214: loss = 3.0680 (0.707 sec/step)\n",
      "INFO:tensorflow:global step 215: loss = 4.9631 (0.469 sec/step)\n",
      "INFO:tensorflow:global step 216: loss = 3.9019 (0.464 sec/step)\n",
      "INFO:tensorflow:global step 217: loss = 3.2373 (0.457 sec/step)\n",
      "INFO:tensorflow:global step 218: loss = 4.2297 (0.459 sec/step)\n",
      "INFO:tensorflow:global step 219: loss = 3.8388 (0.470 sec/step)\n",
      "INFO:tensorflow:global step 220: loss = 2.9336 (0.476 sec/step)\n",
      "INFO:tensorflow:global_step/sec: 2.13574\n",
      "INFO:tensorflow:global step 221: loss = 4.7241 (0.484 sec/step)\n",
      "INFO:tensorflow:global step 222: loss = 4.2385 (0.457 sec/step)\n",
      "INFO:tensorflow:global step 223: loss = 4.0768 (0.462 sec/step)\n",
      "INFO:tensorflow:global step 224: loss = 4.4188 (0.454 sec/step)\n",
      "INFO:tensorflow:global step 225: loss = 3.8068 (0.458 sec/step)\n",
      "INFO:tensorflow:global step 226: loss = 3.5154 (0.471 sec/step)\n",
      "INFO:tensorflow:global step 227: loss = 4.4407 (0.491 sec/step)\n",
      "INFO:tensorflow:global step 228: loss = 6.0378 (0.457 sec/step)\n",
      "INFO:tensorflow:global step 229: loss = 4.1194 (0.476 sec/step)\n",
      "INFO:tensorflow:global step 230: loss = 4.0679 (0.459 sec/step)\n",
      "INFO:tensorflow:global step 231: loss = 3.7611 (0.469 sec/step)\n",
      "INFO:tensorflow:global step 232: loss = 3.2595 (0.460 sec/step)\n",
      "INFO:tensorflow:global step 233: loss = 3.9403 (0.502 sec/step)\n",
      "INFO:tensorflow:global step 234: loss = 4.1282 (0.453 sec/step)\n",
      "INFO:tensorflow:global step 235: loss = 4.7963 (0.471 sec/step)\n",
      "INFO:tensorflow:global step 236: loss = 3.4954 (0.462 sec/step)\n",
      "INFO:tensorflow:global step 237: loss = 3.6942 (0.457 sec/step)\n",
      "INFO:tensorflow:global step 238: loss = 3.0366 (0.470 sec/step)\n",
      "INFO:tensorflow:global step 239: loss = 3.7558 (0.473 sec/step)\n",
      "INFO:tensorflow:global step 240: loss = 3.7048 (0.458 sec/step)\n",
      "INFO:tensorflow:global step 241: loss = 4.2526 (0.458 sec/step)\n",
      "INFO:tensorflow:global step 242: loss = 2.7237 (0.472 sec/step)\n",
      "INFO:tensorflow:global step 243: loss = 3.7711 (0.469 sec/step)\n",
      "INFO:tensorflow:global step 244: loss = 3.7966 (0.501 sec/step)\n",
      "INFO:tensorflow:global step 245: loss = 2.6612 (0.453 sec/step)\n",
      "INFO:tensorflow:global step 246: loss = 3.4376 (0.512 sec/step)\n",
      "INFO:tensorflow:global step 247: loss = 4.1683 (0.544 sec/step)\n",
      "INFO:tensorflow:global step 248: loss = 3.0097 (0.547 sec/step)\n",
      "INFO:tensorflow:global step 249: loss = 3.1485 (0.543 sec/step)\n",
      "INFO:tensorflow:global step 250: loss = 3.8655 (0.513 sec/step)\n",
      "INFO:tensorflow:global step 251: loss = 4.1222 (0.482 sec/step)\n",
      "INFO:tensorflow:global step 252: loss = 4.0850 (0.466 sec/step)\n",
      "INFO:tensorflow:global step 253: loss = 4.3010 (0.504 sec/step)\n",
      "INFO:tensorflow:global step 254: loss = 4.0437 (0.465 sec/step)\n",
      "INFO:tensorflow:global step 255: loss = 3.2793 (0.460 sec/step)\n",
      "INFO:tensorflow:global step 256: loss = 4.4720 (0.465 sec/step)\n",
      "INFO:tensorflow:global step 257: loss = 4.9618 (0.463 sec/step)\n",
      "INFO:tensorflow:global step 258: loss = 3.2069 (0.482 sec/step)\n",
      "INFO:tensorflow:global step 259: loss = 5.4751 (0.465 sec/step)\n",
      "INFO:tensorflow:global step 260: loss = 3.8072 (0.459 sec/step)\n",
      "INFO:tensorflow:global step 261: loss = 3.6453 (0.451 sec/step)\n",
      "INFO:tensorflow:global step 262: loss = 4.0908 (0.512 sec/step)\n",
      "INFO:tensorflow:global step 263: loss = 3.1709 (0.451 sec/step)\n",
      "INFO:tensorflow:global step 264: loss = 3.7365 (0.458 sec/step)\n",
      "INFO:tensorflow:global step 265: loss = 3.4321 (0.471 sec/step)\n",
      "INFO:tensorflow:global step 266: loss = 4.2337 (0.464 sec/step)\n",
      "INFO:tensorflow:global step 267: loss = 4.8431 (0.465 sec/step)\n",
      "INFO:tensorflow:global step 268: loss = 3.6050 (0.460 sec/step)\n",
      "INFO:tensorflow:global step 269: loss = 3.7982 (0.470 sec/step)\n",
      "INFO:tensorflow:global step 270: loss = 3.2822 (0.459 sec/step)\n",
      "INFO:tensorflow:global step 271: loss = 4.4652 (0.461 sec/step)\n",
      "INFO:tensorflow:global step 272: loss = 4.5337 (0.469 sec/step)\n",
      "INFO:tensorflow:global step 273: loss = 3.9402 (0.456 sec/step)\n",
      "INFO:tensorflow:global step 274: loss = 4.7893 (0.474 sec/step)\n",
      "INFO:tensorflow:global step 275: loss = 3.4874 (0.550 sec/step)\n",
      "INFO:tensorflow:Recording summary at step 276.\n",
      "INFO:tensorflow:global step 276: loss = 2.9843 (0.789 sec/step)\n",
      "INFO:tensorflow:global step 277: loss = 3.8635 (0.482 sec/step)\n",
      "INFO:tensorflow:global step 278: loss = 3.3499 (0.466 sec/step)\n",
      "INFO:tensorflow:global step 279: loss = 3.5416 (0.467 sec/step)\n",
      "INFO:tensorflow:global step 280: loss = 4.0999 (0.473 sec/step)\n",
      "INFO:tensorflow:global step 281: loss = 3.7803 (0.453 sec/step)\n",
      "INFO:tensorflow:global step 282: loss = 3.9478 (0.470 sec/step)\n",
      "INFO:tensorflow:global_step/sec: 2.06374\n",
      "INFO:tensorflow:global step 283: loss = 2.9430 (0.465 sec/step)\n",
      "INFO:tensorflow:global step 284: loss = 3.2753 (0.471 sec/step)\n",
      "INFO:tensorflow:global step 285: loss = 3.9349 (0.476 sec/step)\n",
      "INFO:tensorflow:global step 286: loss = 3.1049 (0.462 sec/step)\n",
      "INFO:tensorflow:global step 287: loss = 3.0496 (0.470 sec/step)\n",
      "INFO:tensorflow:global step 288: loss = 3.9256 (0.465 sec/step)\n",
      "INFO:tensorflow:global step 289: loss = 5.8525 (0.473 sec/step)\n",
      "INFO:tensorflow:global step 290: loss = 3.0157 (0.466 sec/step)\n",
      "INFO:tensorflow:global step 291: loss = 3.7491 (0.469 sec/step)\n",
      "INFO:tensorflow:global step 292: loss = 3.1557 (0.456 sec/step)\n",
      "INFO:tensorflow:global step 293: loss = 3.3466 (0.486 sec/step)\n",
      "INFO:tensorflow:global step 294: loss = 3.2535 (0.468 sec/step)\n",
      "INFO:tensorflow:global step 295: loss = 3.2705 (0.475 sec/step)\n",
      "INFO:tensorflow:global step 296: loss = 3.8216 (0.464 sec/step)\n",
      "INFO:tensorflow:global step 297: loss = 3.4944 (0.460 sec/step)\n",
      "INFO:tensorflow:global step 298: loss = 4.1705 (0.500 sec/step)\n",
      "INFO:tensorflow:global step 299: loss = 2.9838 (0.471 sec/step)\n",
      "INFO:tensorflow:global step 300: loss = 3.0207 (0.455 sec/step)\n",
      "INFO:tensorflow:global step 301: loss = 3.0591 (0.494 sec/step)\n",
      "INFO:tensorflow:global step 302: loss = 3.3821 (0.467 sec/step)\n",
      "INFO:tensorflow:global step 303: loss = 3.1216 (0.469 sec/step)\n",
      "INFO:tensorflow:global step 304: loss = 5.2752 (0.475 sec/step)\n",
      "INFO:tensorflow:global step 305: loss = 3.1593 (0.460 sec/step)\n",
      "INFO:tensorflow:global step 306: loss = 3.5140 (0.467 sec/step)\n",
      "INFO:tensorflow:global step 307: loss = 4.0200 (0.496 sec/step)\n",
      "INFO:tensorflow:global step 308: loss = 3.2173 (0.460 sec/step)\n",
      "INFO:tensorflow:global step 309: loss = 3.6977 (0.491 sec/step)\n",
      "INFO:tensorflow:global step 310: loss = 4.4312 (0.498 sec/step)\n",
      "INFO:tensorflow:global step 311: loss = 3.8741 (0.468 sec/step)\n",
      "INFO:tensorflow:global step 312: loss = 2.5737 (0.459 sec/step)\n",
      "INFO:tensorflow:global step 313: loss = 4.3646 (0.470 sec/step)\n",
      "INFO:tensorflow:global step 314: loss = 4.5233 (0.481 sec/step)\n",
      "INFO:tensorflow:global step 315: loss = 3.1628 (0.458 sec/step)\n",
      "INFO:tensorflow:global step 316: loss = 3.7559 (0.499 sec/step)\n",
      "INFO:tensorflow:global step 317: loss = 5.3865 (0.477 sec/step)\n",
      "INFO:tensorflow:global step 318: loss = 4.0924 (0.476 sec/step)\n",
      "INFO:tensorflow:global step 319: loss = 3.6345 (0.457 sec/step)\n",
      "INFO:tensorflow:global step 320: loss = 3.1458 (0.458 sec/step)\n",
      "INFO:tensorflow:global step 321: loss = 3.7903 (0.457 sec/step)\n",
      "INFO:tensorflow:global step 322: loss = 4.5559 (0.467 sec/step)\n",
      "INFO:tensorflow:global step 323: loss = 3.9265 (0.487 sec/step)\n",
      "INFO:tensorflow:global step 324: loss = 3.5709 (0.461 sec/step)\n",
      "INFO:tensorflow:global step 325: loss = 2.2358 (0.451 sec/step)\n",
      "INFO:tensorflow:global step 326: loss = 4.0145 (0.454 sec/step)\n",
      "INFO:tensorflow:global step 327: loss = 4.1559 (0.458 sec/step)\n",
      "INFO:tensorflow:global step 328: loss = 3.8389 (0.497 sec/step)\n",
      "INFO:tensorflow:global step 329: loss = 3.5274 (0.524 sec/step)\n",
      "INFO:tensorflow:global step 330: loss = 4.7811 (0.472 sec/step)\n",
      "INFO:tensorflow:global step 331: loss = 4.5885 (0.466 sec/step)\n",
      "INFO:tensorflow:global step 332: loss = 4.4410 (0.469 sec/step)\n",
      "INFO:tensorflow:global step 333: loss = 3.2850 (0.468 sec/step)\n",
      "INFO:tensorflow:global step 334: loss = 2.9770 (0.465 sec/step)\n",
      "INFO:tensorflow:global step 335: loss = 4.2770 (0.477 sec/step)\n",
      "INFO:tensorflow:global step 336: loss = 3.4903 (0.466 sec/step)\n",
      "INFO:tensorflow:global step 337: loss = 3.6456 (0.510 sec/step)\n"
     ]
    },
    {
     "name": "stdout",
     "output_type": "stream",
     "text": [
      "INFO:tensorflow:global step 338: loss = 4.0225 (0.725 sec/step)\n",
      "INFO:tensorflow:Recording summary at step 338.\n",
      "INFO:tensorflow:global step 339: loss = 2.6609 (0.489 sec/step)\n",
      "INFO:tensorflow:global step 340: loss = 2.7996 (0.459 sec/step)\n",
      "INFO:tensorflow:global step 341: loss = 3.2887 (0.455 sec/step)\n",
      "INFO:tensorflow:global step 342: loss = 4.5026 (0.456 sec/step)\n",
      "INFO:tensorflow:global step 343: loss = 2.8404 (0.469 sec/step)\n",
      "INFO:tensorflow:global step 344: loss = 4.5667 (0.466 sec/step)\n",
      "INFO:tensorflow:global_step/sec: 2.06962\n",
      "INFO:tensorflow:global step 345: loss = 3.4594 (0.470 sec/step)\n",
      "INFO:tensorflow:global step 346: loss = 2.9454 (0.461 sec/step)\n",
      "INFO:tensorflow:global step 347: loss = 2.3753 (0.480 sec/step)\n",
      "INFO:tensorflow:global step 348: loss = 4.0999 (0.462 sec/step)\n",
      "INFO:tensorflow:global step 349: loss = 4.0784 (0.460 sec/step)\n",
      "INFO:tensorflow:global step 350: loss = 4.0461 (0.459 sec/step)\n",
      "INFO:tensorflow:global step 351: loss = 2.3226 (0.469 sec/step)\n",
      "INFO:tensorflow:global step 352: loss = 4.6844 (0.473 sec/step)\n",
      "INFO:tensorflow:global step 353: loss = 3.1910 (0.494 sec/step)\n",
      "INFO:tensorflow:global step 354: loss = 4.1294 (0.459 sec/step)\n",
      "INFO:tensorflow:global step 355: loss = 3.2826 (0.457 sec/step)\n",
      "INFO:tensorflow:global step 356: loss = 3.4845 (0.463 sec/step)\n",
      "INFO:tensorflow:global step 357: loss = 3.6328 (0.462 sec/step)\n",
      "INFO:tensorflow:global step 358: loss = 3.2417 (0.460 sec/step)\n",
      "INFO:tensorflow:global step 359: loss = 4.3670 (0.471 sec/step)\n",
      "INFO:tensorflow:global step 360: loss = 3.8777 (0.459 sec/step)\n",
      "INFO:tensorflow:global step 361: loss = 2.9562 (0.464 sec/step)\n",
      "INFO:tensorflow:global step 362: loss = 4.4260 (0.477 sec/step)\n",
      "INFO:tensorflow:global step 363: loss = 3.1457 (0.468 sec/step)\n",
      "INFO:tensorflow:global step 364: loss = 3.7697 (0.464 sec/step)\n",
      "INFO:tensorflow:global step 365: loss = 4.9549 (0.479 sec/step)\n",
      "INFO:tensorflow:global step 366: loss = 3.3241 (0.495 sec/step)\n",
      "INFO:tensorflow:global step 367: loss = 3.6313 (0.461 sec/step)\n",
      "INFO:tensorflow:global step 368: loss = 4.0644 (0.471 sec/step)\n",
      "INFO:tensorflow:global step 369: loss = 2.6092 (0.457 sec/step)\n",
      "INFO:tensorflow:global step 370: loss = 3.9420 (0.467 sec/step)\n",
      "INFO:tensorflow:global step 371: loss = 4.1977 (0.499 sec/step)\n",
      "INFO:tensorflow:global step 372: loss = 3.4196 (0.464 sec/step)\n",
      "INFO:tensorflow:global step 373: loss = 6.4452 (0.476 sec/step)\n",
      "INFO:tensorflow:global step 374: loss = 4.5240 (0.465 sec/step)\n",
      "INFO:tensorflow:global step 375: loss = 3.3616 (0.458 sec/step)\n",
      "INFO:tensorflow:global step 376: loss = 5.3467 (0.477 sec/step)\n",
      "INFO:tensorflow:global step 377: loss = 4.6041 (0.466 sec/step)\n",
      "INFO:tensorflow:global step 378: loss = 3.4864 (0.453 sec/step)\n",
      "INFO:tensorflow:global step 379: loss = 3.3379 (0.465 sec/step)\n",
      "INFO:tensorflow:global step 380: loss = 2.7581 (0.464 sec/step)\n",
      "INFO:tensorflow:global step 381: loss = 2.7502 (0.457 sec/step)\n",
      "INFO:tensorflow:global step 382: loss = 3.6637 (0.474 sec/step)\n",
      "INFO:tensorflow:global step 383: loss = 3.2896 (0.462 sec/step)\n",
      "INFO:tensorflow:global step 384: loss = 3.2373 (0.471 sec/step)\n",
      "INFO:tensorflow:global step 385: loss = 3.7063 (0.495 sec/step)\n",
      "INFO:tensorflow:global step 386: loss = 4.5164 (0.456 sec/step)\n",
      "INFO:tensorflow:global step 387: loss = 3.9461 (0.459 sec/step)\n",
      "INFO:tensorflow:global step 388: loss = 3.1924 (0.476 sec/step)\n",
      "INFO:tensorflow:global step 389: loss = 5.2789 (0.477 sec/step)\n",
      "INFO:tensorflow:global step 390: loss = 3.2624 (0.462 sec/step)\n",
      "INFO:tensorflow:global step 391: loss = 4.4478 (0.467 sec/step)\n",
      "INFO:tensorflow:global step 392: loss = 4.5755 (0.480 sec/step)\n",
      "INFO:tensorflow:global step 393: loss = 3.5182 (0.463 sec/step)\n",
      "INFO:tensorflow:global step 394: loss = 3.2562 (0.467 sec/step)\n",
      "INFO:tensorflow:global step 395: loss = 3.3993 (0.461 sec/step)\n",
      "INFO:tensorflow:global step 396: loss = 2.3640 (0.469 sec/step)\n",
      "INFO:tensorflow:global step 397: loss = 2.9475 (0.463 sec/step)\n",
      "INFO:tensorflow:global step 398: loss = 5.8862 (0.469 sec/step)\n",
      "INFO:tensorflow:global step 399: loss = 3.5175 (0.464 sec/step)\n",
      "INFO:tensorflow:global step 400: loss = 3.0326 (0.508 sec/step)\n",
      "INFO:tensorflow:global step 401: loss = 2.7685 (0.625 sec/step)\n",
      "INFO:tensorflow:Recording summary at step 401.\n",
      "INFO:tensorflow:global step 402: loss = 3.4502 (0.517 sec/step)\n",
      "INFO:tensorflow:global step 403: loss = 4.2047 (0.477 sec/step)\n",
      "INFO:tensorflow:global step 404: loss = 4.2861 (0.460 sec/step)\n",
      "INFO:tensorflow:global step 405: loss = 2.3078 (0.456 sec/step)\n",
      "INFO:tensorflow:global step 406: loss = 3.3425 (0.466 sec/step)\n",
      "INFO:tensorflow:global step 407: loss = 4.0931 (0.478 sec/step)\n",
      "INFO:tensorflow:global_step/sec: 2.09995\n",
      "INFO:tensorflow:global step 408: loss = 3.4770 (0.471 sec/step)\n",
      "INFO:tensorflow:global step 409: loss = 4.3081 (0.468 sec/step)\n",
      "INFO:tensorflow:global step 410: loss = 2.7778 (0.470 sec/step)\n",
      "INFO:tensorflow:global step 411: loss = 3.3977 (0.465 sec/step)\n",
      "INFO:tensorflow:global step 412: loss = 3.8373 (0.473 sec/step)\n",
      "INFO:tensorflow:global step 413: loss = 3.5417 (0.488 sec/step)\n",
      "INFO:tensorflow:global step 414: loss = 2.3122 (0.456 sec/step)\n",
      "INFO:tensorflow:global step 415: loss = 3.7188 (0.474 sec/step)\n",
      "INFO:tensorflow:global step 416: loss = 3.3535 (0.478 sec/step)\n",
      "INFO:tensorflow:global step 417: loss = 3.8832 (0.483 sec/step)\n",
      "INFO:tensorflow:global step 418: loss = 4.1841 (0.462 sec/step)\n",
      "INFO:tensorflow:global step 419: loss = 2.6934 (0.478 sec/step)\n",
      "INFO:tensorflow:global step 420: loss = 2.4320 (0.462 sec/step)\n",
      "INFO:tensorflow:global step 421: loss = 3.4944 (0.501 sec/step)\n",
      "INFO:tensorflow:global step 422: loss = 2.9343 (0.505 sec/step)\n",
      "INFO:tensorflow:global step 423: loss = 3.2315 (0.460 sec/step)\n",
      "INFO:tensorflow:global step 424: loss = 2.5274 (0.465 sec/step)\n",
      "INFO:tensorflow:global step 425: loss = 2.9878 (0.463 sec/step)\n",
      "INFO:tensorflow:global step 426: loss = 3.4518 (0.463 sec/step)\n",
      "INFO:tensorflow:global step 427: loss = 3.0622 (0.463 sec/step)\n",
      "INFO:tensorflow:global step 428: loss = 5.4907 (0.476 sec/step)\n",
      "INFO:tensorflow:global step 429: loss = 3.7174 (0.474 sec/step)\n",
      "INFO:tensorflow:global step 430: loss = 4.5496 (0.506 sec/step)\n",
      "INFO:tensorflow:global step 431: loss = 3.0855 (0.482 sec/step)\n",
      "INFO:tensorflow:global step 432: loss = 3.0946 (0.464 sec/step)\n",
      "INFO:tensorflow:global step 433: loss = 4.3455 (0.474 sec/step)\n",
      "INFO:tensorflow:global step 434: loss = 5.2400 (0.463 sec/step)\n",
      "INFO:tensorflow:global step 435: loss = 3.3038 (0.470 sec/step)\n",
      "INFO:tensorflow:global step 436: loss = 3.5172 (0.463 sec/step)\n",
      "INFO:tensorflow:global step 437: loss = 2.9870 (0.483 sec/step)\n",
      "INFO:tensorflow:global step 438: loss = 3.2912 (0.462 sec/step)\n",
      "INFO:tensorflow:global step 439: loss = 3.4786 (0.463 sec/step)\n",
      "INFO:tensorflow:global step 440: loss = 3.6274 (0.471 sec/step)\n",
      "INFO:tensorflow:global step 441: loss = 3.1472 (0.464 sec/step)\n",
      "INFO:tensorflow:global step 442: loss = 3.2762 (0.465 sec/step)\n",
      "INFO:tensorflow:global step 443: loss = 1.7700 (0.478 sec/step)\n",
      "INFO:tensorflow:global step 444: loss = 3.2895 (0.459 sec/step)\n",
      "INFO:tensorflow:global step 445: loss = 2.7766 (0.472 sec/step)\n",
      "INFO:tensorflow:global step 446: loss = 3.5373 (0.470 sec/step)\n",
      "INFO:tensorflow:global step 447: loss = 4.3348 (0.465 sec/step)\n",
      "INFO:tensorflow:global step 448: loss = 3.1083 (0.466 sec/step)\n",
      "INFO:tensorflow:global step 449: loss = 2.5632 (0.460 sec/step)\n",
      "INFO:tensorflow:global step 450: loss = 2.7190 (0.457 sec/step)\n",
      "INFO:tensorflow:global step 451: loss = 3.5965 (0.461 sec/step)\n",
      "INFO:tensorflow:global step 452: loss = 3.5576 (0.473 sec/step)\n",
      "INFO:tensorflow:global step 453: loss = 4.1831 (0.462 sec/step)\n",
      "INFO:tensorflow:global step 454: loss = 3.4717 (0.496 sec/step)\n",
      "INFO:tensorflow:global step 455: loss = 3.5454 (0.463 sec/step)\n",
      "INFO:tensorflow:global step 456: loss = 3.1149 (0.466 sec/step)\n",
      "INFO:tensorflow:global step 457: loss = 3.9085 (0.511 sec/step)\n",
      "INFO:tensorflow:global step 458: loss = 1.8851 (0.464 sec/step)\n",
      "INFO:tensorflow:global step 459: loss = 2.7725 (0.474 sec/step)\n",
      "INFO:tensorflow:global step 460: loss = 4.0544 (0.478 sec/step)\n",
      "INFO:tensorflow:global step 461: loss = 3.2759 (0.469 sec/step)\n",
      "INFO:tensorflow:global step 462: loss = 2.4745 (0.474 sec/step)\n",
      "INFO:tensorflow:global step 463: loss = 2.2680 (0.643 sec/step)\n"
     ]
    },
    {
     "name": "stdout",
     "output_type": "stream",
     "text": [
      "INFO:tensorflow:Recording summary at step 463.\n",
      "INFO:tensorflow:global step 464: loss = 3.3080 (0.778 sec/step)\n",
      "INFO:tensorflow:global step 465: loss = 2.7286 (0.494 sec/step)\n",
      "INFO:tensorflow:global step 466: loss = 4.1188 (0.461 sec/step)\n",
      "INFO:tensorflow:global step 467: loss = 3.4429 (0.457 sec/step)\n",
      "INFO:tensorflow:global step 468: loss = 4.2247 (0.490 sec/step)\n",
      "INFO:tensorflow:global step 469: loss = 2.7050 (0.469 sec/step)\n",
      "INFO:tensorflow:global_step/sec: 2.06671\n",
      "INFO:tensorflow:global step 470: loss = 3.9286 (0.469 sec/step)\n",
      "INFO:tensorflow:global step 471: loss = 2.5912 (0.477 sec/step)\n",
      "INFO:tensorflow:global step 472: loss = 3.2911 (0.463 sec/step)\n",
      "INFO:tensorflow:global step 473: loss = 3.6786 (0.490 sec/step)\n",
      "INFO:tensorflow:global step 474: loss = 3.7500 (0.487 sec/step)\n",
      "INFO:tensorflow:global step 475: loss = 4.3300 (0.473 sec/step)\n",
      "INFO:tensorflow:global step 476: loss = 3.6619 (0.479 sec/step)\n",
      "INFO:tensorflow:global step 477: loss = 3.4777 (0.462 sec/step)\n",
      "INFO:tensorflow:global step 478: loss = 2.2033 (0.484 sec/step)\n",
      "INFO:tensorflow:global step 479: loss = 2.4844 (0.464 sec/step)\n",
      "INFO:tensorflow:global step 480: loss = 2.8357 (0.465 sec/step)\n",
      "INFO:tensorflow:global step 481: loss = 3.4283 (0.462 sec/step)\n",
      "INFO:tensorflow:global step 482: loss = 2.3520 (0.484 sec/step)\n",
      "INFO:tensorflow:global step 483: loss = 2.2186 (0.473 sec/step)\n",
      "INFO:tensorflow:global step 484: loss = 2.8040 (0.468 sec/step)\n",
      "INFO:tensorflow:global step 485: loss = 2.3009 (0.511 sec/step)\n",
      "INFO:tensorflow:global step 486: loss = 2.6951 (0.473 sec/step)\n",
      "INFO:tensorflow:global step 487: loss = 2.4549 (0.467 sec/step)\n",
      "INFO:tensorflow:global step 488: loss = 2.7133 (0.480 sec/step)\n",
      "INFO:tensorflow:global step 489: loss = 2.8021 (0.506 sec/step)\n",
      "INFO:tensorflow:global step 490: loss = 3.2609 (0.463 sec/step)\n",
      "INFO:tensorflow:global step 491: loss = 3.8577 (0.474 sec/step)\n",
      "INFO:tensorflow:global step 492: loss = 3.0507 (0.473 sec/step)\n",
      "INFO:tensorflow:global step 493: loss = 3.5926 (0.471 sec/step)\n",
      "INFO:tensorflow:global step 494: loss = 3.2929 (0.492 sec/step)\n",
      "INFO:tensorflow:global step 495: loss = 3.0940 (0.474 sec/step)\n",
      "INFO:tensorflow:global step 496: loss = 3.4796 (0.488 sec/step)\n",
      "INFO:tensorflow:global step 497: loss = 3.3364 (0.477 sec/step)\n",
      "INFO:tensorflow:global step 498: loss = 3.0851 (0.463 sec/step)\n",
      "INFO:tensorflow:global step 499: loss = 3.1594 (0.466 sec/step)\n",
      "INFO:tensorflow:global step 500: loss = 3.4026 (0.496 sec/step)\n",
      "INFO:tensorflow:global step 501: loss = 2.3058 (0.518 sec/step)\n",
      "INFO:tensorflow:global step 502: loss = 3.0190 (0.470 sec/step)\n",
      "INFO:tensorflow:global step 503: loss = 3.4633 (0.466 sec/step)\n",
      "INFO:tensorflow:global step 504: loss = 3.2084 (0.478 sec/step)\n",
      "INFO:tensorflow:global step 505: loss = 4.9566 (0.468 sec/step)\n",
      "INFO:tensorflow:global step 506: loss = 2.2259 (0.481 sec/step)\n",
      "INFO:tensorflow:global step 507: loss = 2.3154 (0.478 sec/step)\n",
      "INFO:tensorflow:global step 508: loss = 3.5644 (0.462 sec/step)\n",
      "INFO:tensorflow:global step 509: loss = 2.8041 (0.468 sec/step)\n",
      "INFO:tensorflow:global step 510: loss = 4.4759 (0.466 sec/step)\n",
      "INFO:tensorflow:global step 511: loss = 3.2649 (0.481 sec/step)\n",
      "INFO:tensorflow:global step 512: loss = 3.3947 (0.466 sec/step)\n",
      "INFO:tensorflow:global step 513: loss = 2.2093 (0.480 sec/step)\n",
      "INFO:tensorflow:global step 514: loss = 2.8887 (0.471 sec/step)\n",
      "INFO:tensorflow:global step 515: loss = 2.8704 (0.488 sec/step)\n",
      "INFO:tensorflow:global step 516: loss = 3.3309 (0.483 sec/step)\n",
      "INFO:tensorflow:global step 517: loss = 3.9589 (0.474 sec/step)\n",
      "INFO:tensorflow:global step 518: loss = 3.7002 (0.467 sec/step)\n",
      "INFO:tensorflow:global step 519: loss = 2.8506 (0.464 sec/step)\n",
      "INFO:tensorflow:global step 520: loss = 4.2710 (0.470 sec/step)\n",
      "INFO:tensorflow:global step 521: loss = 1.8356 (0.464 sec/step)\n",
      "INFO:tensorflow:global step 522: loss = 2.3537 (0.477 sec/step)\n",
      "INFO:tensorflow:global step 523: loss = 3.4608 (0.463 sec/step)\n",
      "INFO:tensorflow:global step 524: loss = 2.8931 (0.468 sec/step)\n",
      "INFO:tensorflow:global step 525: loss = 3.3378 (0.662 sec/step)\n",
      "INFO:tensorflow:Recording summary at step 525.\n",
      "INFO:tensorflow:global step 526: loss = 2.9711 (0.706 sec/step)\n",
      "INFO:tensorflow:global step 527: loss = 2.9479 (0.485 sec/step)\n",
      "INFO:tensorflow:global step 528: loss = 3.8891 (0.484 sec/step)\n",
      "INFO:tensorflow:global step 529: loss = 2.9202 (0.515 sec/step)\n",
      "INFO:tensorflow:global step 530: loss = 3.0756 (0.471 sec/step)\n",
      "INFO:tensorflow:global step 531: loss = 3.0172 (0.496 sec/step)\n",
      "INFO:tensorflow:global_step/sec: 2.06667\n",
      "INFO:tensorflow:global step 532: loss = 2.9433 (0.460 sec/step)\n",
      "INFO:tensorflow:global step 533: loss = 3.7375 (0.461 sec/step)\n",
      "INFO:tensorflow:global step 534: loss = 2.4971 (0.516 sec/step)\n",
      "INFO:tensorflow:global step 535: loss = 2.5180 (0.467 sec/step)\n",
      "INFO:tensorflow:global step 536: loss = 2.7249 (0.503 sec/step)\n",
      "INFO:tensorflow:global step 537: loss = 3.0160 (0.465 sec/step)\n",
      "INFO:tensorflow:global step 538: loss = 2.9189 (0.465 sec/step)\n",
      "INFO:tensorflow:global step 539: loss = 3.3637 (0.472 sec/step)\n",
      "INFO:tensorflow:global step 540: loss = 2.8613 (0.459 sec/step)\n",
      "INFO:tensorflow:global step 541: loss = 4.2308 (0.470 sec/step)\n",
      "INFO:tensorflow:global step 542: loss = 3.4728 (0.474 sec/step)\n",
      "INFO:tensorflow:global step 543: loss = 4.0822 (0.463 sec/step)\n",
      "INFO:tensorflow:global step 544: loss = 3.1250 (0.477 sec/step)\n",
      "INFO:tensorflow:global step 545: loss = 3.8322 (0.480 sec/step)\n",
      "INFO:tensorflow:global step 546: loss = 3.0936 (0.472 sec/step)\n",
      "INFO:tensorflow:global step 547: loss = 4.5165 (0.468 sec/step)\n",
      "INFO:tensorflow:global step 548: loss = 4.5040 (0.460 sec/step)\n",
      "INFO:tensorflow:global step 549: loss = 1.4273 (0.471 sec/step)\n",
      "INFO:tensorflow:global step 550: loss = 2.1684 (0.468 sec/step)\n",
      "INFO:tensorflow:global step 551: loss = 3.1891 (0.479 sec/step)\n",
      "INFO:tensorflow:global step 552: loss = 3.2022 (0.467 sec/step)\n",
      "INFO:tensorflow:global step 553: loss = 2.6729 (0.472 sec/step)\n",
      "INFO:tensorflow:global step 554: loss = 1.8992 (0.471 sec/step)\n",
      "INFO:tensorflow:global step 555: loss = 3.4539 (0.471 sec/step)\n",
      "INFO:tensorflow:global step 556: loss = 3.4637 (0.519 sec/step)\n",
      "INFO:tensorflow:global step 557: loss = 3.7157 (0.458 sec/step)\n",
      "INFO:tensorflow:global step 558: loss = 2.7921 (0.457 sec/step)\n",
      "INFO:tensorflow:global step 559: loss = 3.4854 (0.470 sec/step)\n",
      "INFO:tensorflow:global step 560: loss = 2.4520 (0.461 sec/step)\n",
      "INFO:tensorflow:global step 561: loss = 2.1344 (0.467 sec/step)\n",
      "INFO:tensorflow:global step 562: loss = 2.4704 (0.471 sec/step)\n",
      "INFO:tensorflow:global step 563: loss = 3.4567 (0.469 sec/step)\n",
      "INFO:tensorflow:global step 564: loss = 3.3394 (0.468 sec/step)\n",
      "INFO:tensorflow:global step 565: loss = 2.2762 (0.464 sec/step)\n",
      "INFO:tensorflow:global step 566: loss = 3.2651 (0.470 sec/step)\n",
      "INFO:tensorflow:global step 567: loss = 2.5334 (0.460 sec/step)\n",
      "INFO:tensorflow:global step 568: loss = 3.3644 (0.462 sec/step)\n",
      "INFO:tensorflow:global step 569: loss = 2.6252 (0.507 sec/step)\n",
      "INFO:tensorflow:global step 570: loss = 2.9097 (0.482 sec/step)\n",
      "INFO:tensorflow:global step 571: loss = 2.1408 (0.469 sec/step)\n",
      "INFO:tensorflow:global step 572: loss = 2.9013 (0.467 sec/step)\n",
      "INFO:tensorflow:global step 573: loss = 2.9674 (0.469 sec/step)\n",
      "INFO:tensorflow:global step 574: loss = 2.4992 (0.463 sec/step)\n",
      "INFO:tensorflow:global step 575: loss = 3.1665 (0.469 sec/step)\n",
      "INFO:tensorflow:global step 576: loss = 3.8159 (0.467 sec/step)\n",
      "INFO:tensorflow:global step 577: loss = 3.0740 (0.472 sec/step)\n",
      "INFO:tensorflow:global step 578: loss = 4.3989 (0.465 sec/step)\n",
      "INFO:tensorflow:global step 579: loss = 2.6359 (0.465 sec/step)\n",
      "INFO:tensorflow:global step 580: loss = 3.3713 (0.474 sec/step)\n",
      "INFO:tensorflow:global step 581: loss = 3.0860 (0.474 sec/step)\n",
      "INFO:tensorflow:global step 582: loss = 4.1905 (0.491 sec/step)\n",
      "INFO:tensorflow:global step 583: loss = 5.3336 (0.463 sec/step)\n",
      "INFO:tensorflow:global step 584: loss = 2.7791 (0.481 sec/step)\n",
      "INFO:tensorflow:global step 585: loss = 3.3285 (0.471 sec/step)\n",
      "INFO:tensorflow:global step 586: loss = 2.2901 (0.474 sec/step)\n",
      "INFO:tensorflow:global step 587: loss = 2.0500 (0.659 sec/step)\n",
      "INFO:tensorflow:Recording summary at step 587.\n",
      "INFO:tensorflow:global step 588: loss = 4.6228 (0.736 sec/step)\n"
     ]
    },
    {
     "name": "stdout",
     "output_type": "stream",
     "text": [
      "INFO:tensorflow:global step 589: loss = 4.2389 (0.503 sec/step)\n",
      "INFO:tensorflow:global step 590: loss = 1.7654 (0.485 sec/step)\n",
      "INFO:tensorflow:global step 591: loss = 1.9244 (0.487 sec/step)\n",
      "INFO:tensorflow:global step 592: loss = 2.3706 (0.469 sec/step)\n",
      "INFO:tensorflow:global step 593: loss = 3.2308 (0.470 sec/step)\n",
      "INFO:tensorflow:global step 594: loss = 3.1373 (0.472 sec/step)\n",
      "INFO:tensorflow:global step 595: loss = 3.0130 (0.466 sec/step)\n",
      "INFO:tensorflow:global step 596: loss = 3.1031 (0.485 sec/step)\n",
      "INFO:tensorflow:global step 597: loss = 2.4714 (0.483 sec/step)\n",
      "INFO:tensorflow:global step 598: loss = 2.3869 (0.472 sec/step)\n",
      "INFO:tensorflow:global step 599: loss = 2.7383 (0.472 sec/step)\n",
      "INFO:tensorflow:global step 600: loss = 2.8196 (0.468 sec/step)\n",
      "INFO:tensorflow:global step 601: loss = 4.1617 (0.471 sec/step)\n",
      "INFO:tensorflow:global step 602: loss = 2.8166 (0.507 sec/step)\n",
      "INFO:tensorflow:global step 603: loss = 4.0632 (0.490 sec/step)\n",
      "INFO:tensorflow:global step 604: loss = 4.1347 (0.466 sec/step)\n",
      "INFO:tensorflow:global step 605: loss = 3.5098 (0.460 sec/step)\n",
      "INFO:tensorflow:global step 606: loss = 2.9481 (0.467 sec/step)\n",
      "INFO:tensorflow:global step 607: loss = 2.7008 (0.476 sec/step)\n",
      "INFO:tensorflow:global step 608: loss = 2.1225 (0.468 sec/step)\n",
      "INFO:tensorflow:global step 609: loss = 2.1886 (0.519 sec/step)\n",
      "INFO:tensorflow:global step 610: loss = 3.0718 (0.474 sec/step)\n",
      "INFO:tensorflow:global step 611: loss = 1.9551 (0.470 sec/step)\n",
      "INFO:tensorflow:global step 612: loss = 3.0872 (0.462 sec/step)\n",
      "INFO:tensorflow:global step 613: loss = 3.5208 (0.465 sec/step)\n",
      "INFO:tensorflow:global step 614: loss = 3.0671 (0.456 sec/step)\n",
      "INFO:tensorflow:global step 615: loss = 4.5890 (0.503 sec/step)\n",
      "INFO:tensorflow:global step 616: loss = 2.3614 (0.465 sec/step)\n",
      "INFO:tensorflow:global step 617: loss = 4.0650 (0.470 sec/step)\n",
      "INFO:tensorflow:global step 618: loss = 1.9255 (0.467 sec/step)\n",
      "INFO:tensorflow:global step 619: loss = 4.1359 (0.502 sec/step)\n",
      "INFO:tensorflow:global step 620: loss = 3.2145 (0.565 sec/step)\n",
      "INFO:tensorflow:global step 621: loss = 2.8448 (0.566 sec/step)\n",
      "INFO:tensorflow:global step 622: loss = 2.8685 (0.518 sec/step)\n",
      "INFO:tensorflow:global step 623: loss = 2.0329 (0.507 sec/step)\n",
      "INFO:tensorflow:global step 624: loss = 2.2912 (0.483 sec/step)\n",
      "INFO:tensorflow:global step 625: loss = 2.4008 (0.502 sec/step)\n",
      "INFO:tensorflow:global step 626: loss = 2.4500 (0.480 sec/step)\n",
      "INFO:tensorflow:global step 627: loss = 3.0839 (0.463 sec/step)\n",
      "INFO:tensorflow:global step 628: loss = 4.0347 (0.499 sec/step)\n",
      "INFO:tensorflow:global step 629: loss = 3.1898 (0.509 sec/step)\n",
      "INFO:tensorflow:global step 630: loss = 3.1823 (0.486 sec/step)\n",
      "INFO:tensorflow:global step 631: loss = 3.2471 (0.473 sec/step)\n",
      "INFO:tensorflow:global step 632: loss = 3.4843 (0.464 sec/step)\n",
      "INFO:tensorflow:global step 633: loss = 3.9169 (0.457 sec/step)\n",
      "INFO:tensorflow:global step 634: loss = 2.7224 (0.462 sec/step)\n",
      "INFO:tensorflow:global step 635: loss = 3.0563 (0.458 sec/step)\n",
      "INFO:tensorflow:global step 636: loss = 2.6906 (0.465 sec/step)\n",
      "INFO:tensorflow:global step 637: loss = 4.6079 (0.467 sec/step)\n",
      "INFO:tensorflow:global step 638: loss = 2.8183 (0.462 sec/step)\n",
      "INFO:tensorflow:global step 639: loss = 2.6790 (0.460 sec/step)\n",
      "INFO:tensorflow:global step 640: loss = 3.1720 (0.478 sec/step)\n",
      "INFO:tensorflow:global step 641: loss = 2.6419 (0.476 sec/step)\n",
      "INFO:tensorflow:global step 642: loss = 2.5325 (0.479 sec/step)\n",
      "INFO:tensorflow:global step 643: loss = 2.3581 (0.462 sec/step)\n",
      "INFO:tensorflow:global step 644: loss = 3.6670 (0.473 sec/step)\n",
      "INFO:tensorflow:global step 645: loss = 3.5849 (0.467 sec/step)\n",
      "INFO:tensorflow:global step 646: loss = 2.6085 (0.504 sec/step)\n",
      "INFO:tensorflow:global step 647: loss = 3.2783 (0.466 sec/step)\n",
      "INFO:tensorflow:global step 648: loss = 2.6201 (0.581 sec/step)\n",
      "INFO:tensorflow:Recording summary at step 648.\n",
      "INFO:tensorflow:global step 649: loss = 4.4248 (0.780 sec/step)\n",
      "INFO:tensorflow:global step 650: loss = 4.7057 (0.471 sec/step)\n",
      "INFO:tensorflow:global step 651: loss = 3.1933 (0.462 sec/step)\n",
      "INFO:tensorflow:global step 652: loss = 3.1864 (0.470 sec/step)\n",
      "INFO:tensorflow:global step 653: loss = 2.4547 (0.472 sec/step)\n",
      "INFO:tensorflow:global step 654: loss = 2.6003 (0.482 sec/step)\n",
      "INFO:tensorflow:global step 655: loss = 3.0090 (0.474 sec/step)\n",
      "INFO:tensorflow:global step 656: loss = 2.0975 (0.468 sec/step)\n",
      "INFO:tensorflow:global step 657: loss = 3.4193 (0.466 sec/step)\n",
      "INFO:tensorflow:global step 658: loss = 4.0097 (0.473 sec/step)\n",
      "INFO:tensorflow:global step 659: loss = 2.7544 (0.465 sec/step)\n",
      "INFO:tensorflow:global step 660: loss = 2.5287 (0.506 sec/step)\n",
      "INFO:tensorflow:global step 661: loss = 2.8612 (0.502 sec/step)\n",
      "INFO:tensorflow:global step 662: loss = 2.3302 (0.486 sec/step)\n",
      "INFO:tensorflow:global step 663: loss = 2.9590 (0.479 sec/step)\n",
      "INFO:tensorflow:global step 664: loss = 2.8328 (0.474 sec/step)\n",
      "INFO:tensorflow:global step 665: loss = 2.4457 (0.482 sec/step)\n",
      "INFO:tensorflow:global step 666: loss = 2.5159 (0.469 sec/step)\n",
      "INFO:tensorflow:global step 667: loss = 2.1983 (0.484 sec/step)\n",
      "INFO:tensorflow:global step 668: loss = 4.9251 (0.483 sec/step)\n",
      "INFO:tensorflow:global step 669: loss = 2.9680 (0.464 sec/step)\n",
      "INFO:tensorflow:global step 670: loss = 3.1768 (0.473 sec/step)\n",
      "INFO:tensorflow:global step 671: loss = 2.8994 (0.482 sec/step)\n",
      "INFO:tensorflow:global step 672: loss = 3.2426 (0.510 sec/step)\n",
      "INFO:tensorflow:global step 673: loss = 2.4279 (0.522 sec/step)\n",
      "INFO:tensorflow:global step 674: loss = 2.4783 (0.520 sec/step)\n",
      "INFO:tensorflow:global step 675: loss = 2.2851 (0.471 sec/step)\n",
      "INFO:tensorflow:global step 676: loss = 4.4111 (0.474 sec/step)\n",
      "INFO:tensorflow:global step 677: loss = 3.6347 (0.486 sec/step)\n",
      "INFO:tensorflow:global step 678: loss = 3.4180 (0.478 sec/step)\n",
      "INFO:tensorflow:global step 679: loss = 2.7763 (0.481 sec/step)\n",
      "INFO:tensorflow:global step 680: loss = 2.3096 (0.470 sec/step)\n",
      "INFO:tensorflow:global step 681: loss = 2.6963 (0.472 sec/step)\n",
      "INFO:tensorflow:global step 682: loss = 3.5345 (0.506 sec/step)\n",
      "INFO:tensorflow:global step 683: loss = 3.2451 (0.476 sec/step)\n",
      "INFO:tensorflow:global step 684: loss = 2.0459 (0.480 sec/step)\n",
      "INFO:tensorflow:global step 685: loss = 3.0813 (0.490 sec/step)\n",
      "INFO:tensorflow:global step 686: loss = 3.8821 (0.481 sec/step)\n",
      "INFO:tensorflow:global step 687: loss = 3.7279 (0.466 sec/step)\n",
      "INFO:tensorflow:global step 688: loss = 3.3873 (0.463 sec/step)\n",
      "INFO:tensorflow:global step 689: loss = 1.8730 (0.481 sec/step)\n",
      "INFO:tensorflow:global step 690: loss = 3.2099 (0.465 sec/step)\n",
      "INFO:tensorflow:global step 691: loss = 2.6122 (0.483 sec/step)\n",
      "INFO:tensorflow:global step 692: loss = 4.0948 (0.464 sec/step)\n",
      "INFO:tensorflow:global step 693: loss = 3.8844 (0.480 sec/step)\n",
      "INFO:tensorflow:global step 694: loss = 2.2395 (0.462 sec/step)\n",
      "INFO:tensorflow:global step 695: loss = 1.9255 (0.479 sec/step)\n",
      "INFO:tensorflow:global step 696: loss = 3.4094 (0.494 sec/step)\n",
      "INFO:tensorflow:global step 697: loss = 2.2252 (0.491 sec/step)\n",
      "INFO:tensorflow:global step 698: loss = 2.1242 (0.505 sec/step)\n",
      "INFO:tensorflow:global step 699: loss = 2.4920 (0.468 sec/step)\n",
      "INFO:tensorflow:global step 700: loss = 3.2354 (0.465 sec/step)\n",
      "INFO:tensorflow:global step 701: loss = 2.3653 (0.524 sec/step)\n",
      "INFO:tensorflow:global step 702: loss = 2.7518 (0.468 sec/step)\n",
      "INFO:tensorflow:global step 703: loss = 1.8302 (0.468 sec/step)\n",
      "INFO:tensorflow:global step 704: loss = 3.1541 (0.463 sec/step)\n",
      "INFO:tensorflow:global step 705: loss = 3.5769 (0.485 sec/step)\n",
      "INFO:tensorflow:global step 706: loss = 3.1529 (0.469 sec/step)\n",
      "INFO:tensorflow:global step 707: loss = 2.7813 (0.467 sec/step)\n",
      "INFO:tensorflow:global step 708: loss = 2.5188 (0.468 sec/step)\n",
      "INFO:tensorflow:global step 709: loss = 3.7578 (0.511 sec/step)\n",
      "INFO:tensorflow:global step 710: loss = 2.0091 (0.631 sec/step)\n",
      "INFO:tensorflow:Recording summary at step 710.\n",
      "INFO:tensorflow:global step 711: loss = 3.0094 (0.518 sec/step)\n",
      "INFO:tensorflow:global step 712: loss = 3.4420 (0.460 sec/step)\n",
      "INFO:tensorflow:global step 713: loss = 2.5940 (0.464 sec/step)\n",
      "INFO:tensorflow:global step 714: loss = 1.6447 (0.476 sec/step)\n",
      "INFO:tensorflow:global step 715: loss = 4.2601 (0.477 sec/step)\n"
     ]
    },
    {
     "name": "stdout",
     "output_type": "stream",
     "text": [
      "INFO:tensorflow:global step 716: loss = 2.7863 (0.481 sec/step)\n",
      "INFO:tensorflow:global step 717: loss = 2.4377 (0.475 sec/step)\n",
      "INFO:tensorflow:global step 718: loss = 2.1695 (0.506 sec/step)\n",
      "INFO:tensorflow:global step 719: loss = 3.0293 (0.473 sec/step)\n",
      "INFO:tensorflow:global step 720: loss = 2.0162 (0.466 sec/step)\n",
      "INFO:tensorflow:global step 721: loss = 2.7067 (0.475 sec/step)\n",
      "INFO:tensorflow:global step 722: loss = 2.7878 (0.473 sec/step)\n",
      "INFO:tensorflow:global step 723: loss = 3.4682 (0.478 sec/step)\n",
      "INFO:tensorflow:global step 724: loss = 2.3045 (0.461 sec/step)\n",
      "INFO:tensorflow:global step 725: loss = 2.1727 (0.466 sec/step)\n",
      "INFO:tensorflow:global step 726: loss = 2.4350 (0.470 sec/step)\n",
      "INFO:tensorflow:global step 727: loss = 2.5173 (0.484 sec/step)\n",
      "INFO:tensorflow:global step 728: loss = 2.6747 (0.470 sec/step)\n",
      "INFO:tensorflow:global step 729: loss = 3.4426 (0.486 sec/step)\n",
      "INFO:tensorflow:global step 730: loss = 2.7025 (0.492 sec/step)\n",
      "INFO:tensorflow:global step 731: loss = 2.8233 (0.466 sec/step)\n",
      "INFO:tensorflow:global step 732: loss = 2.6059 (0.489 sec/step)\n",
      "INFO:tensorflow:global step 733: loss = 2.8681 (0.476 sec/step)\n",
      "INFO:tensorflow:global step 734: loss = 2.6124 (0.465 sec/step)\n",
      "INFO:tensorflow:global step 735: loss = 3.9310 (0.465 sec/step)\n",
      "INFO:tensorflow:global step 736: loss = 2.7095 (0.469 sec/step)\n",
      "INFO:tensorflow:global step 737: loss = 2.3311 (0.489 sec/step)\n",
      "INFO:tensorflow:global step 738: loss = 3.8792 (0.478 sec/step)\n",
      "INFO:tensorflow:global step 739: loss = 2.4266 (0.484 sec/step)\n",
      "INFO:tensorflow:global step 740: loss = 2.8895 (0.480 sec/step)\n",
      "INFO:tensorflow:global step 741: loss = 2.2088 (0.474 sec/step)\n",
      "INFO:tensorflow:global step 742: loss = 2.4450 (0.467 sec/step)\n",
      "INFO:tensorflow:global step 743: loss = 2.7268 (0.488 sec/step)\n",
      "INFO:tensorflow:global step 744: loss = 3.2175 (0.473 sec/step)\n",
      "INFO:tensorflow:global step 745: loss = 2.0918 (0.482 sec/step)\n",
      "INFO:tensorflow:global step 746: loss = 3.8627 (0.512 sec/step)\n",
      "INFO:tensorflow:global step 747: loss = 2.5835 (0.474 sec/step)\n",
      "INFO:tensorflow:global step 748: loss = 2.6418 (0.470 sec/step)\n",
      "INFO:tensorflow:global step 749: loss = 2.7165 (0.466 sec/step)\n",
      "INFO:tensorflow:global step 750: loss = 2.7075 (0.486 sec/step)\n",
      "INFO:tensorflow:global step 751: loss = 1.8658 (0.496 sec/step)\n",
      "INFO:tensorflow:global step 752: loss = 2.4094 (0.470 sec/step)\n",
      "INFO:tensorflow:global step 753: loss = 3.0613 (0.519 sec/step)\n",
      "INFO:tensorflow:global step 754: loss = 4.2655 (0.475 sec/step)\n",
      "INFO:tensorflow:global step 755: loss = 2.0718 (0.482 sec/step)\n",
      "INFO:tensorflow:global step 756: loss = 2.8498 (0.461 sec/step)\n",
      "INFO:tensorflow:global step 757: loss = 3.1155 (0.466 sec/step)\n",
      "INFO:tensorflow:global step 758: loss = 3.2555 (0.480 sec/step)\n",
      "INFO:tensorflow:global step 759: loss = 2.2205 (0.474 sec/step)\n",
      "INFO:tensorflow:global step 760: loss = 3.0379 (0.464 sec/step)\n",
      "INFO:tensorflow:global step 761: loss = 2.8184 (0.493 sec/step)\n",
      "INFO:tensorflow:global step 762: loss = 2.7949 (0.467 sec/step)\n",
      "INFO:tensorflow:global step 763: loss = 3.4214 (0.483 sec/step)\n",
      "INFO:tensorflow:global step 764: loss = 2.3106 (0.467 sec/step)\n",
      "INFO:tensorflow:global step 765: loss = 2.3901 (0.479 sec/step)\n",
      "INFO:tensorflow:global step 766: loss = 1.8331 (0.471 sec/step)\n",
      "INFO:tensorflow:global step 767: loss = 2.5728 (0.464 sec/step)\n",
      "INFO:tensorflow:global step 768: loss = 3.5288 (0.470 sec/step)\n",
      "INFO:tensorflow:global step 769: loss = 2.9276 (0.488 sec/step)\n",
      "INFO:tensorflow:global step 770: loss = 2.6145 (0.473 sec/step)\n",
      "INFO:tensorflow:global step 771: loss = 3.6242 (0.505 sec/step)\n",
      "INFO:tensorflow:Recording summary at step 772.\n",
      "INFO:tensorflow:global step 772: loss = 3.1285 (0.810 sec/step)\n",
      "INFO:tensorflow:global step 773: loss = 2.5405 (0.475 sec/step)\n",
      "INFO:tensorflow:global step 774: loss = 2.0584 (0.494 sec/step)\n",
      "INFO:tensorflow:global step 775: loss = 2.3090 (0.486 sec/step)\n",
      "INFO:tensorflow:global step 776: loss = 2.4857 (0.477 sec/step)\n",
      "INFO:tensorflow:global step 777: loss = 2.5499 (0.471 sec/step)\n",
      "INFO:tensorflow:global step 778: loss = 3.2974 (0.471 sec/step)\n",
      "INFO:tensorflow:global step 779: loss = 2.8634 (0.474 sec/step)\n",
      "INFO:tensorflow:global step 780: loss = 2.3922 (0.473 sec/step)\n",
      "INFO:tensorflow:global step 781: loss = 2.5969 (0.490 sec/step)\n",
      "INFO:tensorflow:global step 782: loss = 3.0626 (0.491 sec/step)\n",
      "INFO:tensorflow:global step 783: loss = 2.1679 (0.456 sec/step)\n",
      "INFO:tensorflow:global step 784: loss = 3.3367 (0.476 sec/step)\n",
      "INFO:tensorflow:global step 785: loss = 3.6573 (0.469 sec/step)\n",
      "INFO:tensorflow:global step 786: loss = 3.2414 (0.478 sec/step)\n",
      "INFO:tensorflow:global step 787: loss = 2.7177 (0.468 sec/step)\n",
      "INFO:tensorflow:global step 788: loss = 1.7875 (0.477 sec/step)\n",
      "INFO:tensorflow:global step 789: loss = 2.0672 (0.468 sec/step)\n",
      "INFO:tensorflow:global step 790: loss = 3.6792 (0.474 sec/step)\n",
      "INFO:tensorflow:global step 791: loss = 2.3609 (0.479 sec/step)\n",
      "INFO:tensorflow:global step 792: loss = 2.3227 (0.473 sec/step)\n",
      "INFO:tensorflow:global step 793: loss = 3.6094 (0.472 sec/step)\n",
      "INFO:tensorflow:global step 794: loss = 3.1429 (0.475 sec/step)\n",
      "INFO:tensorflow:global step 795: loss = 2.0923 (0.492 sec/step)\n",
      "INFO:tensorflow:global step 796: loss = 2.1201 (0.467 sec/step)\n",
      "INFO:tensorflow:global step 797: loss = 1.7153 (0.512 sec/step)\n",
      "INFO:tensorflow:global step 798: loss = 3.4945 (0.465 sec/step)\n",
      "INFO:tensorflow:global step 799: loss = 3.1030 (0.497 sec/step)\n",
      "INFO:tensorflow:global step 800: loss = 1.9081 (0.473 sec/step)\n",
      "INFO:tensorflow:global step 801: loss = 1.5562 (0.513 sec/step)\n",
      "INFO:tensorflow:global step 802: loss = 2.6638 (0.512 sec/step)\n",
      "INFO:tensorflow:global step 803: loss = 4.3161 (0.476 sec/step)\n",
      "INFO:tensorflow:global step 804: loss = 3.6838 (0.474 sec/step)\n",
      "INFO:tensorflow:global step 805: loss = 2.8195 (0.475 sec/step)\n",
      "INFO:tensorflow:global step 806: loss = 3.5154 (0.472 sec/step)\n",
      "INFO:tensorflow:global step 807: loss = 3.0630 (0.480 sec/step)\n",
      "INFO:tensorflow:global step 808: loss = 3.3867 (0.486 sec/step)\n",
      "INFO:tensorflow:global step 809: loss = 3.0168 (0.465 sec/step)\n",
      "INFO:tensorflow:global step 810: loss = 3.2640 (0.496 sec/step)\n",
      "INFO:tensorflow:global step 811: loss = 2.2529 (0.470 sec/step)\n",
      "INFO:tensorflow:global step 812: loss = 2.2672 (0.490 sec/step)\n",
      "INFO:tensorflow:global step 813: loss = 1.9697 (0.471 sec/step)\n",
      "INFO:tensorflow:global step 814: loss = 1.8467 (0.474 sec/step)\n",
      "INFO:tensorflow:global step 815: loss = 2.6570 (0.471 sec/step)\n",
      "INFO:tensorflow:global step 816: loss = 1.9298 (0.465 sec/step)\n",
      "INFO:tensorflow:global step 817: loss = 1.8326 (0.469 sec/step)\n",
      "INFO:tensorflow:global step 818: loss = 3.4527 (0.490 sec/step)\n",
      "INFO:tensorflow:global step 819: loss = 2.2490 (0.469 sec/step)\n",
      "INFO:tensorflow:global step 820: loss = 2.9434 (0.480 sec/step)\n",
      "INFO:tensorflow:global step 821: loss = 3.8996 (0.467 sec/step)\n",
      "INFO:tensorflow:global step 822: loss = 2.8218 (0.485 sec/step)\n",
      "INFO:tensorflow:global step 823: loss = 2.0617 (0.501 sec/step)\n",
      "INFO:tensorflow:global step 824: loss = 2.9377 (0.487 sec/step)\n",
      "INFO:tensorflow:global step 825: loss = 2.6673 (0.478 sec/step)\n",
      "INFO:tensorflow:global step 826: loss = 2.3264 (0.484 sec/step)\n",
      "INFO:tensorflow:global step 827: loss = 1.9489 (0.465 sec/step)\n",
      "INFO:tensorflow:global step 828: loss = 3.0179 (0.475 sec/step)\n",
      "INFO:tensorflow:global step 829: loss = 2.0400 (0.463 sec/step)\n",
      "INFO:tensorflow:global step 830: loss = 2.1397 (0.506 sec/step)\n",
      "INFO:tensorflow:global step 831: loss = 1.8962 (0.477 sec/step)\n",
      "INFO:tensorflow:global step 832: loss = 3.3942 (0.483 sec/step)\n",
      "INFO:tensorflow:global step 833: loss = 2.2571 (0.681 sec/step)\n",
      "INFO:tensorflow:Recording summary at step 833.\n",
      "INFO:tensorflow:global step 834: loss = 2.2868 (0.697 sec/step)\n",
      "INFO:tensorflow:global step 835: loss = 2.6565 (0.478 sec/step)\n",
      "INFO:tensorflow:global step 836: loss = 4.6120 (0.469 sec/step)\n",
      "INFO:tensorflow:global step 837: loss = 2.1801 (0.491 sec/step)\n",
      "INFO:tensorflow:global step 838: loss = 4.5963 (0.493 sec/step)\n",
      "INFO:tensorflow:global step 839: loss = 4.5878 (0.484 sec/step)\n",
      "INFO:tensorflow:global step 840: loss = 2.4859 (0.485 sec/step)\n",
      "INFO:tensorflow:global step 841: loss = 3.0599 (0.472 sec/step)\n",
      "INFO:tensorflow:global step 842: loss = 2.6694 (0.471 sec/step)\n"
     ]
    },
    {
     "name": "stdout",
     "output_type": "stream",
     "text": [
      "INFO:tensorflow:global step 843: loss = 2.4337 (0.503 sec/step)\n",
      "INFO:tensorflow:global step 844: loss = 2.1998 (0.476 sec/step)\n",
      "INFO:tensorflow:global step 845: loss = 3.2138 (0.476 sec/step)\n",
      "INFO:tensorflow:global step 846: loss = 2.3534 (0.497 sec/step)\n",
      "INFO:tensorflow:global step 847: loss = 2.5561 (0.478 sec/step)\n",
      "INFO:tensorflow:global step 848: loss = 3.4175 (0.472 sec/step)\n",
      "INFO:tensorflow:global step 849: loss = 4.3649 (0.483 sec/step)\n",
      "INFO:tensorflow:global step 850: loss = 3.4348 (0.463 sec/step)\n",
      "INFO:tensorflow:global step 851: loss = 2.7898 (0.471 sec/step)\n",
      "INFO:tensorflow:global step 852: loss = 2.0154 (0.485 sec/step)\n",
      "INFO:tensorflow:global step 853: loss = 3.1202 (0.504 sec/step)\n",
      "INFO:tensorflow:global step 854: loss = 2.2979 (0.478 sec/step)\n",
      "INFO:tensorflow:global step 855: loss = 2.0225 (0.498 sec/step)\n",
      "INFO:tensorflow:global step 856: loss = 2.7835 (0.468 sec/step)\n",
      "INFO:tensorflow:global step 857: loss = 2.5660 (0.464 sec/step)\n",
      "INFO:tensorflow:global step 858: loss = 2.7026 (0.475 sec/step)\n",
      "INFO:tensorflow:global step 859: loss = 2.3171 (0.494 sec/step)\n",
      "INFO:tensorflow:global step 860: loss = 2.0342 (0.477 sec/step)\n",
      "INFO:tensorflow:global step 861: loss = 3.0898 (0.507 sec/step)\n",
      "INFO:tensorflow:global step 862: loss = 3.0907 (0.480 sec/step)\n",
      "INFO:tensorflow:global step 863: loss = 2.3826 (0.486 sec/step)\n",
      "INFO:tensorflow:global step 864: loss = 2.3588 (0.467 sec/step)\n",
      "INFO:tensorflow:global step 865: loss = 3.7968 (0.481 sec/step)\n",
      "INFO:tensorflow:global step 866: loss = 2.2965 (0.478 sec/step)\n",
      "INFO:tensorflow:global step 867: loss = 3.1467 (0.461 sec/step)\n",
      "INFO:tensorflow:global step 868: loss = 2.7411 (0.466 sec/step)\n",
      "INFO:tensorflow:global step 869: loss = 2.2896 (0.465 sec/step)\n",
      "INFO:tensorflow:global step 870: loss = 1.9297 (0.475 sec/step)\n",
      "INFO:tensorflow:global step 871: loss = 2.8539 (0.469 sec/step)\n",
      "INFO:tensorflow:global step 872: loss = 2.6784 (0.472 sec/step)\n",
      "INFO:tensorflow:global step 873: loss = 2.0401 (0.468 sec/step)\n",
      "INFO:tensorflow:global step 874: loss = 2.7277 (0.468 sec/step)\n",
      "INFO:tensorflow:global step 875: loss = 1.9882 (0.506 sec/step)\n",
      "INFO:tensorflow:global step 876: loss = 2.2919 (0.468 sec/step)\n",
      "INFO:tensorflow:global step 877: loss = 2.6453 (0.477 sec/step)\n",
      "INFO:tensorflow:global step 878: loss = 2.6069 (0.509 sec/step)\n",
      "INFO:tensorflow:global step 879: loss = 2.2301 (0.470 sec/step)\n",
      "INFO:tensorflow:global step 880: loss = 3.7504 (0.465 sec/step)\n",
      "INFO:tensorflow:global step 881: loss = 1.9622 (0.479 sec/step)\n",
      "INFO:tensorflow:global step 882: loss = 1.6530 (0.507 sec/step)\n",
      "INFO:tensorflow:global step 883: loss = 2.9911 (0.523 sec/step)\n",
      "INFO:tensorflow:global step 884: loss = 3.4522 (0.482 sec/step)\n",
      "INFO:tensorflow:global step 885: loss = 2.0059 (0.472 sec/step)\n",
      "INFO:tensorflow:global step 886: loss = 2.7433 (0.480 sec/step)\n",
      "INFO:tensorflow:global step 887: loss = 1.7297 (0.464 sec/step)\n",
      "INFO:tensorflow:global step 888: loss = 3.1200 (0.467 sec/step)\n",
      "INFO:tensorflow:global step 889: loss = 3.6009 (0.491 sec/step)\n",
      "INFO:tensorflow:global step 890: loss = 3.7458 (0.464 sec/step)\n",
      "INFO:tensorflow:global step 891: loss = 2.4836 (0.482 sec/step)\n",
      "INFO:tensorflow:global step 892: loss = 2.1520 (0.471 sec/step)\n",
      "INFO:tensorflow:global step 893: loss = 2.4044 (0.471 sec/step)\n",
      "INFO:tensorflow:global step 894: loss = 2.7752 (0.593 sec/step)\n",
      "INFO:tensorflow:Recording summary at step 894.\n",
      "INFO:tensorflow:global step 895: loss = 2.6774 (0.781 sec/step)\n",
      "INFO:tensorflow:global step 896: loss = 2.1072 (0.527 sec/step)\n",
      "INFO:tensorflow:global step 897: loss = 2.7674 (0.487 sec/step)\n",
      "INFO:tensorflow:global step 898: loss = 2.6877 (0.474 sec/step)\n",
      "INFO:tensorflow:global step 899: loss = 3.5355 (0.490 sec/step)\n",
      "INFO:tensorflow:global step 900: loss = 2.8639 (0.529 sec/step)\n",
      "INFO:tensorflow:global step 901: loss = 2.5132 (0.460 sec/step)\n",
      "INFO:tensorflow:global step 902: loss = 2.1360 (0.478 sec/step)\n",
      "INFO:tensorflow:global step 903: loss = 2.0170 (0.483 sec/step)\n",
      "INFO:tensorflow:global step 904: loss = 3.6502 (0.474 sec/step)\n",
      "INFO:tensorflow:global step 905: loss = 2.0492 (0.484 sec/step)\n",
      "INFO:tensorflow:global step 906: loss = 3.8983 (0.505 sec/step)\n",
      "INFO:tensorflow:global step 907: loss = 2.4188 (0.467 sec/step)\n",
      "INFO:tensorflow:global step 908: loss = 2.9548 (0.470 sec/step)\n",
      "INFO:tensorflow:global step 909: loss = 1.8756 (0.499 sec/step)\n",
      "INFO:tensorflow:global step 910: loss = 3.8639 (0.465 sec/step)\n",
      "INFO:tensorflow:global step 911: loss = 2.4560 (0.513 sec/step)\n",
      "INFO:tensorflow:global step 912: loss = 2.3782 (0.460 sec/step)\n",
      "INFO:tensorflow:global step 913: loss = 2.3718 (0.470 sec/step)\n",
      "INFO:tensorflow:global step 914: loss = 5.4773 (0.472 sec/step)\n",
      "INFO:tensorflow:global step 915: loss = 3.2092 (0.468 sec/step)\n",
      "INFO:tensorflow:global step 916: loss = 3.1188 (0.470 sec/step)\n",
      "INFO:tensorflow:global step 917: loss = 2.0542 (0.520 sec/step)\n",
      "INFO:tensorflow:global step 918: loss = 3.5264 (0.474 sec/step)\n",
      "INFO:tensorflow:global step 919: loss = 2.2059 (0.471 sec/step)\n",
      "INFO:tensorflow:global step 920: loss = 2.8902 (0.474 sec/step)\n",
      "INFO:tensorflow:global step 921: loss = 2.1940 (0.463 sec/step)\n",
      "INFO:tensorflow:global step 922: loss = 3.0307 (0.523 sec/step)\n",
      "INFO:tensorflow:global step 923: loss = 2.8254 (0.465 sec/step)\n",
      "INFO:tensorflow:global step 924: loss = 2.8025 (0.476 sec/step)\n",
      "INFO:tensorflow:global step 925: loss = 2.8054 (0.465 sec/step)\n",
      "INFO:tensorflow:global step 926: loss = 2.3991 (0.502 sec/step)\n",
      "INFO:tensorflow:global step 927: loss = 1.8896 (0.483 sec/step)\n",
      "INFO:tensorflow:global step 928: loss = 2.6549 (0.475 sec/step)\n",
      "INFO:tensorflow:global step 929: loss = 3.5743 (0.473 sec/step)\n",
      "INFO:tensorflow:global step 930: loss = 2.3843 (0.470 sec/step)\n",
      "INFO:tensorflow:global step 931: loss = 1.5637 (0.463 sec/step)\n",
      "INFO:tensorflow:global step 932: loss = 3.5891 (0.474 sec/step)\n",
      "INFO:tensorflow:global step 933: loss = 2.5332 (0.483 sec/step)\n",
      "INFO:tensorflow:global step 934: loss = 2.4027 (0.489 sec/step)\n",
      "INFO:tensorflow:global step 935: loss = 2.6096 (0.474 sec/step)\n",
      "INFO:tensorflow:global step 936: loss = 2.2733 (0.473 sec/step)\n",
      "INFO:tensorflow:global step 937: loss = 2.7552 (0.476 sec/step)\n",
      "INFO:tensorflow:global step 938: loss = 2.4131 (0.508 sec/step)\n",
      "INFO:tensorflow:global step 939: loss = 1.7890 (0.474 sec/step)\n",
      "INFO:tensorflow:global step 940: loss = 2.8840 (0.499 sec/step)\n",
      "INFO:tensorflow:global step 941: loss = 2.5318 (0.478 sec/step)\n",
      "INFO:tensorflow:global step 942: loss = 3.5948 (0.470 sec/step)\n",
      "INFO:tensorflow:global step 943: loss = 2.2914 (0.475 sec/step)\n",
      "INFO:tensorflow:global step 944: loss = 1.8954 (0.480 sec/step)\n",
      "INFO:tensorflow:global step 945: loss = 1.9213 (0.463 sec/step)\n",
      "INFO:tensorflow:global step 946: loss = 2.1722 (0.483 sec/step)\n",
      "INFO:tensorflow:global step 947: loss = 2.7184 (0.476 sec/step)\n",
      "INFO:tensorflow:global step 948: loss = 2.3046 (0.496 sec/step)\n",
      "INFO:tensorflow:global step 949: loss = 2.2623 (0.475 sec/step)\n",
      "INFO:tensorflow:global step 950: loss = 2.4138 (0.485 sec/step)\n",
      "INFO:tensorflow:global step 951: loss = 2.3350 (0.470 sec/step)\n",
      "INFO:tensorflow:global step 952: loss = 2.2910 (0.480 sec/step)\n",
      "INFO:tensorflow:global step 953: loss = 2.3122 (0.477 sec/step)\n",
      "INFO:tensorflow:global step 954: loss = 2.0021 (0.467 sec/step)\n",
      "INFO:tensorflow:global step 955: loss = 1.8745 (0.493 sec/step)\n",
      "INFO:tensorflow:global step 956: loss = 1.8766 (0.635 sec/step)\n",
      "INFO:tensorflow:Recording summary at step 956.\n",
      "INFO:tensorflow:global step 957: loss = 1.8121 (0.527 sec/step)\n",
      "INFO:tensorflow:global step 958: loss = 2.2939 (0.473 sec/step)\n",
      "INFO:tensorflow:global step 959: loss = 3.0412 (0.465 sec/step)\n",
      "INFO:tensorflow:global step 960: loss = 3.1859 (0.469 sec/step)\n",
      "INFO:tensorflow:global step 961: loss = 2.6921 (0.526 sec/step)\n",
      "INFO:tensorflow:global step 962: loss = 2.6056 (0.473 sec/step)\n",
      "INFO:tensorflow:global step 963: loss = 1.9149 (0.482 sec/step)\n",
      "INFO:tensorflow:global step 964: loss = 2.1871 (0.467 sec/step)\n",
      "INFO:tensorflow:global step 965: loss = 2.4471 (0.504 sec/step)\n",
      "INFO:tensorflow:global step 966: loss = 2.2202 (0.476 sec/step)\n",
      "INFO:tensorflow:global step 967: loss = 3.8535 (0.468 sec/step)\n",
      "INFO:tensorflow:global step 968: loss = 3.2957 (0.470 sec/step)\n",
      "INFO:tensorflow:global step 969: loss = 2.6361 (0.479 sec/step)\n"
     ]
    },
    {
     "name": "stdout",
     "output_type": "stream",
     "text": [
      "INFO:tensorflow:global step 970: loss = 3.6793 (0.480 sec/step)\n",
      "INFO:tensorflow:global step 971: loss = 3.4115 (0.475 sec/step)\n",
      "INFO:tensorflow:global step 972: loss = 2.0142 (0.464 sec/step)\n",
      "INFO:tensorflow:global step 973: loss = 2.8946 (0.467 sec/step)\n",
      "INFO:tensorflow:global step 974: loss = 2.2328 (0.470 sec/step)\n",
      "INFO:tensorflow:global step 975: loss = 2.2433 (0.483 sec/step)\n",
      "INFO:tensorflow:global step 976: loss = 2.5286 (0.461 sec/step)\n",
      "INFO:tensorflow:global step 977: loss = 3.3229 (0.467 sec/step)\n",
      "INFO:tensorflow:global step 978: loss = 2.5603 (0.471 sec/step)\n",
      "INFO:tensorflow:global step 979: loss = 2.2924 (0.467 sec/step)\n",
      "INFO:tensorflow:global step 980: loss = 2.3105 (0.467 sec/step)\n",
      "INFO:tensorflow:global step 981: loss = 2.1580 (0.474 sec/step)\n",
      "INFO:tensorflow:global step 982: loss = 2.4990 (0.461 sec/step)\n",
      "INFO:tensorflow:global step 983: loss = 2.5092 (0.470 sec/step)\n",
      "INFO:tensorflow:global step 984: loss = 2.3902 (0.482 sec/step)\n",
      "INFO:tensorflow:global step 985: loss = 3.0225 (0.469 sec/step)\n",
      "INFO:tensorflow:global step 986: loss = 2.2663 (0.480 sec/step)\n",
      "INFO:tensorflow:global step 987: loss = 2.2263 (0.483 sec/step)\n",
      "INFO:tensorflow:global step 988: loss = 2.1080 (0.541 sec/step)\n",
      "INFO:tensorflow:global step 989: loss = 1.8535 (0.545 sec/step)\n",
      "INFO:tensorflow:global step 990: loss = 2.0016 (0.552 sec/step)\n",
      "INFO:tensorflow:global step 991: loss = 2.3923 (0.549 sec/step)\n",
      "INFO:tensorflow:global step 992: loss = 2.0493 (0.520 sec/step)\n",
      "INFO:tensorflow:global step 993: loss = 3.6377 (0.488 sec/step)\n",
      "INFO:tensorflow:global step 994: loss = 1.9798 (0.469 sec/step)\n",
      "INFO:tensorflow:global step 995: loss = 2.5425 (0.468 sec/step)\n",
      "INFO:tensorflow:global step 996: loss = 2.1184 (0.504 sec/step)\n",
      "INFO:tensorflow:global step 997: loss = 2.5028 (0.476 sec/step)\n",
      "INFO:tensorflow:global step 998: loss = 2.4950 (0.525 sec/step)\n",
      "INFO:tensorflow:global step 999: loss = 2.7473 (0.464 sec/step)\n",
      "INFO:tensorflow:global step 1000: loss = 1.7742 (0.483 sec/step)\n",
      "INFO:tensorflow:Stopping Training.\n",
      "INFO:tensorflow:Finished training! Saving model to disk.\n"
     ]
    },
    {
     "name": "stderr",
     "output_type": "stream",
     "text": [
      "/home/ubuntu/anaconda3/envs/tensorflow_p36/lib/python3.6/site-packages/tensorflow/python/summary/writer/writer.py:386: UserWarning: Attempting to use a closed FileWriter. The operation will be a noop unless the FileWriter is explicitly reopened.\n",
      "  warnings.warn(\"Attempting to use a closed FileWriter. \"\n"
     ]
    }
   ],
   "source": [
    "picsell_utils.train(ckpt_dir=clt.checkpoint_dir, \n",
    "                     conf_dir=clt.config_dir)"
   ]
  },
  {
   "cell_type": "markdown",
   "metadata": {
    "colab_type": "text",
    "id": "SJZiDV6aKjW5"
   },
   "source": [
    "Once the training is done we want to send the training logs to the Picsell.ia platform."
   ]
  },
  {
   "cell_type": "code",
   "execution_count": 7,
   "metadata": {
    "colab": {},
    "colab_type": "code",
    "id": "QpKJL3l6KjW6",
    "scrolled": false
   },
   "outputs": [
    {
     "name": "stdout",
     "output_type": "stream",
     "text": [
      "Training logs have been sent to Picsell.ia Platform...\n",
      "You can now inspect and showcase results on the platform.\n"
     ]
    }
   ],
   "source": [
    "dict_log = picsell_utils.tfevents_to_dict(path=clt.checkpoint_dir)\n",
    "clt.send_logs(dict_log)"
   ]
  },
  {
   "cell_type": "markdown",
   "metadata": {},
   "source": [
    "## Evaluating\n",
    "\n",
    "Next is the evaluation phase, we can launch the evaluation with the evaluate method of the picsell_utils module."
   ]
  },
  {
   "cell_type": "code",
   "execution_count": 8,
   "metadata": {
    "scrolled": true
   },
   "outputs": [
    {
     "name": "stdout",
     "output_type": "stream",
     "text": [
      "INFO:tensorflow:depth of additional conv before box predictor: 0\n",
      "INFO:tensorflow:depth of additional conv before box predictor: 0\n",
      "INFO:tensorflow:depth of additional conv before box predictor: 0\n",
      "INFO:tensorflow:depth of additional conv before box predictor: 0\n",
      "INFO:tensorflow:depth of additional conv before box predictor: 0\n",
      "INFO:tensorflow:depth of additional conv before box predictor: 0\n",
      "WARNING:tensorflow:From /home/ubuntu/picselliaT/object_detection/eval_util.py:797: to_int64 (from tensorflow.python.ops.math_ops) is deprecated and will be removed in a future version.\n",
      "Instructions for updating:\n",
      "Use `tf.cast` instead.\n",
      "INFO:tensorflow:Starting evaluation at 2020-05-20-14:13:37\n",
      "INFO:tensorflow:Restoring parameters from 05a91847-53a6-4b29-9014-d372d11836c7/d21c776e-7595-42c1-9846-54713135b78e/1/checkpoint/model.ckpt-1000\n",
      "INFO:tensorflow:Running eval batches done.\n"
     ]
    },
    {
     "name": "stderr",
     "output_type": "stream",
     "text": [
      "INFO:tensorflow:Running eval batches done.\n"
     ]
    },
    {
     "name": "stdout",
     "output_type": "stream",
     "text": [
      "INFO:tensorflow:# success: 19\n"
     ]
    },
    {
     "name": "stderr",
     "output_type": "stream",
     "text": [
      "INFO:tensorflow:# success: 19\n"
     ]
    },
    {
     "name": "stdout",
     "output_type": "stream",
     "text": [
      "INFO:tensorflow:# skipped: 4\n"
     ]
    },
    {
     "name": "stderr",
     "output_type": "stream",
     "text": [
      "INFO:tensorflow:# skipped: 4\n"
     ]
    },
    {
     "name": "stdout",
     "output_type": "stream",
     "text": [
      "INFO:tensorflow:Performing evaluation on 19 images.\n"
     ]
    },
    {
     "name": "stderr",
     "output_type": "stream",
     "text": [
      "INFO:tensorflow:Performing evaluation on 19 images.\n"
     ]
    },
    {
     "name": "stdout",
     "output_type": "stream",
     "text": [
      "creating index...\n",
      "index created!\n",
      "INFO:tensorflow:Loading and preparing annotation results...\n"
     ]
    },
    {
     "name": "stderr",
     "output_type": "stream",
     "text": [
      "INFO:tensorflow:Loading and preparing annotation results...\n"
     ]
    },
    {
     "name": "stdout",
     "output_type": "stream",
     "text": [
      "INFO:tensorflow:DONE (t=0.00s)\n"
     ]
    },
    {
     "name": "stderr",
     "output_type": "stream",
     "text": [
      "INFO:tensorflow:DONE (t=0.00s)\n"
     ]
    },
    {
     "name": "stdout",
     "output_type": "stream",
     "text": [
      "creating index...\n",
      "index created!\n",
      "Running per image evaluation...\n",
      "Evaluate annotation type *bbox*\n",
      "DONE (t=0.05s).\n",
      "Accumulating evaluation results...\n",
      "DONE (t=0.01s).\n",
      " Average Precision  (AP) @[ IoU=0.50:0.95 | area=   all | maxDets=100 ] = 0.350\n",
      " Average Precision  (AP) @[ IoU=0.50      | area=   all | maxDets=100 ] = 0.769\n",
      " Average Precision  (AP) @[ IoU=0.75      | area=   all | maxDets=100 ] = 0.226\n",
      " Average Precision  (AP) @[ IoU=0.50:0.95 | area= small | maxDets=100 ] = -1.000\n",
      " Average Precision  (AP) @[ IoU=0.50:0.95 | area=medium | maxDets=100 ] = -1.000\n",
      " Average Precision  (AP) @[ IoU=0.50:0.95 | area= large | maxDets=100 ] = 0.353\n",
      " Average Recall     (AR) @[ IoU=0.50:0.95 | area=   all | maxDets=  1 ] = 0.388\n",
      " Average Recall     (AR) @[ IoU=0.50:0.95 | area=   all | maxDets= 10 ] = 0.417\n",
      " Average Recall     (AR) @[ IoU=0.50:0.95 | area=   all | maxDets=100 ] = 0.474\n",
      " Average Recall     (AR) @[ IoU=0.50:0.95 | area= small | maxDets=100 ] = -1.000\n",
      " Average Recall     (AR) @[ IoU=0.50:0.95 | area=medium | maxDets=100 ] = -1.000\n",
      " Average Recall     (AR) @[ IoU=0.50:0.95 | area= large | maxDets=100 ] = 0.474\n",
      "INFO:tensorflow:Writing metrics to tf summary.\n"
     ]
    },
    {
     "name": "stderr",
     "output_type": "stream",
     "text": [
      "INFO:tensorflow:Writing metrics to tf summary.\n"
     ]
    },
    {
     "name": "stdout",
     "output_type": "stream",
     "text": [
      "WARNING:tensorflow:From /home/ubuntu/picselliaT/object_detection/eval_util.py:81: The name tf.summary.FileWriterCache is deprecated. Please use tf.compat.v1.summary.FileWriterCache instead.\n",
      "\n"
     ]
    },
    {
     "name": "stderr",
     "output_type": "stream",
     "text": [
      "WARNING:tensorflow:From /home/ubuntu/picselliaT/object_detection/eval_util.py:81: The name tf.summary.FileWriterCache is deprecated. Please use tf.compat.v1.summary.FileWriterCache instead.\n",
      "\n"
     ]
    },
    {
     "name": "stdout",
     "output_type": "stream",
     "text": [
      "INFO:tensorflow:DetectionBoxes_Precision/mAP: 0.350430\n"
     ]
    },
    {
     "name": "stderr",
     "output_type": "stream",
     "text": [
      "INFO:tensorflow:DetectionBoxes_Precision/mAP: 0.350430\n"
     ]
    },
    {
     "name": "stdout",
     "output_type": "stream",
     "text": [
      "INFO:tensorflow:DetectionBoxes_Precision/mAP (large): 0.352744\n"
     ]
    },
    {
     "name": "stderr",
     "output_type": "stream",
     "text": [
      "INFO:tensorflow:DetectionBoxes_Precision/mAP (large): 0.352744\n"
     ]
    },
    {
     "name": "stdout",
     "output_type": "stream",
     "text": [
      "INFO:tensorflow:DetectionBoxes_Precision/mAP (medium): -1.000000\n"
     ]
    },
    {
     "name": "stderr",
     "output_type": "stream",
     "text": [
      "INFO:tensorflow:DetectionBoxes_Precision/mAP (medium): -1.000000\n"
     ]
    },
    {
     "name": "stdout",
     "output_type": "stream",
     "text": [
      "INFO:tensorflow:DetectionBoxes_Precision/mAP (small): -1.000000\n"
     ]
    },
    {
     "name": "stderr",
     "output_type": "stream",
     "text": [
      "INFO:tensorflow:DetectionBoxes_Precision/mAP (small): -1.000000\n"
     ]
    },
    {
     "name": "stdout",
     "output_type": "stream",
     "text": [
      "INFO:tensorflow:DetectionBoxes_Precision/mAP@.50IOU: 0.769460\n"
     ]
    },
    {
     "name": "stderr",
     "output_type": "stream",
     "text": [
      "INFO:tensorflow:DetectionBoxes_Precision/mAP@.50IOU: 0.769460\n"
     ]
    },
    {
     "name": "stdout",
     "output_type": "stream",
     "text": [
      "INFO:tensorflow:DetectionBoxes_Precision/mAP@.75IOU: 0.226400\n"
     ]
    },
    {
     "name": "stderr",
     "output_type": "stream",
     "text": [
      "INFO:tensorflow:DetectionBoxes_Precision/mAP@.75IOU: 0.226400\n"
     ]
    },
    {
     "name": "stdout",
     "output_type": "stream",
     "text": [
      "INFO:tensorflow:DetectionBoxes_Recall/AR@1: 0.388095\n"
     ]
    },
    {
     "name": "stderr",
     "output_type": "stream",
     "text": [
      "INFO:tensorflow:DetectionBoxes_Recall/AR@1: 0.388095\n"
     ]
    },
    {
     "name": "stdout",
     "output_type": "stream",
     "text": [
      "INFO:tensorflow:DetectionBoxes_Recall/AR@10: 0.416667\n"
     ]
    },
    {
     "name": "stderr",
     "output_type": "stream",
     "text": [
      "INFO:tensorflow:DetectionBoxes_Recall/AR@10: 0.416667\n"
     ]
    },
    {
     "name": "stdout",
     "output_type": "stream",
     "text": [
      "INFO:tensorflow:DetectionBoxes_Recall/AR@100: 0.473810\n"
     ]
    },
    {
     "name": "stderr",
     "output_type": "stream",
     "text": [
      "INFO:tensorflow:DetectionBoxes_Recall/AR@100: 0.473810\n"
     ]
    },
    {
     "name": "stdout",
     "output_type": "stream",
     "text": [
      "INFO:tensorflow:DetectionBoxes_Recall/AR@100 (large): 0.473810\n"
     ]
    },
    {
     "name": "stderr",
     "output_type": "stream",
     "text": [
      "INFO:tensorflow:DetectionBoxes_Recall/AR@100 (large): 0.473810\n"
     ]
    },
    {
     "name": "stdout",
     "output_type": "stream",
     "text": [
      "INFO:tensorflow:DetectionBoxes_Recall/AR@100 (medium): -1.000000\n"
     ]
    },
    {
     "name": "stderr",
     "output_type": "stream",
     "text": [
      "INFO:tensorflow:DetectionBoxes_Recall/AR@100 (medium): -1.000000\n"
     ]
    },
    {
     "name": "stdout",
     "output_type": "stream",
     "text": [
      "INFO:tensorflow:DetectionBoxes_Recall/AR@100 (small): -1.000000\n"
     ]
    },
    {
     "name": "stderr",
     "output_type": "stream",
     "text": [
      "INFO:tensorflow:DetectionBoxes_Recall/AR@100 (small): -1.000000\n"
     ]
    },
    {
     "name": "stdout",
     "output_type": "stream",
     "text": [
      "INFO:tensorflow:Losses/Loss/classification_loss: 8.317307\n"
     ]
    },
    {
     "name": "stderr",
     "output_type": "stream",
     "text": [
      "INFO:tensorflow:Losses/Loss/classification_loss: 8.317307\n"
     ]
    },
    {
     "name": "stdout",
     "output_type": "stream",
     "text": [
      "INFO:tensorflow:Losses/Loss/localization_loss: 1.250351\n"
     ]
    },
    {
     "name": "stderr",
     "output_type": "stream",
     "text": [
      "INFO:tensorflow:Losses/Loss/localization_loss: 1.250351\n"
     ]
    },
    {
     "name": "stdout",
     "output_type": "stream",
     "text": [
      "INFO:tensorflow:Metrics written to tf summary.\n"
     ]
    },
    {
     "name": "stderr",
     "output_type": "stream",
     "text": [
      "INFO:tensorflow:Metrics written to tf summary.\n"
     ]
    },
    {
     "name": "stdout",
     "output_type": "stream",
     "text": [
      "INFO:tensorflow:Finished evaluation!\n"
     ]
    },
    {
     "name": "stderr",
     "output_type": "stream",
     "text": [
      "INFO:tensorflow:Finished evaluation!\n"
     ]
    },
    {
     "name": "stdout",
     "output_type": "stream",
     "text": [
      "Evaluation metrics have been sent to Picsell.ia Platform...\n",
      "You can now inspect and showcase results on the platform.\n"
     ]
    }
   ],
   "source": [
    "metrics = picsell_utils.evaluate(clt.metrics_dir, clt.config_dir, clt.checkpoint_dir)\n",
    "clt.send_metrics(metrics)"
   ]
  },
  {
   "cell_type": "markdown",
   "metadata": {},
   "source": [
    "You can send the checkpoints to the Picsell.ia platform now."
   ]
  },
  {
   "cell_type": "code",
   "execution_count": null,
   "metadata": {},
   "outputs": [],
   "source": [
    "clt.send_checkpoints()"
   ]
  },
  {
   "cell_type": "markdown",
   "metadata": {
    "colab_type": "text",
    "id": "DhXEFt43KjW9"
   },
   "source": [
    "# Exporting and infering\n",
    "\n",
    "Now that the training is done and that we checked the performance of our model through the metrics returned by the evaluation we may want to export and use this model.\n",
    "\n",
    "## Exporting the model\n",
    "\n",
    "To export our model as a saved_model.pb we use the export_infer_graph function while specifying the right paths. We can send it to the platform to be used on the playground for live inference."
   ]
  },
  {
   "cell_type": "code",
   "execution_count": 9,
   "metadata": {
    "colab": {},
    "colab_type": "code",
    "id": "sfT1MFkIKjW-",
    "scrolled": true
   },
   "outputs": [
    {
     "name": "stdout",
     "output_type": "stream",
     "text": [
      "INFO:tensorflow:depth of additional conv before box predictor: 0\n"
     ]
    },
    {
     "name": "stderr",
     "output_type": "stream",
     "text": [
      "INFO:tensorflow:depth of additional conv before box predictor: 0\n"
     ]
    },
    {
     "name": "stdout",
     "output_type": "stream",
     "text": [
      "INFO:tensorflow:depth of additional conv before box predictor: 0\n"
     ]
    },
    {
     "name": "stderr",
     "output_type": "stream",
     "text": [
      "INFO:tensorflow:depth of additional conv before box predictor: 0\n"
     ]
    },
    {
     "name": "stdout",
     "output_type": "stream",
     "text": [
      "INFO:tensorflow:depth of additional conv before box predictor: 0\n"
     ]
    },
    {
     "name": "stderr",
     "output_type": "stream",
     "text": [
      "INFO:tensorflow:depth of additional conv before box predictor: 0\n"
     ]
    },
    {
     "name": "stdout",
     "output_type": "stream",
     "text": [
      "INFO:tensorflow:depth of additional conv before box predictor: 0\n"
     ]
    },
    {
     "name": "stderr",
     "output_type": "stream",
     "text": [
      "INFO:tensorflow:depth of additional conv before box predictor: 0\n"
     ]
    },
    {
     "name": "stdout",
     "output_type": "stream",
     "text": [
      "INFO:tensorflow:depth of additional conv before box predictor: 0\n"
     ]
    },
    {
     "name": "stderr",
     "output_type": "stream",
     "text": [
      "INFO:tensorflow:depth of additional conv before box predictor: 0\n"
     ]
    },
    {
     "name": "stdout",
     "output_type": "stream",
     "text": [
      "INFO:tensorflow:depth of additional conv before box predictor: 0\n"
     ]
    },
    {
     "name": "stderr",
     "output_type": "stream",
     "text": [
      "INFO:tensorflow:depth of additional conv before box predictor: 0\n"
     ]
    },
    {
     "name": "stdout",
     "output_type": "stream",
     "text": [
      "WARNING:tensorflow:From /home/ubuntu/picselliaT/object_detection/exporter.py:383: get_or_create_global_step (from tensorflow.contrib.framework.python.ops.variables) is deprecated and will be removed in a future version.\n",
      "Instructions for updating:\n",
      "Please switch to tf.train.get_or_create_global_step\n"
     ]
    },
    {
     "name": "stderr",
     "output_type": "stream",
     "text": [
      "WARNING:tensorflow:From /home/ubuntu/picselliaT/object_detection/exporter.py:383: get_or_create_global_step (from tensorflow.contrib.framework.python.ops.variables) is deprecated and will be removed in a future version.\n",
      "Instructions for updating:\n",
      "Please switch to tf.train.get_or_create_global_step\n"
     ]
    },
    {
     "name": "stdout",
     "output_type": "stream",
     "text": [
      "WARNING:tensorflow:From /home/ubuntu/picselliaT/object_detection/exporter.py:539: print_model_analysis (from tensorflow.contrib.tfprof.model_analyzer) is deprecated and will be removed after 2018-01-01.\n",
      "Instructions for updating:\n",
      "Use `tf.profiler.profile(graph, run_meta, op_log, cmd, options)`. Build `options` with `tf.profiler.ProfileOptionBuilder`. See README.md for details\n"
     ]
    },
    {
     "name": "stderr",
     "output_type": "stream",
     "text": [
      "WARNING:tensorflow:From /home/ubuntu/picselliaT/object_detection/exporter.py:539: print_model_analysis (from tensorflow.contrib.tfprof.model_analyzer) is deprecated and will be removed after 2018-01-01.\n",
      "Instructions for updating:\n",
      "Use `tf.profiler.profile(graph, run_meta, op_log, cmd, options)`. Build `options` with `tf.profiler.ProfileOptionBuilder`. See README.md for details\n"
     ]
    },
    {
     "name": "stdout",
     "output_type": "stream",
     "text": [
      "WARNING:tensorflow:From /home/ubuntu/anaconda3/envs/tensorflow_p36/lib/python3.6/site-packages/tensorflow/python/profiler/internal/flops_registry.py:142: tensor_shape_from_node_def_name (from tensorflow.python.framework.graph_util_impl) is deprecated and will be removed in a future version.\n",
      "Instructions for updating:\n",
      "Use `tf.compat.v1.graph_util.tensor_shape_from_node_def_name`\n"
     ]
    },
    {
     "name": "stderr",
     "output_type": "stream",
     "text": [
      "WARNING:tensorflow:From /home/ubuntu/anaconda3/envs/tensorflow_p36/lib/python3.6/site-packages/tensorflow/python/profiler/internal/flops_registry.py:142: tensor_shape_from_node_def_name (from tensorflow.python.framework.graph_util_impl) is deprecated and will be removed in a future version.\n",
      "Instructions for updating:\n",
      "Use `tf.compat.v1.graph_util.tensor_shape_from_node_def_name`\n",
      "174 ops no flops stats due to incomplete shapes.\n",
      "174 ops no flops stats due to incomplete shapes.\n"
     ]
    },
    {
     "name": "stdout",
     "output_type": "stream",
     "text": [
      "INFO:tensorflow:Restoring parameters from 05a91847-53a6-4b29-9014-d372d11836c7/d21c776e-7595-42c1-9846-54713135b78e/1/checkpoint/model.ckpt-1000\n"
     ]
    },
    {
     "name": "stderr",
     "output_type": "stream",
     "text": [
      "INFO:tensorflow:Restoring parameters from 05a91847-53a6-4b29-9014-d372d11836c7/d21c776e-7595-42c1-9846-54713135b78e/1/checkpoint/model.ckpt-1000\n"
     ]
    },
    {
     "name": "stdout",
     "output_type": "stream",
     "text": [
      "INFO:tensorflow:Restoring parameters from 05a91847-53a6-4b29-9014-d372d11836c7/d21c776e-7595-42c1-9846-54713135b78e/1/checkpoint/model.ckpt-1000\n"
     ]
    },
    {
     "name": "stderr",
     "output_type": "stream",
     "text": [
      "INFO:tensorflow:Restoring parameters from 05a91847-53a6-4b29-9014-d372d11836c7/d21c776e-7595-42c1-9846-54713135b78e/1/checkpoint/model.ckpt-1000\n"
     ]
    },
    {
     "name": "stdout",
     "output_type": "stream",
     "text": [
      "WARNING:tensorflow:From /home/ubuntu/anaconda3/envs/tensorflow_p36/lib/python3.6/site-packages/tensorflow/python/tools/freeze_graph.py:233: convert_variables_to_constants (from tensorflow.python.framework.graph_util_impl) is deprecated and will be removed in a future version.\n",
      "Instructions for updating:\n",
      "Use `tf.compat.v1.graph_util.convert_variables_to_constants`\n"
     ]
    },
    {
     "name": "stderr",
     "output_type": "stream",
     "text": [
      "WARNING:tensorflow:From /home/ubuntu/anaconda3/envs/tensorflow_p36/lib/python3.6/site-packages/tensorflow/python/tools/freeze_graph.py:233: convert_variables_to_constants (from tensorflow.python.framework.graph_util_impl) is deprecated and will be removed in a future version.\n",
      "Instructions for updating:\n",
      "Use `tf.compat.v1.graph_util.convert_variables_to_constants`\n"
     ]
    },
    {
     "name": "stdout",
     "output_type": "stream",
     "text": [
      "WARNING:tensorflow:From /home/ubuntu/anaconda3/envs/tensorflow_p36/lib/python3.6/site-packages/tensorflow/python/framework/graph_util_impl.py:270: extract_sub_graph (from tensorflow.python.framework.graph_util_impl) is deprecated and will be removed in a future version.\n",
      "Instructions for updating:\n",
      "Use `tf.compat.v1.graph_util.extract_sub_graph`\n"
     ]
    },
    {
     "name": "stderr",
     "output_type": "stream",
     "text": [
      "WARNING:tensorflow:From /home/ubuntu/anaconda3/envs/tensorflow_p36/lib/python3.6/site-packages/tensorflow/python/framework/graph_util_impl.py:270: extract_sub_graph (from tensorflow.python.framework.graph_util_impl) is deprecated and will be removed in a future version.\n",
      "Instructions for updating:\n",
      "Use `tf.compat.v1.graph_util.extract_sub_graph`\n"
     ]
    },
    {
     "name": "stdout",
     "output_type": "stream",
     "text": [
      "INFO:tensorflow:Froze 410 variables.\n"
     ]
    },
    {
     "name": "stderr",
     "output_type": "stream",
     "text": [
      "INFO:tensorflow:Froze 410 variables.\n"
     ]
    },
    {
     "name": "stdout",
     "output_type": "stream",
     "text": [
      "INFO:tensorflow:Converted 410 variables to const ops.\n"
     ]
    },
    {
     "name": "stderr",
     "output_type": "stream",
     "text": [
      "INFO:tensorflow:Converted 410 variables to const ops.\n"
     ]
    },
    {
     "name": "stdout",
     "output_type": "stream",
     "text": [
      "WARNING:tensorflow:From /home/ubuntu/picselliaT/object_detection/exporter.py:306: The name tf.saved_model.builder.SavedModelBuilder is deprecated. Please use tf.compat.v1.saved_model.builder.SavedModelBuilder instead.\n",
      "\n"
     ]
    },
    {
     "name": "stderr",
     "output_type": "stream",
     "text": [
      "WARNING:tensorflow:From /home/ubuntu/picselliaT/object_detection/exporter.py:306: The name tf.saved_model.builder.SavedModelBuilder is deprecated. Please use tf.compat.v1.saved_model.builder.SavedModelBuilder instead.\n",
      "\n"
     ]
    },
    {
     "name": "stdout",
     "output_type": "stream",
     "text": [
      "WARNING:tensorflow:From /home/ubuntu/picselliaT/object_detection/exporter.py:309: build_tensor_info (from tensorflow.python.saved_model.utils_impl) is deprecated and will be removed in a future version.\n",
      "Instructions for updating:\n",
      "This function will only be available through the v1 compatibility library as tf.compat.v1.saved_model.utils.build_tensor_info or tf.compat.v1.saved_model.build_tensor_info.\n"
     ]
    },
    {
     "name": "stderr",
     "output_type": "stream",
     "text": [
      "WARNING:tensorflow:From /home/ubuntu/picselliaT/object_detection/exporter.py:309: build_tensor_info (from tensorflow.python.saved_model.utils_impl) is deprecated and will be removed in a future version.\n",
      "Instructions for updating:\n",
      "This function will only be available through the v1 compatibility library as tf.compat.v1.saved_model.utils.build_tensor_info or tf.compat.v1.saved_model.build_tensor_info.\n"
     ]
    },
    {
     "name": "stdout",
     "output_type": "stream",
     "text": [
      "WARNING:tensorflow:From /home/ubuntu/picselliaT/object_detection/exporter.py:315: The name tf.saved_model.signature_def_utils.build_signature_def is deprecated. Please use tf.compat.v1.saved_model.signature_def_utils.build_signature_def instead.\n",
      "\n"
     ]
    },
    {
     "name": "stderr",
     "output_type": "stream",
     "text": [
      "WARNING:tensorflow:From /home/ubuntu/picselliaT/object_detection/exporter.py:315: The name tf.saved_model.signature_def_utils.build_signature_def is deprecated. Please use tf.compat.v1.saved_model.signature_def_utils.build_signature_def instead.\n",
      "\n"
     ]
    },
    {
     "name": "stdout",
     "output_type": "stream",
     "text": [
      "WARNING:tensorflow:From /home/ubuntu/picselliaT/object_detection/exporter.py:318: The name tf.saved_model.signature_constants.PREDICT_METHOD_NAME is deprecated. Please use tf.saved_model.PREDICT_METHOD_NAME instead.\n",
      "\n"
     ]
    },
    {
     "name": "stderr",
     "output_type": "stream",
     "text": [
      "WARNING:tensorflow:From /home/ubuntu/picselliaT/object_detection/exporter.py:318: The name tf.saved_model.signature_constants.PREDICT_METHOD_NAME is deprecated. Please use tf.saved_model.PREDICT_METHOD_NAME instead.\n",
      "\n"
     ]
    },
    {
     "name": "stdout",
     "output_type": "stream",
     "text": [
      "WARNING:tensorflow:From /home/ubuntu/picselliaT/object_detection/exporter.py:323: The name tf.saved_model.tag_constants.SERVING is deprecated. Please use tf.saved_model.SERVING instead.\n",
      "\n"
     ]
    },
    {
     "name": "stderr",
     "output_type": "stream",
     "text": [
      "WARNING:tensorflow:From /home/ubuntu/picselliaT/object_detection/exporter.py:323: The name tf.saved_model.tag_constants.SERVING is deprecated. Please use tf.saved_model.SERVING instead.\n",
      "\n"
     ]
    },
    {
     "name": "stdout",
     "output_type": "stream",
     "text": [
      "WARNING:tensorflow:From /home/ubuntu/picselliaT/object_detection/exporter.py:325: The name tf.saved_model.signature_constants.DEFAULT_SERVING_SIGNATURE_DEF_KEY is deprecated. Please use tf.saved_model.DEFAULT_SERVING_SIGNATURE_DEF_KEY instead.\n",
      "\n"
     ]
    },
    {
     "name": "stderr",
     "output_type": "stream",
     "text": [
      "WARNING:tensorflow:From /home/ubuntu/picselliaT/object_detection/exporter.py:325: The name tf.saved_model.signature_constants.DEFAULT_SERVING_SIGNATURE_DEF_KEY is deprecated. Please use tf.saved_model.DEFAULT_SERVING_SIGNATURE_DEF_KEY instead.\n",
      "\n"
     ]
    },
    {
     "name": "stdout",
     "output_type": "stream",
     "text": [
      "INFO:tensorflow:No assets to save.\n"
     ]
    },
    {
     "name": "stderr",
     "output_type": "stream",
     "text": [
      "INFO:tensorflow:No assets to save.\n"
     ]
    },
    {
     "name": "stdout",
     "output_type": "stream",
     "text": [
      "INFO:tensorflow:No assets to write.\n"
     ]
    },
    {
     "name": "stderr",
     "output_type": "stream",
     "text": [
      "INFO:tensorflow:No assets to write.\n"
     ]
    },
    {
     "name": "stdout",
     "output_type": "stream",
     "text": [
      "INFO:tensorflow:SavedModel written to: 05a91847-53a6-4b29-9014-d372d11836c7/d21c776e-7595-42c1-9846-54713135b78e/1exported_model/saved_model/saved_model.pb\n"
     ]
    },
    {
     "name": "stderr",
     "output_type": "stream",
     "text": [
      "INFO:tensorflow:SavedModel written to: 05a91847-53a6-4b29-9014-d372d11836c7/d21c776e-7595-42c1-9846-54713135b78e/1exported_model/saved_model/saved_model.pb\n"
     ]
    },
    {
     "name": "stdout",
     "output_type": "stream",
     "text": [
      "INFO:tensorflow:Writing pipeline config file to 05a91847-53a6-4b29-9014-d372d11836c7/d21c776e-7595-42c1-9846-54713135b78e/1exported_model/pipeline.config\n"
     ]
    },
    {
     "name": "stderr",
     "output_type": "stream",
     "text": [
      "INFO:tensorflow:Writing pipeline config file to 05a91847-53a6-4b29-9014-d372d11836c7/d21c776e-7595-42c1-9846-54713135b78e/1exported_model/pipeline.config\n"
     ]
    },
    {
     "ename": "IndexError",
     "evalue": "tuple index out of range",
     "output_type": "error",
     "traceback": [
      "\u001b[0;31m---------------------------------------------------------------------------\u001b[0m",
      "\u001b[0;31mIndexError\u001b[0m                                Traceback (most recent call last)",
      "\u001b[0;32m<ipython-input-9-58ff0b04a641>\u001b[0m in \u001b[0;36m<module>\u001b[0;34m\u001b[0m\n\u001b[1;32m      3\u001b[0m                        pipeline_config_path=clt.config_dir)\n\u001b[1;32m      4\u001b[0m \u001b[0;34m\u001b[0m\u001b[0m\n\u001b[0;32m----> 5\u001b[0;31m \u001b[0mclt\u001b[0m\u001b[0;34m.\u001b[0m\u001b[0msend_model\u001b[0m\u001b[0;34m(\u001b[0m\u001b[0;34m)\u001b[0m\u001b[0;34m\u001b[0m\u001b[0;34m\u001b[0m\u001b[0m\n\u001b[0m",
      "\u001b[0;32m~/anaconda3/envs/tensorflow_p36/lib/python3.6/site-packages/picsellia/Client.py\u001b[0m in \u001b[0;36msend_model\u001b[0;34m(self, file_path)\u001b[0m\n\u001b[1;32m    733\u001b[0m             \u001b[0mself\u001b[0m\u001b[0;34m.\u001b[0m\u001b[0mOBJECT_NAME\u001b[0m \u001b[0;34m=\u001b[0m \u001b[0mos\u001b[0m\u001b[0;34m.\u001b[0m\u001b[0mpath\u001b[0m\u001b[0;34m.\u001b[0m\u001b[0mjoin\u001b[0m\u001b[0;34m(\u001b[0m\u001b[0mself\u001b[0m\u001b[0;34m.\u001b[0m\u001b[0mnetwork_id\u001b[0m\u001b[0;34m,\u001b[0m \u001b[0mself\u001b[0m\u001b[0;34m.\u001b[0m\u001b[0mtraining_id\u001b[0m\u001b[0;34m,\u001b[0m \u001b[0mfile_name\u001b[0m\u001b[0;34m)\u001b[0m\u001b[0;34m\u001b[0m\u001b[0;34m\u001b[0m\u001b[0m\n\u001b[1;32m    734\u001b[0m         \u001b[0;32melse\u001b[0m\u001b[0;34m:\u001b[0m\u001b[0;34m\u001b[0m\u001b[0;34m\u001b[0m\u001b[0m\n\u001b[0;32m--> 735\u001b[0;31m             \u001b[0mfile_path\u001b[0m \u001b[0;34m=\u001b[0m \u001b[0;34m'{}/{}/saved_model.pb'\u001b[0m\u001b[0;34m.\u001b[0m\u001b[0mformat\u001b[0m\u001b[0;34m(\u001b[0m\u001b[0mself\u001b[0m\u001b[0;34m.\u001b[0m\u001b[0mexported_model\u001b[0m\u001b[0;34m)\u001b[0m\u001b[0;34m\u001b[0m\u001b[0;34m\u001b[0m\u001b[0m\n\u001b[0m\u001b[1;32m    736\u001b[0m             \u001b[0mself\u001b[0m\u001b[0;34m.\u001b[0m\u001b[0mOBJECT_NAME\u001b[0m \u001b[0;34m=\u001b[0m \u001b[0mos\u001b[0m\u001b[0;34m.\u001b[0m\u001b[0mpath\u001b[0m\u001b[0;34m.\u001b[0m\u001b[0mjoin\u001b[0m\u001b[0;34m(\u001b[0m\u001b[0mself\u001b[0m\u001b[0;34m.\u001b[0m\u001b[0mnetwork_id\u001b[0m\u001b[0;34m,\u001b[0m \u001b[0mself\u001b[0m\u001b[0;34m.\u001b[0m\u001b[0mtraining_id\u001b[0m\u001b[0;34m,\u001b[0m\u001b[0;34m'saved_model.pb'\u001b[0m\u001b[0;34m)\u001b[0m\u001b[0;34m\u001b[0m\u001b[0;34m\u001b[0m\u001b[0m\n\u001b[1;32m    737\u001b[0m         \u001b[0mself\u001b[0m\u001b[0;34m.\u001b[0m\u001b[0m_init_multipart\u001b[0m\u001b[0;34m(\u001b[0m\u001b[0;34m)\u001b[0m\u001b[0;34m\u001b[0m\u001b[0;34m\u001b[0m\u001b[0m\n",
      "\u001b[0;31mIndexError\u001b[0m: tuple index out of range"
     ]
    }
   ],
   "source": [
    "picsell_utils.export_infer_graph(ckpt_dir=clt.checkpoint_dir, \n",
    "                       exported_model_dir=clt.exported_model_dir, \n",
    "                       pipeline_config_path=clt.config_dir)\n",
    "\n",
    "clt.send_model()"
   ]
  },
  {
   "cell_type": "markdown",
   "metadata": {
    "colab_type": "text",
    "id": "1UrcdpZyKjXD"
   },
   "source": [
    "## Inference\n",
    "\n",
    "Lastly we want to use the model on some images of our evaluation set so we can send the results to the platform and see them on the dashboard."
   ]
  },
  {
   "cell_type": "code",
   "execution_count": null,
   "metadata": {
    "colab": {},
    "colab_type": "code",
    "id": "ke4Jh6J9KjXE",
    "scrolled": false
   },
   "outputs": [],
   "source": [
    "picsell_utils.infer(clt.eval_list, exported_model_dir=clt.exported_model_dir, \n",
    "      label_map_path=clt.label_path, results_dir=clt.results_dir)\n",
    "clt.send_examples()"
   ]
  }
 ],
 "metadata": {
  "colab": {
   "name": "notebookOBDTC.ipynb",
   "provenance": []
  },
  "kernelspec": {
   "display_name": "Environment (conda_tensorflow_p36)",
   "language": "python",
   "name": "conda_tensorflow_p36"
  },
  "language_info": {
   "codemirror_mode": {
    "name": "ipython",
    "version": 3
   },
   "file_extension": ".py",
   "mimetype": "text/x-python",
   "name": "python",
   "nbconvert_exporter": "python",
   "pygments_lexer": "ipython3",
   "version": "3.6.10"
  }
 },
 "nbformat": 4,
 "nbformat_minor": 1
}
