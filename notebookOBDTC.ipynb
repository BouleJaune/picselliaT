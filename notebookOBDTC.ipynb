{
 "cells": [
  {
   "cell_type": "markdown",
   "metadata": {
    "colab_type": "text",
    "id": "ZaoLlAKrK41G"
   },
   "source": [
    "[![Open In Colab](https://colab.research.google.com/assets/colab-badge.svg)](https://colab.research.google.com/github/BouleJaune/picselliaT/blob/master/notebookOBDTC.ipynb)\n",
    "\n"
   ]
  },
  {
   "cell_type": "markdown",
   "metadata": {
    "colab_type": "text",
    "id": "6t3am_CDKjWU"
   },
   "source": [
    "# Object-detection made easy\n",
    "We will learn how to easily train an object detection model from a list of pre-trained models with the dataset you created on the picsell-IA platform."
   ]
  },
  {
   "cell_type": "code",
   "execution_count": null,
   "metadata": {
    "colab": {
     "base_uri": "https://localhost:8080/",
     "height": 641
    },
    "colab_type": "code",
    "id": "bS6pLrgacUg7",
    "outputId": "2e1551d5-e572-49e9-ffd0-a324b80bdc06"
   },
   "outputs": [],
   "source": [
    "!git clone https://github.com/BouleJaune/picselliaT\n",
    "%cd picselliaT/\n",
    "!pip install picsellia\n",
    "%tensorflow_version 1.x"
   ]
  },
  {
   "cell_type": "code",
   "execution_count": null,
   "metadata": {
    "colab": {
     "base_uri": "https://localhost:8080/",
     "height": 678
    },
    "colab_type": "code",
    "id": "3qCOFwXUfrsd",
    "outputId": "fc828116-186e-46ee-a78f-b16cc0b229eb"
   },
   "outputs": [],
   "source": [
    "import gdown\n",
    "gdown.download(\"https://drive.google.com/u/0/uc?export=download&confirm=sWbX&id=14UDmfWrnP2jwppxvcL6wkjPtObuuMh20\", \"models.zip\", quiet=False)\n",
    "!unzip models.zip"
   ]
  },
  {
   "cell_type": "code",
   "execution_count": null,
   "metadata": {
    "scrolled": true
   },
   "outputs": [],
   "source": [
    "import tensorflow as tf\n",
    "tf.__version__"
   ]
  },
  {
   "cell_type": "markdown",
   "metadata": {
    "colab_type": "text",
    "id": "XhntBjQuKjWV"
   },
   "source": [
    "## Imports"
   ]
  },
  {
   "cell_type": "code",
   "execution_count": null,
   "metadata": {
    "colab": {
     "base_uri": "https://localhost:8080/",
     "height": 164
    },
    "colab_type": "code",
    "id": "ZeMjhE6jKjWY",
    "outputId": "bbfc2840-bc5c-4cc6-e693-bd95b4c84b66",
    "scrolled": true
   },
   "outputs": [],
   "source": [
    "import sys\n",
    "sys.path.append(\"slim\")\n",
    "from picsellia import Client\n",
    "import main\n",
    "from util.infer import infer\n",
    "import tensorflow as tf"
   ]
  },
  {
   "cell_type": "markdown",
   "metadata": {
    "colab_type": "text",
    "id": "MYlIZgv9KjWe"
   },
   "source": [
    "\n",
    "\n",
    "\n",
    "\n",
    "## List of possible models : \n",
    "\n",
    "- Mask RCNN, a segmentation model. String variable: 'mask_rcnn'\n",
    "- Faster RCNN an accurate but slow object detection model. String variable: 'faster_rcnn'\n",
    "- SSD Inception, a fast but less accurate object detection model. String variable : 'ssd_inception'\n",
    "\n",
    "## Setup\n",
    "\n",
    "We need to start setting up some variables before anything else."
   ]
  },
  {
   "cell_type": "code",
   "execution_count": null,
   "metadata": {
    "colab": {},
    "colab_type": "code",
    "id": "5g9FPMCdKjWg",
    "scrolled": false
   },
   "outputs": [],
   "source": [
    "project_token = \"d8e83b34-352e-41b1-9329-03a791f8d4ef\" # Token from the picsell-IA platform\n",
    "api_token = \"5890ad3e6a9701cd123ef91b69ad396de8c2d20a\"\n",
    "model_name = \"test_model\" # Name your to-be trained model\n",
    "annotation_type = \"polygon\" # Chose the type of annotation used\n",
    "\n",
    "batch_size = 1\n",
    "learning_rate = None #You can let this value to None\n",
    "nb_steps = 10"
   ]
  },
  {
   "cell_type": "markdown",
   "metadata": {
    "colab_type": "text",
    "id": "UPNfFH5_KjWl"
   },
   "source": [
    "## Client initialisation and data pre-processing\n",
    "\n",
    "We communicate with the platform to create a new model and get the images and annotations.\n",
    "With this we can generate the label map, smartly split our data then create the TFRecord files which will be used as input for the model. "
   ]
  },
  {
   "cell_type": "code",
   "execution_count": null,
   "metadata": {
    "colab": {
     "base_uri": "https://localhost:8080/",
     "height": 550
    },
    "colab_type": "code",
    "id": "dUq-cDBVKjWm",
    "outputId": "cc07db90-dc7f-4bfe-b23d-b8263471e90c",
    "scrolled": false
   },
   "outputs": [],
   "source": [
    "clt = Client(api_token=api_token, host=\"https://backstage.picsellia.com/sdk/\")\n",
    "clt.init_project(project_token=project_token)\n",
    "clt.init_model(model_name)\n",
    "\n",
    "clt.dl_annotations()\n",
    "clt.generate_labelmap()\n",
    "clt.local_pic_save()"
   ]
  },
  {
   "cell_type": "code",
   "execution_count": null,
   "metadata": {},
   "outputs": [],
   "source": [
    "main.create_record_files(label_path=clt.label_path, record_dir=clt.record_dir, \n",
    "                         tfExample_generator=clt.tf_vars_generator, annotation_type=annotation_type)"
   ]
  },
  {
   "cell_type": "markdown",
   "metadata": {
    "colab_type": "text",
    "id": "Sv6vKXsNKjWs"
   },
   "source": [
    "Here we edit the base protobuf configuration of our model with our parameters. \n",
    "We check if it the first training on this model to see if we should train from a previous checkpoint or not."
   ]
  },
  {
   "cell_type": "code",
   "execution_count": null,
   "metadata": {
    "colab": {
     "base_uri": "https://localhost:8080/",
     "height": 109
    },
    "colab_type": "code",
    "id": "DOgkvSDwKjWu",
    "outputId": "c7f4aeed-ac53-4df8-d91d-e51ebb29ec83"
   },
   "outputs": [],
   "source": [
    "main.edit_config(model_selected=model_selected, config_output_dir=clt.config_dir,\n",
    "            record_dir=clt.record_dir, \n",
    "            label_map_path=clt.label_path, \n",
    "            masks=mask_type, \n",
    "            num_steps=nb_steps,\n",
    "            batch_size=batch_size, \n",
    "            learning_rate=learning_rate,\n",
    "            training_id=clt.training_id)"
   ]
  },
  {
   "cell_type": "markdown",
   "metadata": {
    "colab_type": "text",
    "id": "7TIdFiqvKjW0"
   },
   "source": [
    "## Training\n",
    "\n",
    "We can launch the training... and it's as easy as just telling the fonction where is the configuration file and where we want the checkpoints and records to be saved !"
   ]
  },
  {
   "cell_type": "code",
   "execution_count": null,
   "metadata": {
    "colab": {
     "base_uri": "https://localhost:8080/",
     "height": 1000
    },
    "colab_type": "code",
    "id": "eYkGBEvnKjW1",
    "outputId": "33501fe1-bbae-4961-8d4f-4435c9ece68d",
    "scrolled": true
   },
   "outputs": [],
   "source": [
    "main.train(ckpt_dir=clt.checkpoint_dir, \n",
    "                     conf_dir=clt.config_dir)"
   ]
  },
  {
   "cell_type": "markdown",
   "metadata": {
    "colab_type": "text",
    "id": "SJZiDV6aKjW5"
   },
   "source": [
    "Now that the training has ended we want to send the logs to our dashboard so we can neatly see the sweet decrease of the loss. "
   ]
  },
  {
   "cell_type": "code",
   "execution_count": null,
   "metadata": {
    "colab": {},
    "colab_type": "code",
    "id": "QpKJL3l6KjW6",
    "scrolled": false
   },
   "outputs": [],
   "source": [
    "dict_log = main.tfevents_to_dict(path=clt.checkpoint_dir)\n",
    "clt.send_logs(dict_log)"
   ]
  },
  {
   "cell_type": "markdown",
   "metadata": {
    "colab_type": "text",
    "id": "DhXEFt43KjW9"
   },
   "source": [
    "## Exporting and infering\n",
    "\n",
    "The model is trained but we still need to export it to a Tensorflow graph proto to use it."
   ]
  },
  {
   "cell_type": "code",
   "execution_count": null,
   "metadata": {
    "colab": {},
    "colab_type": "code",
    "id": "sfT1MFkIKjW-",
    "scrolled": true
   },
   "outputs": [],
   "source": [
    "tf.reset_default_graph()\n",
    "main.export_infer_graph(ckpt_dir=clt.checkpoint_dir, \n",
    "                       exported_model_dir=clt.exported_model, \n",
    "                       pipeline_config_path=clt.config_dir,\n",
    "                       write_inference_graph=True, input_type=\"image_tensor\", input_shape=None)"
   ]
  },
  {
   "cell_type": "markdown",
   "metadata": {
    "colab_type": "text",
    "id": "1UrcdpZyKjXD"
   },
   "source": [
    "Now we will use the exported model to do some inference on our evaluation set, then send the results to the dashboard.\n",
    "You can set the minimum confidence treshold at which we keep the bounding boxes to the value you like the most."
   ]
  },
  {
   "cell_type": "code",
   "execution_count": null,
   "metadata": {
    "colab": {},
    "colab_type": "code",
    "id": "ke4Jh6J9KjXE",
    "scrolled": false
   },
   "outputs": [],
   "source": [
    "min_score_thresh = 0.3 \n",
    "infer(clt.eval_list, exported_model_dir=clt.exported_model, \n",
    "          label_map_path=clt.label_path, results_dir=clt.results_dir, min_score_thresh=min_score_thresh, num_infer=16)\n",
    "clt.send_examples()"
   ]
  },
  {
   "cell_type": "code",
   "execution_count": null,
   "metadata": {},
   "outputs": [],
   "source": [
    "clt.send_weights(clt.exported_model+'saved_model/saved_model.pb')"
   ]
  }
 ],
 "metadata": {
  "colab": {
   "name": "notebookOBDTC.ipynb",
   "provenance": []
  },
  "kernelspec": {
   "display_name": "Environment (conda_tensorflow_p36)",
   "language": "python",
   "name": "conda_tensorflow_p36"
  },
  "language_info": {
   "codemirror_mode": {
    "name": "ipython",
    "version": 3
   },
   "file_extension": ".py",
   "mimetype": "text/x-python",
   "name": "python",
   "nbconvert_exporter": "python",
   "pygments_lexer": "ipython3",
   "version": "3.6.10"
  }
 },
 "nbformat": 4,
 "nbformat_minor": 1
}
