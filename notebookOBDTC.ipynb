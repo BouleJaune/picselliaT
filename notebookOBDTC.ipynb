{
 "cells": [
  {
   "cell_type": "markdown",
   "metadata": {
    "colab_type": "text",
    "id": "ZaoLlAKrK41G"
   },
   "source": [
    "[![Open In Colab](https://colab.research.google.com/assets/colab-badge.svg)](https://colab.research.google.com/github/BouleJaune/picselliaT/blob/master/notebookOBDTC.ipynb)\n",
    "\n"
   ]
  },
  {
   "cell_type": "markdown",
   "metadata": {
    "colab_type": "text",
    "id": "6t3am_CDKjWU"
   },
   "source": [
    "# Object-detection made easy\n",
    "We will learn how to easily train an object detection model from a list of pre-trained models with the dataset you created on the picsell-IA platform."
   ]
  },
  {
   "cell_type": "markdown",
   "metadata": {},
   "source": [
    "## Prerequisite"
   ]
  },
  {
   "cell_type": "code",
   "execution_count": null,
   "metadata": {
    "colab": {
     "base_uri": "https://localhost:8080/",
     "height": 641
    },
    "colab_type": "code",
    "id": "bS6pLrgacUg7",
    "outputId": "2e1551d5-e572-49e9-ffd0-a324b80bdc06"
   },
   "outputs": [],
   "source": [
    "!git clone https://github.com/BouleJaune/picselliaT\n",
    "%cd picselliaT/\n",
    "!pip install picsellia\n",
    "%tensorflow_version 1.x"
   ]
  },
  {
   "cell_type": "markdown",
   "metadata": {
    "colab_type": "text",
    "id": "XhntBjQuKjWV"
   },
   "source": [
    "## Imports"
   ]
  },
  {
   "cell_type": "code",
   "execution_count": 1,
   "metadata": {
    "colab": {
     "base_uri": "https://localhost:8080/",
     "height": 164
    },
    "colab_type": "code",
    "id": "ZeMjhE6jKjWY",
    "outputId": "bbfc2840-bc5c-4cc6-e693-bd95b4c84b66",
    "scrolled": true
   },
   "outputs": [
    {
     "ename": "ModuleNotFoundError",
     "evalue": "No module named 'picsell_utils'",
     "output_type": "error",
     "traceback": [
      "\u001b[0;31m---------------------------------------------------------------------------\u001b[0m",
      "\u001b[0;31mModuleNotFoundError\u001b[0m                       Traceback (most recent call last)",
      "\u001b[0;32m<ipython-input-1-71101c82268b>\u001b[0m in \u001b[0;36m<module>\u001b[0;34m\u001b[0m\n\u001b[1;32m      2\u001b[0m \u001b[0msys\u001b[0m\u001b[0;34m.\u001b[0m\u001b[0mpath\u001b[0m\u001b[0;34m.\u001b[0m\u001b[0mappend\u001b[0m\u001b[0;34m(\u001b[0m\u001b[0;34m\"slim\"\u001b[0m\u001b[0;34m)\u001b[0m\u001b[0;34m\u001b[0m\u001b[0;34m\u001b[0m\u001b[0m\n\u001b[1;32m      3\u001b[0m \u001b[0;32mfrom\u001b[0m \u001b[0mpicsellia\u001b[0m \u001b[0;32mimport\u001b[0m \u001b[0mClient\u001b[0m\u001b[0;34m\u001b[0m\u001b[0;34m\u001b[0m\u001b[0m\n\u001b[0;32m----> 4\u001b[0;31m \u001b[0;32mimport\u001b[0m \u001b[0mpicsell_utils\u001b[0m\u001b[0;34m\u001b[0m\u001b[0;34m\u001b[0m\u001b[0m\n\u001b[0m\u001b[1;32m      5\u001b[0m \u001b[0;32mimport\u001b[0m \u001b[0mtensorflow\u001b[0m \u001b[0;32mas\u001b[0m \u001b[0mtf\u001b[0m\u001b[0;34m\u001b[0m\u001b[0;34m\u001b[0m\u001b[0m\n",
      "\u001b[0;31mModuleNotFoundError\u001b[0m: No module named 'picsell_utils'"
     ]
    }
   ],
   "source": [
    "import sys\n",
    "sys.path.append(\"slim\")\n",
    "from picsellia import Client\n",
    "import picsell_utils\n",
    "import tensorflow as tf"
   ]
  },
  {
   "cell_type": "markdown",
   "metadata": {
    "colab_type": "text",
    "id": "MYlIZgv9KjWe"
   },
   "source": [
    "\n",
    "\n",
    "\n",
    "\n",
    "## List of possible models : \n",
    "\n",
    "- Mask RCNN, a segmentation model. String variable: 'mask_rcnn'\n",
    "- Faster RCNN an accurate but slow object detection model. String variable: 'faster_rcnn'\n",
    "- SSD Inception, a fast but less accurate object detection model. String variable : 'ssd_inception'\n",
    "\n",
    "## Setup\n",
    "\n",
    "We need to start setting up some variables before anything else."
   ]
  },
  {
   "cell_type": "code",
   "execution_count": null,
   "metadata": {
    "colab": {},
    "colab_type": "code",
    "id": "5g9FPMCdKjWg",
    "scrolled": false
   },
   "outputs": [],
   "source": [
    "project_token = \"05a91847-53a6-4b29-9014-d372d11836c7\" # Token from the picsell-IA platform\n",
    "api_token = \"5890ad3e6a9701cd123ef91b69ad396de8c2d20a\"\n",
    "model_name = \"ssd-inception-base\" # Name your to-be trained model\n",
    "\n",
    "batch_size = 10\n",
    "learning_rate = None #You can let this value to None\n",
    "nb_steps = 10"
   ]
  },
  {
   "cell_type": "markdown",
   "metadata": {
    "colab_type": "text",
    "id": "UPNfFH5_KjWl"
   },
   "source": [
    "## Client initialisation and data pre-processing\n",
    "\n",
    "We communicate with the platform to create a new model and get the images and annotations.\n",
    "With this we can generate the label map, smartly split our data then create the TFRecord files which will be used as input for the model. "
   ]
  },
  {
   "cell_type": "code",
   "execution_count": null,
   "metadata": {
    "colab": {
     "base_uri": "https://localhost:8080/",
     "height": 550
    },
    "colab_type": "code",
    "id": "dUq-cDBVKjWm",
    "outputId": "cc07db90-dc7f-4bfe-b23d-b8263471e90c",
    "scrolled": true
   },
   "outputs": [],
   "source": [
    "clt = Client(api_token=api_token, host=\"https://backstage.picsellia.com/sdk/\")\n",
    "clt.init_project(project_token=project_token)\n",
    "clt.init_model(model_name)"
   ]
  },
  {
   "cell_type": "code",
   "execution_count": null,
   "metadata": {
    "scrolled": true
   },
   "outputs": [],
   "source": [
    "clt.dl_annotations()\n",
    "clt.generate_labelmap()\n",
    "clt.local_pic_save()"
   ]
  },
  {
   "cell_type": "code",
   "execution_count": null,
   "metadata": {},
   "outputs": [],
   "source": [
    "annotation_type = \"rectangle\" # Chose the type of annotation used\n",
    "picsell_utils.create_record_files(label_path=clt.label_path, record_dir=clt.record_dir,\n",
    "                         tfExample_generator=clt.tf_vars_generator, annotation_type=annotation_type)"
   ]
  },
  {
   "cell_type": "markdown",
   "metadata": {
    "colab_type": "text",
    "id": "Sv6vKXsNKjWs"
   },
   "source": [
    "Here we edit the base protobuf configuration of our model with our parameters. \n",
    "We check if it the first training on this model to see if we should train from a previous checkpoint or not."
   ]
  },
  {
   "cell_type": "code",
   "execution_count": null,
   "metadata": {
    "colab": {
     "base_uri": "https://localhost:8080/",
     "height": 109
    },
    "colab_type": "code",
    "id": "DOgkvSDwKjWu",
    "outputId": "c7f4aeed-ac53-4df8-d91d-e51ebb29ec83"
   },
   "outputs": [],
   "source": [
    "picsell_utils.edit_config(model_selected=clt.model_selected, config_output_dir=clt.config_dir,\n",
    "            record_dir=clt.record_dir, \n",
    "            label_map_path=clt.label_path, \n",
    "            num_steps=nb_steps,\n",
    "            batch_size=batch_size, \n",
    "            learning_rate=learning_rate,\n",
    "            annotation_type=annotation_type,\n",
    "            eval_number = len(clt.eval_list))"
   ]
  },
  {
   "cell_type": "markdown",
   "metadata": {
    "colab_type": "text",
    "id": "7TIdFiqvKjW0"
   },
   "source": [
    "## Training\n",
    "\n",
    "We can launch the training... and it's as easy as just telling the fonction where is the configuration file and where we want the checkpoints and records to be saved !"
   ]
  },
  {
   "cell_type": "code",
   "execution_count": null,
   "metadata": {
    "colab": {
     "base_uri": "https://localhost:8080/",
     "height": 1000
    },
    "colab_type": "code",
    "id": "eYkGBEvnKjW1",
    "outputId": "33501fe1-bbae-4961-8d4f-4435c9ece68d",
    "scrolled": true
   },
   "outputs": [],
   "source": [
    "picsell_utils.train(ckpt_dir=\"05a91847-53a6-4b29-9014-d372d11836c7/d21c776e-7595-42c1-9846-54713135b78e/1/checkpoint\", \n",
    "                     conf_dir=\"05a91847-53a6-4b29-9014-d372d11836c7/d21c776e-7595-42c1-9846-54713135b78e/1/config\")"
   ]
  },
  {
   "cell_type": "markdown",
   "metadata": {
    "colab_type": "text",
    "id": "SJZiDV6aKjW5"
   },
   "source": [
    "Now that the training has ended we want to send the logs to our dashboard so we can neatly see the sweet decrease of the loss. "
   ]
  },
  {
   "cell_type": "code",
   "execution_count": null,
   "metadata": {
    "colab": {},
    "colab_type": "code",
    "id": "QpKJL3l6KjW6",
    "scrolled": false
   },
   "outputs": [],
   "source": [
    "dict_log = picsell_utils.tfevents_to_dict(path=clt.checkpoint_dir)\n",
    "clt.send_logs(dict_log)"
   ]
  },
  {
   "cell_type": "markdown",
   "metadata": {
    "colab_type": "text",
    "id": "DhXEFt43KjW9"
   },
   "source": [
    "## Exporting and infering\n",
    "\n",
    "The model is trained but we still need to export it to a Tensorflow graph proto to use it."
   ]
  },
  {
   "cell_type": "code",
   "execution_count": null,
   "metadata": {
    "colab": {},
    "colab_type": "code",
    "id": "sfT1MFkIKjW-",
    "scrolled": true
   },
   "outputs": [],
   "source": [
    "picsell_utils.export_infer_graph(ckpt_dir=clt.checkpoint_dir, \n",
    "                       exported_model_dir=clt.exported_model, \n",
    "                       pipeline_config_path=clt.config_dir)"
   ]
  },
  {
   "cell_type": "markdown",
   "metadata": {
    "colab_type": "text",
    "id": "1UrcdpZyKjXD"
   },
   "source": [
    "Now we will use the exported model to do some inference on our evaluation set, then send the results to the dashboard.\n",
    "You can set the minimum confidence treshold at which we keep the bounding boxes to the value you like the most."
   ]
  },
  {
   "cell_type": "code",
   "execution_count": null,
   "metadata": {
    "colab": {},
    "colab_type": "code",
    "id": "ke4Jh6J9KjXE",
    "scrolled": true
   },
   "outputs": [],
   "source": [
    "picsell_utils.infer(clt.eval_list, exported_model_dir=clt.exported_model, \n",
    "      label_map_path=clt.label_path, results_dir=clt.results_dir)\n",
    "clt.send_examples()"
   ]
  },
  {
   "cell_type": "markdown",
   "metadata": {
    "colab": {},
    "colab_type": "code",
    "id": "ke4Jh6J9KjXE",
    "scrolled": false
   },
   "source": [
    "Lastly we want to evaluate the model and send the metrics on the platform. "
   ]
  },
  {
   "cell_type": "code",
   "execution_count": null,
   "metadata": {
    "scrolled": true
   },
   "outputs": [],
   "source": [
    "metrics = picsell_utils.evaluate(clt.log_dir, clt.config_dir, clt.checkpoint_dir)\n",
    "clt.send_metrics(metrics)"
   ]
  }
 ],
 "metadata": {
  "colab": {
   "name": "notebookOBDTC.ipynb",
   "provenance": []
  },
  "kernelspec": {
   "display_name": "Environment (conda_tensorflow_p36)",
   "language": "python",
   "name": "conda_tensorflow_p36"
  },
  "language_info": {
   "codemirror_mode": {
    "name": "ipython",
    "version": 3
   },
   "file_extension": ".py",
   "mimetype": "text/x-python",
   "name": "python",
   "nbconvert_exporter": "python",
   "pygments_lexer": "ipython3",
   "version": "3.6.10"
  }
 },
 "nbformat": 4,
 "nbformat_minor": 1
}
