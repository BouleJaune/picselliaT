{
 "cells": [
  {
   "cell_type": "code",
   "execution_count": 1,
   "metadata": {},
   "outputs": [
    {
     "output_type": "stream",
     "name": "stdout",
     "text": "WARNING:tensorflow:\nThe TensorFlow contrib module will not be included in TensorFlow 2.0.\nFor more information, please see:\n  * https://github.com/tensorflow/community/blob/master/rfcs/20180907-contrib-sunset.md\n  * https://github.com/tensorflow/addons\n  * https://github.com/tensorflow/io (for I/O related ops)\nIf you depend on functionality not listed there, please file an issue.\n\n"
    }
   ],
   "source": [
    "from picsellia import Client\n",
    "import main\n",
    "from util.infer import infer"
   ]
  },
  {
   "cell_type": "code",
   "execution_count": 2,
   "metadata": {},
   "outputs": [],
   "source": [
    "import os\n",
    "os.environ[\"TF_FORCE_GPU_ALLOW_GROWTH\"]=\"true\""
   ]
  },
  {
   "cell_type": "markdown",
   "metadata": {},
   "source": [
    "Client initialization"
   ]
  },
  {
   "cell_type": "code",
   "execution_count": 3,
   "metadata": {},
   "outputs": [
    {
     "output_type": "stream",
     "name": "stdout",
     "text": "Initializing Picsell.ia Client\nConnection Established\nIt's your first training for this project\nCreating directory for project 463389a8-52bd-4fd3-bc0a-9198d43fe76b/0/\nCreating directory for PNG Images of project 463389a8-52bd-4fd3-bc0a-9198d43fe76b/0/\nCreating directory for checkpoints project 463389a8-52bd-4fd3-bc0a-9198d43fe76b/0/\nCreating directory for logs of project 463389a8-52bd-4fd3-bc0a-9198d43fe76b/0/logs/\nCreating directory for records of project 463389a8-52bd-4fd3-bc0a-9198d43fe76b/0/\nCreating directory for config of project 463389a8-52bd-4fd3-bc0a-9198d43fe76b/0/\nCreating directory for results of project 463389a8-52bd-4fd3-bc0a-9198d43fe76b/0/results/\n"
    }
   ],
   "source": [
    "clt = Client(token=\"463389a8-52bd-4fd3-bc0a-9198d43fe76b\")"
   ]
  },
  {
   "cell_type": "code",
   "execution_count": 4,
   "metadata": {},
   "outputs": [],
   "source": [
    "model_selected = \"models/mask_rcnn/\"\n",
    "ckpt_dir = clt.checkpoint_dir\n",
    "conf_dir = clt.config_dir"
   ]
  },
  {
   "cell_type": "code",
   "execution_count": 5,
   "metadata": {},
   "outputs": [
    {
     "output_type": "stream",
     "name": "stdout",
     "text": "Downloading annotations of project 463389a8-52bd-4fd3-bc0a-9198d43fe76b ...\nAnnotations pulled ...\nGenerating labelmap ...\nLabel_map.pbtxt crée @ 463389a8-52bd-4fd3-bc0a-9198d43fe76b/0//label_map.pbtxt\nDownloading PNG images to your machine ...\n['label1', 'label2']\n[[1 1 1 1 1 0]\n [0 0 0 0 1 1]]\n[0. 1. 1. 1. 0. 1.]\n4 Images used for training, 2 Images used for validation\n0 files were already on your machine\n 6 PNG images have been downloaded to your machine\nSending repartition to Picsell.ia backend\nRepartition send ..\nWARNING:tensorflow:From /home/xenio/Documents/object-detection/test/object_detection/utils/label_map_util.py:138: The name tf.gfile.GFile is deprecated. Please use tf.io.gfile.GFile instead.\n\nWARNING:tensorflow:From /home/xenio/Documents/object-detection/test/main.py:71: The name tf.python_io.TFRecordWriter is deprecated. Please use tf.io.TFRecordWriter instead.\n\nok\nok\nok\nok\nok\nok\nok\nok\nSuccessfully created the TFRecords: 463389a8-52bd-4fd3-bc0a-9198d43fe76b/0/records/train.record\nok\nok\nok\nok\nSuccessfully created the TFRecords: 463389a8-52bd-4fd3-bc0a-9198d43fe76b/0/records/eval.record\n"
    }
   ],
   "source": [
    "clt.dl_annotations()\n",
    "clt.generate_labelmap()\n",
    "clt.local_pic_save(prop=0.5) \n",
    "main.create_record_files(label_path=clt.label_path, \n",
    "                         record_dir=clt.record_dir,  \n",
    "                         tfExample_generator=clt.tf_vars_generator)"
   ]
  },
  {
   "cell_type": "code",
   "execution_count": 6,
   "metadata": {},
   "outputs": [
    {
     "output_type": "stream",
     "name": "stdout",
     "text": "WARNING:tensorflow:From /home/xenio/Documents/object-detection/test/object_detection/utils/config_util.py:188: The name tf.gfile.Open is deprecated. Please use tf.io.gfile.GFile instead.\n\nWARNING:tensorflow:From /home/xenio/Documents/object-detection/test/object_detection/utils/config_util.py:189: The name tf.logging.info is deprecated. Please use tf.compat.v1.logging.info instead.\n\nINFO:tensorflow:Writing pipeline config file to 463389a8-52bd-4fd3-bc0a-9198d43fe76b/0/config/pipeline.config\n"
    }
   ],
   "source": [
    "main.edit_config(model_selected=model_selected, \n",
    "                 config_output_dir=conf_dir, \n",
    "                 record_dir=clt.record_dir, \n",
    "                 label_map_path=clt.label_path, \n",
    "                 masks=\"PNG_MASKS\", num_steps=20)"
   ]
  },
  {
   "cell_type": "code",
   "execution_count": 7,
   "metadata": {
    "tags": [
     "outputPrepend",
     "outputPrepend",
     "outputPrepend",
     "outputPrepend",
     "outputPrepend",
     "outputPrepend",
     "outputPrepend",
     "outputPrepend",
     "outputPrepend",
     "outputPrepend",
     "outputPrepend",
     "outputPrepend",
     "outputPrepend",
     "outputPrepend",
     "outputPrepend",
     "outputPrepend",
     "outputPrepend",
     "outputPrepend",
     "outputPrepend",
     "outputPrepend",
     "outputPrepend",
     "outputPrepend",
     "outputPrepend",
     "outputPrepend",
     "outputPrepend",
     "outputPrepend",
     "outputPrepend",
     "outputPrepend",
     "outputPrepend",
     "outputPrepend",
     "outputPrepend",
     "outputPrepend",
     "outputPrepend",
     "outputPrepend",
     "outputPrepend",
     "outputPrepend",
     "outputPrepend",
     "outputPrepend",
     "outputPrepend",
     "outputPrepend",
     "outputPrepend",
     "outputPrepend",
     "outputPrepend",
     "outputPrepend",
     "outputPrepend",
     "outputPrepend",
     "outputPrepend",
     "outputPrepend",
     "outputPrepend",
     "outputPrepend",
     "outputPrepend",
     "outputPrepend",
     "outputPrepend",
     "outputPrepend",
     "outputPrepend",
     "outputPrepend",
     "outputPrepend",
     "outputPrepend",
     "outputPrepend",
     "outputPrepend",
     "outputPrepend",
     "outputPrepend",
     "outputPrepend",
     "outputPrepend",
     "outputPrepend",
     "outputPrepend",
     "outputPrepend",
     "outputPrepend",
     "outputPrepend",
     "outputPrepend",
     "outputPrepend",
     "outputPrepend",
     "outputPrepend",
     "outputPrepend",
     "outputPrepend",
     "outputPrepend",
     "outputPrepend",
     "outputPrepend",
     "outputPrepend",
     "outputPrepend",
     "outputPrepend",
     "outputPrepend",
     "outputPrepend",
     "outputPrepend",
     "outputPrepend",
     "outputPrepend",
     "outputPrepend",
     "outputPrepend",
     "outputPrepend",
     "outputPrepend",
     "outputPrepend",
     "outputPrepend",
     "outputPrepend",
     "outputPrepend",
     "outputPrepend",
     "outputPrepend",
     "outputPrepend",
     "outputPrepend",
     "outputPrepend",
     "outputPrepend",
     "outputPrepend",
     "outputPrepend",
     "outputPrepend",
     "outputPrepend",
     "outputPrepend",
     "outputPrepend",
     "outputPrepend",
     "outputPrepend",
     "outputPrepend",
     "outputPrepend",
     "outputPrepend",
     "outputPrepend",
     "outputPrepend",
     "outputPrepend",
     "outputPrepend",
     "outputPrepend",
     "outputPrepend",
     "outputPrepend",
     "outputPrepend",
     "outputPrepend",
     "outputPrepend",
     "outputPrepend",
     "outputPrepend",
     "outputPrepend",
     "outputPrepend",
     "outputPrepend",
     "outputPrepend",
     "outputPrepend",
     "outputPrepend",
     "outputPrepend",
     "outputPrepend",
     "outputPrepend",
     "outputPrepend",
     "outputPrepend",
     "outputPrepend",
     "outputPrepend",
     "outputPrepend",
     "outputPrepend",
     "outputPrepend",
     "outputPrepend",
     "outputPrepend",
     "outputPrepend",
     "outputPrepend",
     "outputPrepend",
     "outputPrepend",
     "outputPrepend",
     "outputPrepend",
     "outputPrepend",
     "outputPrepend",
     "outputPrepend",
     "outputPrepend",
     "outputPrepend",
     "outputPrepend",
     "outputPrepend",
     "outputPrepend",
     "outputPrepend",
     "outputPrepend",
     "outputPrepend",
     "outputPrepend",
     "outputPrepend",
     "outputPrepend",
     "outputPrepend",
     "outputPrepend",
     "outputPrepend",
     "outputPrepend",
     "outputPrepend",
     "outputPrepend",
     "outputPrepend",
     "outputPrepend",
     "outputPrepend",
     "outputPrepend",
     "outputPrepend",
     "outputPrepend",
     "outputPrepend",
     "outputPrepend",
     "outputPrepend",
     "outputPrepend",
     "outputPrepend",
     "outputPrepend",
     "outputPrepend",
     "outputPrepend",
     "outputPrepend",
     "outputPrepend",
     "outputPrepend",
     "outputPrepend",
     "outputPrepend",
     "outputPrepend",
     "outputPrepend",
     "outputPrepend",
     "outputPrepend",
     "outputPrepend",
     "outputPrepend",
     "outputPrepend",
     "outputPrepend",
     "outputPrepend",
     "outputPrepend",
     "outputPrepend",
     "outputPrepend",
     "outputPrepend",
     "outputPrepend",
     "outputPrepend",
     "outputPrepend",
     "outputPrepend",
     "outputPrepend",
     "outputPrepend",
     "outputPrepend",
     "outputPrepend",
     "outputPrepend",
     "outputPrepend",
     "outputPrepend",
     "outputPrepend",
     "outputPrepend",
     "outputPrepend",
     "outputPrepend",
     "outputPrepend",
     "outputPrepend",
     "outputPrepend",
     "outputPrepend",
     "outputPrepend",
     "outputPrepend",
     "outputPrepend",
     "outputPrepend",
     "outputPrepend",
     "outputPrepend",
     "outputPrepend",
     "outputPrepend",
     "outputPrepend",
     "outputPrepend",
     "outputPrepend",
     "outputPrepend",
     "outputPrepend",
     "outputPrepend",
     "outputPrepend",
     "outputPrepend",
     "outputPrepend",
     "outputPrepend",
     "outputPrepend",
     "outputPrepend",
     "outputPrepend",
     "outputPrepend",
     "outputPrepend",
     "outputPrepend",
     "outputPrepend",
     "outputPrepend"
    ]
   },
   "outputs": [
    {
     "output_type": "stream",
     "name": "stdout",
     "text": "m] is not available in checkpoint\nWARNING:root:Variable [FirstStageFeatureExtractor/InceptionV2/Mixed_4d/Branch_1/Conv2d_0b_3x3/weights/Momentum] is not available in checkpoint\nWARNING:root:Variable [FirstStageFeatureExtractor/InceptionV2/Mixed_4d/Branch_2/Conv2d_0a_1x1/BatchNorm/beta/Momentum] is not available in checkpoint\nWARNING:root:Variable [FirstStageFeatureExtractor/InceptionV2/Mixed_4d/Branch_2/Conv2d_0a_1x1/BatchNorm/gamma/Momentum] is not available in checkpoint\nWARNING:root:Variable [FirstStageFeatureExtractor/InceptionV2/Mixed_4d/Branch_2/Conv2d_0a_1x1/weights/Momentum] is not available in checkpoint\nWARNING:root:Variable [FirstStageFeatureExtractor/InceptionV2/Mixed_4d/Branch_2/Conv2d_0b_3x3/BatchNorm/beta/Momentum] is not available in checkpoint\nWARNING:root:Variable [FirstStageFeatureExtractor/InceptionV2/Mixed_4d/Branch_2/Conv2d_0b_3x3/BatchNorm/gamma/Momentum] is not available in checkpoint\nWARNING:root:Variable [FirstStageFeatureExtractor/InceptionV2/Mixed_4d/Branch_2/Conv2d_0b_3x3/weights/Momentum] is not available in checkpoint\nWARNING:root:Variable [FirstStageFeatureExtractor/InceptionV2/Mixed_4d/Branch_2/Conv2d_0c_3x3/BatchNorm/beta/Momentum] is not available in checkpoint\nWARNING:root:Variable [FirstStageFeatureExtractor/InceptionV2/Mixed_4d/Branch_2/Conv2d_0c_3x3/BatchNorm/gamma/Momentum] is not available in checkpoint\nWARNING:root:Variable [FirstStageFeatureExtractor/InceptionV2/Mixed_4d/Branch_2/Conv2d_0c_3x3/weights/Momentum] is not available in checkpoint\nWARNING:root:Variable [FirstStageFeatureExtractor/InceptionV2/Mixed_4d/Branch_3/Conv2d_0b_1x1/BatchNorm/beta/Momentum] is not available in checkpoint\nWARNING:root:Variable [FirstStageFeatureExtractor/InceptionV2/Mixed_4d/Branch_3/Conv2d_0b_1x1/BatchNorm/gamma/Momentum] is not available in checkpoint\nWARNING:root:Variable [FirstStageFeatureExtractor/InceptionV2/Mixed_4d/Branch_3/Conv2d_0b_1x1/weights/Momentum] is not available in checkpoint\nWARNING:root:Variable [FirstStageFeatureExtractor/InceptionV2/Mixed_4e/Branch_0/Conv2d_0a_1x1/BatchNorm/beta/Momentum] is not available in checkpoint\nWARNING:root:Variable [FirstStageFeatureExtractor/InceptionV2/Mixed_4e/Branch_0/Conv2d_0a_1x1/BatchNorm/gamma/Momentum] is not available in checkpoint\nWARNING:root:Variable [FirstStageFeatureExtractor/InceptionV2/Mixed_4e/Branch_0/Conv2d_0a_1x1/weights/Momentum] is not available in checkpoint\nWARNING:root:Variable [FirstStageFeatureExtractor/InceptionV2/Mixed_4e/Branch_1/Conv2d_0a_1x1/BatchNorm/beta/Momentum] is not available in checkpoint\nWARNING:root:Variable [FirstStageFeatureExtractor/InceptionV2/Mixed_4e/Branch_1/Conv2d_0a_1x1/BatchNorm/gamma/Momentum] is not available in checkpoint\nWARNING:root:Variable [FirstStageFeatureExtractor/InceptionV2/Mixed_4e/Branch_1/Conv2d_0a_1x1/weights/Momentum] is not available in checkpoint\nWARNING:root:Variable [FirstStageFeatureExtractor/InceptionV2/Mixed_4e/Branch_1/Conv2d_0b_3x3/BatchNorm/beta/Momentum] is not available in checkpoint\nWARNING:root:Variable [FirstStageFeatureExtractor/InceptionV2/Mixed_4e/Branch_1/Conv2d_0b_3x3/BatchNorm/gamma/Momentum] is not available in checkpoint\nWARNING:root:Variable [FirstStageFeatureExtractor/InceptionV2/Mixed_4e/Branch_1/Conv2d_0b_3x3/weights/Momentum] is not available in checkpoint\nWARNING:root:Variable [FirstStageFeatureExtractor/InceptionV2/Mixed_4e/Branch_2/Conv2d_0a_1x1/BatchNorm/beta/Momentum] is not available in checkpoint\nWARNING:root:Variable [FirstStageFeatureExtractor/InceptionV2/Mixed_4e/Branch_2/Conv2d_0a_1x1/BatchNorm/gamma/Momentum] is not available in checkpoint\nWARNING:root:Variable [FirstStageFeatureExtractor/InceptionV2/Mixed_4e/Branch_2/Conv2d_0a_1x1/weights/Momentum] is not available in checkpoint\nWARNING:root:Variable [FirstStageFeatureExtractor/InceptionV2/Mixed_4e/Branch_2/Conv2d_0b_3x3/BatchNorm/beta/Momentum] is not available in checkpoint\nWARNING:root:Variable [FirstStageFeatureExtractor/InceptionV2/Mixed_4e/Branch_2/Conv2d_0b_3x3/BatchNorm/gamma/Momentum] is not available in checkpoint\nWARNING:root:Variable [FirstStageFeatureExtractor/InceptionV2/Mixed_4e/Branch_2/Conv2d_0b_3x3/weights/Momentum] is not available in checkpoint\nWARNING:root:Variable [FirstStageFeatureExtractor/InceptionV2/Mixed_4e/Branch_2/Conv2d_0c_3x3/BatchNorm/beta/Momentum] is not available in checkpoint\nWARNING:root:Variable [FirstStageFeatureExtractor/InceptionV2/Mixed_4e/Branch_2/Conv2d_0c_3x3/BatchNorm/gamma/Momentum] is not available in checkpoint\nWARNING:root:Variable [FirstStageFeatureExtractor/InceptionV2/Mixed_4e/Branch_2/Conv2d_0c_3x3/weights/Momentum] is not available in checkpoint\nWARNING:root:Variable [FirstStageFeatureExtractor/InceptionV2/Mixed_4e/Branch_3/Conv2d_0b_1x1/BatchNorm/beta/Momentum] is not available in checkpoint\nWARNING:root:Variable [FirstStageFeatureExtractor/InceptionV2/Mixed_4e/Branch_3/Conv2d_0b_1x1/BatchNorm/gamma/Momentum] is not available in checkpoint\nWARNING:root:Variable [FirstStageFeatureExtractor/InceptionV2/Mixed_4e/Branch_3/Conv2d_0b_1x1/weights/Momentum] is not available in checkpoint\nWARNING:root:Variable [SecondStageFeatureExtractor/InceptionV2/Mixed_5a/Branch_0/Conv2d_0a_1x1/BatchNorm/beta/Momentum] is not available in checkpoint\nWARNING:root:Variable [SecondStageFeatureExtractor/InceptionV2/Mixed_5a/Branch_0/Conv2d_0a_1x1/BatchNorm/gamma/Momentum] is not available in checkpoint\nWARNING:root:Variable [SecondStageFeatureExtractor/InceptionV2/Mixed_5a/Branch_0/Conv2d_0a_1x1/weights/Momentum] is not available in checkpoint\nWARNING:root:Variable [SecondStageFeatureExtractor/InceptionV2/Mixed_5a/Branch_0/Conv2d_1a_3x3/BatchNorm/beta/Momentum] is not available in checkpoint\nWARNING:root:Variable [SecondStageFeatureExtractor/InceptionV2/Mixed_5a/Branch_0/Conv2d_1a_3x3/BatchNorm/gamma/Momentum] is not available in checkpoint\nWARNING:root:Variable [SecondStageFeatureExtractor/InceptionV2/Mixed_5a/Branch_0/Conv2d_1a_3x3/weights/Momentum] is not available in checkpoint\nWARNING:root:Variable [SecondStageFeatureExtractor/InceptionV2/Mixed_5a/Branch_1/Conv2d_0a_1x1/BatchNorm/beta/Momentum] is not available in checkpoint\nWARNING:root:Variable [SecondStageFeatureExtractor/InceptionV2/Mixed_5a/Branch_1/Conv2d_0a_1x1/BatchNorm/gamma/Momentum] is not available in checkpoint\nWARNING:root:Variable [SecondStageFeatureExtractor/InceptionV2/Mixed_5a/Branch_1/Conv2d_0a_1x1/weights/Momentum] is not available in checkpoint\nWARNING:root:Variable [SecondStageFeatureExtractor/InceptionV2/Mixed_5a/Branch_1/Conv2d_0b_3x3/BatchNorm/beta/Momentum] is not available in checkpoint\nWARNING:root:Variable [SecondStageFeatureExtractor/InceptionV2/Mixed_5a/Branch_1/Conv2d_0b_3x3/BatchNorm/gamma/Momentum] is not available in checkpoint\nWARNING:root:Variable [SecondStageFeatureExtractor/InceptionV2/Mixed_5a/Branch_1/Conv2d_0b_3x3/weights/Momentum] is not available in checkpoint\nWARNING:root:Variable [SecondStageFeatureExtractor/InceptionV2/Mixed_5a/Branch_1/Conv2d_1a_3x3/BatchNorm/beta/Momentum] is not available in checkpoint\nWARNING:root:Variable [SecondStageFeatureExtractor/InceptionV2/Mixed_5a/Branch_1/Conv2d_1a_3x3/BatchNorm/gamma/Momentum] is not available in checkpoint\nWARNING:root:Variable [SecondStageFeatureExtractor/InceptionV2/Mixed_5a/Branch_1/Conv2d_1a_3x3/weights/Momentum] is not available in checkpoint\nWARNING:root:Variable [SecondStageFeatureExtractor/InceptionV2/Mixed_5b/Branch_0/Conv2d_0a_1x1/BatchNorm/beta/Momentum] is not available in checkpoint\nWARNING:root:Variable [SecondStageFeatureExtractor/InceptionV2/Mixed_5b/Branch_0/Conv2d_0a_1x1/BatchNorm/gamma/Momentum] is not available in checkpoint\nWARNING:root:Variable [SecondStageFeatureExtractor/InceptionV2/Mixed_5b/Branch_0/Conv2d_0a_1x1/weights/Momentum] is not available in checkpoint\nWARNING:root:Variable [SecondStageFeatureExtractor/InceptionV2/Mixed_5b/Branch_1/Conv2d_0a_1x1/BatchNorm/beta/Momentum] is not available in checkpoint\nWARNING:root:Variable [SecondStageFeatureExtractor/InceptionV2/Mixed_5b/Branch_1/Conv2d_0a_1x1/BatchNorm/gamma/Momentum] is not available in checkpoint\nWARNING:root:Variable [SecondStageFeatureExtractor/InceptionV2/Mixed_5b/Branch_1/Conv2d_0a_1x1/weights/Momentum] is not available in checkpoint\nWARNING:root:Variable [SecondStageFeatureExtractor/InceptionV2/Mixed_5b/Branch_1/Conv2d_0b_3x3/BatchNorm/beta/Momentum] is not available in checkpoint\nWARNING:root:Variable [SecondStageFeatureExtractor/InceptionV2/Mixed_5b/Branch_1/Conv2d_0b_3x3/BatchNorm/gamma/Momentum] is not available in checkpoint\nWARNING:root:Variable [SecondStageFeatureExtractor/InceptionV2/Mixed_5b/Branch_1/Conv2d_0b_3x3/weights/Momentum] is not available in checkpoint\nWARNING:root:Variable [SecondStageFeatureExtractor/InceptionV2/Mixed_5b/Branch_2/Conv2d_0a_1x1/BatchNorm/beta/Momentum] is not available in checkpoint\nWARNING:root:Variable [SecondStageFeatureExtractor/InceptionV2/Mixed_5b/Branch_2/Conv2d_0a_1x1/BatchNorm/gamma/Momentum] is not available in checkpoint\nWARNING:root:Variable [SecondStageFeatureExtractor/InceptionV2/Mixed_5b/Branch_2/Conv2d_0a_1x1/weights/Momentum] is not available in checkpoint\nWARNING:root:Variable [SecondStageFeatureExtractor/InceptionV2/Mixed_5b/Branch_2/Conv2d_0b_3x3/BatchNorm/beta/Momentum] is not available in checkpoint\nWARNING:root:Variable [SecondStageFeatureExtractor/InceptionV2/Mixed_5b/Branch_2/Conv2d_0b_3x3/BatchNorm/gamma/Momentum] is not available in checkpoint\nWARNING:root:Variable [SecondStageFeatureExtractor/InceptionV2/Mixed_5b/Branch_2/Conv2d_0b_3x3/weights/Momentum] is not available in checkpoint\nWARNING:root:Variable [SecondStageFeatureExtractor/InceptionV2/Mixed_5b/Branch_2/Conv2d_0c_3x3/BatchNorm/beta/Momentum] is not available in checkpoint\nWARNING:root:Variable [SecondStageFeatureExtractor/InceptionV2/Mixed_5b/Branch_2/Conv2d_0c_3x3/BatchNorm/gamma/Momentum] is not available in checkpoint\nWARNING:root:Variable [SecondStageFeatureExtractor/InceptionV2/Mixed_5b/Branch_2/Conv2d_0c_3x3/weights/Momentum] is not available in checkpoint\nWARNING:root:Variable [SecondStageFeatureExtractor/InceptionV2/Mixed_5b/Branch_3/Conv2d_0b_1x1/BatchNorm/beta/Momentum] is not available in checkpoint\nWARNING:root:Variable [SecondStageFeatureExtractor/InceptionV2/Mixed_5b/Branch_3/Conv2d_0b_1x1/BatchNorm/gamma/Momentum] is not available in checkpoint\nWARNING:root:Variable [SecondStageFeatureExtractor/InceptionV2/Mixed_5b/Branch_3/Conv2d_0b_1x1/weights/Momentum] is not available in checkpoint\nWARNING:root:Variable [SecondStageFeatureExtractor/InceptionV2/Mixed_5c/Branch_0/Conv2d_0a_1x1/BatchNorm/beta/Momentum] is not available in checkpoint\nWARNING:root:Variable [SecondStageFeatureExtractor/InceptionV2/Mixed_5c/Branch_0/Conv2d_0a_1x1/BatchNorm/gamma/Momentum] is not available in checkpoint\nWARNING:root:Variable [SecondStageFeatureExtractor/InceptionV2/Mixed_5c/Branch_0/Conv2d_0a_1x1/weights/Momentum] is not available in checkpoint\nWARNING:root:Variable [SecondStageFeatureExtractor/InceptionV2/Mixed_5c/Branch_1/Conv2d_0a_1x1/BatchNorm/beta/Momentum] is not available in checkpoint\nWARNING:root:Variable [SecondStageFeatureExtractor/InceptionV2/Mixed_5c/Branch_1/Conv2d_0a_1x1/BatchNorm/gamma/Momentum] is not available in checkpoint\nWARNING:root:Variable [SecondStageFeatureExtractor/InceptionV2/Mixed_5c/Branch_1/Conv2d_0a_1x1/weights/Momentum] is not available in checkpoint\nWARNING:root:Variable [SecondStageFeatureExtractor/InceptionV2/Mixed_5c/Branch_1/Conv2d_0b_3x3/BatchNorm/beta/Momentum] is not available in checkpoint\nWARNING:root:Variable [SecondStageFeatureExtractor/InceptionV2/Mixed_5c/Branch_1/Conv2d_0b_3x3/BatchNorm/gamma/Momentum] is not available in checkpoint\nWARNING:root:Variable [SecondStageFeatureExtractor/InceptionV2/Mixed_5c/Branch_1/Conv2d_0b_3x3/weights/Momentum] is not available in checkpoint\nWARNING:root:Variable [SecondStageFeatureExtractor/InceptionV2/Mixed_5c/Branch_2/Conv2d_0a_1x1/BatchNorm/beta/Momentum] is not available in checkpoint\nWARNING:root:Variable [SecondStageFeatureExtractor/InceptionV2/Mixed_5c/Branch_2/Conv2d_0a_1x1/BatchNorm/gamma/Momentum] is not available in checkpoint\nWARNING:root:Variable [SecondStageFeatureExtractor/InceptionV2/Mixed_5c/Branch_2/Conv2d_0a_1x1/weights/Momentum] is not available in checkpoint\nWARNING:root:Variable [SecondStageFeatureExtractor/InceptionV2/Mixed_5c/Branch_2/Conv2d_0b_3x3/BatchNorm/beta/Momentum] is not available in checkpoint\nWARNING:root:Variable [SecondStageFeatureExtractor/InceptionV2/Mixed_5c/Branch_2/Conv2d_0b_3x3/BatchNorm/gamma/Momentum] is not available in checkpoint\nWARNING:root:Variable [SecondStageFeatureExtractor/InceptionV2/Mixed_5c/Branch_2/Conv2d_0b_3x3/weights/Momentum] is not available in checkpoint\nWARNING:root:Variable [SecondStageFeatureExtractor/InceptionV2/Mixed_5c/Branch_2/Conv2d_0c_3x3/BatchNorm/beta/Momentum] is not available in checkpoint\nWARNING:root:Variable [SecondStageFeatureExtractor/InceptionV2/Mixed_5c/Branch_2/Conv2d_0c_3x3/BatchNorm/gamma/Momentum] is not available in checkpoint\nWARNING:root:Variable [SecondStageFeatureExtractor/InceptionV2/Mixed_5c/Branch_2/Conv2d_0c_3x3/weights/Momentum] is not available in checkpoint\nWARNING:root:Variable [SecondStageFeatureExtractor/InceptionV2/Mixed_5c/Branch_3/Conv2d_0b_1x1/BatchNorm/beta/Momentum] is not available in checkpoint\nWARNING:root:Variable [SecondStageFeatureExtractor/InceptionV2/Mixed_5c/Branch_3/Conv2d_0b_1x1/BatchNorm/gamma/Momentum] is not available in checkpoint\nWARNING:root:Variable [SecondStageFeatureExtractor/InceptionV2/Mixed_5c/Branch_3/Conv2d_0b_1x1/weights/Momentum] is not available in checkpoint\nWARNING:tensorflow:From /home/xenio/Documents/object-detection/venv1/lib/python3.6/site-packages/tensorflow/contrib/slim/python/slim/learning.py:742: Supervisor.__init__ (from tensorflow.python.training.supervisor) is deprecated and will be removed in a future version.\nInstructions for updating:\nPlease switch to tf.train.MonitoredTrainingSession\nWARNING:tensorflow:From /home/xenio/Documents/object-detection/venv1/lib/python3.6/site-packages/tensorflow/contrib/slim/python/slim/learning.py:742: Supervisor.__init__ (from tensorflow.python.training.supervisor) is deprecated and will be removed in a future version.\nInstructions for updating:\nPlease switch to tf.train.MonitoredTrainingSession\nWARNING:tensorflow:From /home/xenio/Documents/object-detection/venv1/lib/python3.6/site-packages/tensorflow/python/training/saver.py:1276: checkpoint_exists (from tensorflow.python.training.checkpoint_management) is deprecated and will be removed in a future version.\nInstructions for updating:\nUse standard file APIs to check for files with this prefix.\nWARNING:tensorflow:From /home/xenio/Documents/object-detection/venv1/lib/python3.6/site-packages/tensorflow/python/training/saver.py:1276: checkpoint_exists (from tensorflow.python.training.checkpoint_management) is deprecated and will be removed in a future version.\nInstructions for updating:\nUse standard file APIs to check for files with this prefix.\nINFO:tensorflow:Restoring parameters from models/mask_rcnn/model.ckpt\nINFO:tensorflow:Restoring parameters from models/mask_rcnn/model.ckpt\nINFO:tensorflow:Running local_init_op.\nINFO:tensorflow:Running local_init_op.\nINFO:tensorflow:Done running local_init_op.\nINFO:tensorflow:Done running local_init_op.\nINFO:tensorflow:Starting Session.\nINFO:tensorflow:Starting Session.\nINFO:tensorflow:Saving checkpoint to path 463389a8-52bd-4fd3-bc0a-9198d43fe76b/0/checkpoint/model.ckpt\nINFO:tensorflow:Saving checkpoint to path 463389a8-52bd-4fd3-bc0a-9198d43fe76b/0/checkpoint/model.ckpt\nINFO:tensorflow:Starting Queues.\nINFO:tensorflow:Starting Queues.\nINFO:tensorflow:global_step/sec: 0\nINFO:tensorflow:global_step/sec: 0\nINFO:tensorflow:global_step/sec: 0\nINFO:tensorflow:global_step/sec: 0\nINFO:tensorflow:global_step/sec: 0\nINFO:tensorflow:global_step/sec: 0\nINFO:tensorflow:global_step/sec: 0\nINFO:tensorflow:global_step/sec: 0\nINFO:tensorflow:global_step/sec: 0\nINFO:tensorflow:global_step/sec: 0\nINFO:tensorflow:global_step/sec: 0\nINFO:tensorflow:global_step/sec: 0\nINFO:tensorflow:global_step/sec: 0\nINFO:tensorflow:global_step/sec: 0\nINFO:tensorflow:global_step/sec: 0\nINFO:tensorflow:global_step/sec: 0\nINFO:tensorflow:global_step/sec: 0\nINFO:tensorflow:global_step/sec: 0\nINFO:tensorflow:Recording summary at step 0.\nINFO:tensorflow:Recording summary at step 0.\nINFO:tensorflow:Recording summary at step 0.\nINFO:tensorflow:Recording summary at step 0.\nINFO:tensorflow:Recording summary at step 0.\nINFO:tensorflow:Recording summary at step 0.\nINFO:tensorflow:Recording summary at step 1.\nINFO:tensorflow:Recording summary at step 1.\nINFO:tensorflow:global step 1: loss = 1.1992 (46.346 sec/step)\nINFO:tensorflow:global step 1: loss = 1.1992 (46.346 sec/step)\nINFO:tensorflow:Recording summary at step 1.\nINFO:tensorflow:Recording summary at step 1.\nINFO:tensorflow:global_step/sec: 0.200011\nINFO:tensorflow:global_step/sec: 0.200011\nINFO:tensorflow:Recording summary at step 1.\nINFO:tensorflow:Recording summary at step 1.\nINFO:tensorflow:global step 2: loss = 1.1301 (0.208 sec/step)\nINFO:tensorflow:global step 2: loss = 1.1301 (0.208 sec/step)\nINFO:tensorflow:Recording summary at step 2.\nINFO:tensorflow:Recording summary at step 2.\nINFO:tensorflow:global step 3: loss = 1.0605 (0.260 sec/step)\nINFO:tensorflow:global step 3: loss = 1.0605 (0.260 sec/step)\nINFO:tensorflow:Recording summary at step 3.\nINFO:tensorflow:Recording summary at step 3.\nINFO:tensorflow:global step 4: loss = 0.9431 (0.214 sec/step)\nINFO:tensorflow:global step 4: loss = 0.9431 (0.214 sec/step)\nINFO:tensorflow:Recording summary at step 4.\nINFO:tensorflow:Recording summary at step 4.\nINFO:tensorflow:global step 5: loss = 0.8811 (0.213 sec/step)\nINFO:tensorflow:global step 5: loss = 0.8811 (0.213 sec/step)\nINFO:tensorflow:Recording summary at step 5.\nINFO:tensorflow:Recording summary at step 5.\nINFO:tensorflow:global step 6: loss = 0.8246 (0.157 sec/step)\nINFO:tensorflow:global step 6: loss = 0.8246 (0.157 sec/step)\nINFO:tensorflow:global step 7: loss = 0.8194 (0.158 sec/step)\nINFO:tensorflow:global step 7: loss = 0.8194 (0.158 sec/step)\nINFO:tensorflow:global step 8: loss = 0.7995 (0.168 sec/step)\nINFO:tensorflow:global step 8: loss = 0.7995 (0.168 sec/step)\nINFO:tensorflow:global step 9: loss = 0.7575 (0.158 sec/step)\nINFO:tensorflow:global step 9: loss = 0.7575 (0.158 sec/step)\nINFO:tensorflow:global step 10: loss = 0.7258 (0.157 sec/step)\nINFO:tensorflow:global step 10: loss = 0.7258 (0.157 sec/step)\nINFO:tensorflow:global step 11: loss = 0.7163 (0.155 sec/step)\nINFO:tensorflow:global step 11: loss = 0.7163 (0.155 sec/step)\nINFO:tensorflow:global step 12: loss = 0.7143 (0.158 sec/step)\nINFO:tensorflow:global step 12: loss = 0.7143 (0.158 sec/step)\nINFO:tensorflow:global step 13: loss = 0.6966 (0.152 sec/step)\nINFO:tensorflow:global step 13: loss = 0.6966 (0.152 sec/step)\nINFO:tensorflow:global step 14: loss = 0.6957 (0.158 sec/step)\nINFO:tensorflow:global step 14: loss = 0.6957 (0.158 sec/step)\nINFO:tensorflow:global step 15: loss = 0.6947 (0.155 sec/step)\nINFO:tensorflow:global step 15: loss = 0.6947 (0.155 sec/step)\nINFO:tensorflow:global step 16: loss = 0.6915 (0.160 sec/step)\nINFO:tensorflow:global step 16: loss = 0.6915 (0.160 sec/step)\nINFO:tensorflow:global step 17: loss = 0.6868 (0.157 sec/step)\nINFO:tensorflow:global step 17: loss = 0.6868 (0.157 sec/step)\nINFO:tensorflow:global step 18: loss = 0.6927 (0.183 sec/step)\nINFO:tensorflow:global step 18: loss = 0.6927 (0.183 sec/step)\nINFO:tensorflow:global step 19: loss = 0.6840 (0.156 sec/step)\nINFO:tensorflow:global step 19: loss = 0.6840 (0.156 sec/step)\nINFO:tensorflow:global step 20: loss = 0.6868 (0.159 sec/step)\nINFO:tensorflow:global step 20: loss = 0.6868 (0.159 sec/step)\nINFO:tensorflow:Stopping Training.\nINFO:tensorflow:Stopping Training.\nINFO:tensorflow:Finished training! Saving model to disk.\nINFO:tensorflow:Finished training! Saving model to disk.\nINFO:tensorflow:Recording summary at step 20.\nINFO:tensorflow:Recording summary at step 20.\n"
    }
   ],
   "source": [
    "main.legacy_train(ckpt_dir=ckpt_dir, conf_dir=conf_dir)"
   ]
  },
  {
   "cell_type": "code",
   "execution_count": 9,
   "metadata": {},
   "outputs": [],
   "source": [
    "dict_log = main.tfevents_to_dict(path=ckpt_dir)\n",
    "# clt.send_logs(dict_log)"
   ]
  },
  {
   "cell_type": "code",
   "execution_count": 10,
   "metadata": {},
   "outputs": [
    {
     "output_type": "stream",
     "name": "stdout",
     "text": "INFO:tensorflow:Scale of 0 disables regularizer.\nINFO:tensorflow:Scale of 0 disables regularizer.\nINFO:tensorflow:Scale of 0 disables regularizer.\nINFO:tensorflow:Scale of 0 disables regularizer.\nINFO:tensorflow:depth of additional conv before box predictor: 0\nINFO:tensorflow:depth of additional conv before box predictor: 0\nINFO:tensorflow:Scale of 0 disables regularizer.\nINFO:tensorflow:Scale of 0 disables regularizer.\nINFO:tensorflow:Scale of 0 disables regularizer.\nINFO:tensorflow:Scale of 0 disables regularizer.\nWARNING:tensorflow:From /home/xenio/Documents/object-detection/venv1/lib/python3.6/site-packages/tensorflow/python/util/dispatch.py:180: batch_gather (from tensorflow.python.ops.array_ops) is deprecated and will be removed after 2017-10-25.\nInstructions for updating:\n`tf.batch_gather` is deprecated, please use `tf.gather` with `batch_dims` instead.\nWARNING:tensorflow:From /home/xenio/Documents/object-detection/venv1/lib/python3.6/site-packages/tensorflow/python/util/dispatch.py:180: batch_gather (from tensorflow.python.ops.array_ops) is deprecated and will be removed after 2017-10-25.\nInstructions for updating:\n`tf.batch_gather` is deprecated, please use `tf.gather` with `batch_dims` instead.\nINFO:tensorflow:Scale of 0 disables regularizer.\nINFO:tensorflow:Scale of 0 disables regularizer.\nINFO:tensorflow:Removing feature_maps from prediction_dict\nINFO:tensorflow:Removing feature_maps from prediction_dict\nWARNING:tensorflow:From /home/xenio/Documents/object-detection/test/object_detection/exporter.py:539: print_model_analysis (from tensorflow.contrib.tfprof.model_analyzer) is deprecated and will be removed after 2018-01-01.\nInstructions for updating:\nUse `tf.profiler.profile(graph, run_meta, op_log, cmd, options)`. Build `options` with `tf.profiler.ProfileOptionBuilder`. See README.md for details\nWARNING:tensorflow:From /home/xenio/Documents/object-detection/test/object_detection/exporter.py:539: print_model_analysis (from tensorflow.contrib.tfprof.model_analyzer) is deprecated and will be removed after 2018-01-01.\nInstructions for updating:\nUse `tf.profiler.profile(graph, run_meta, op_log, cmd, options)`. Build `options` with `tf.profiler.ProfileOptionBuilder`. See README.md for details\nWARNING:tensorflow:From /home/xenio/Documents/object-detection/venv1/lib/python3.6/site-packages/tensorflow/python/profiler/internal/flops_registry.py:142: tensor_shape_from_node_def_name (from tensorflow.python.framework.graph_util_impl) is deprecated and will be removed in a future version.\nInstructions for updating:\nUse `tf.compat.v1.graph_util.tensor_shape_from_node_def_name`\nWARNING:tensorflow:From /home/xenio/Documents/object-detection/venv1/lib/python3.6/site-packages/tensorflow/python/profiler/internal/flops_registry.py:142: tensor_shape_from_node_def_name (from tensorflow.python.framework.graph_util_impl) is deprecated and will be removed in a future version.\nInstructions for updating:\nUse `tf.compat.v1.graph_util.tensor_shape_from_node_def_name`\n260 ops no flops stats due to incomplete shapes.\n260 ops no flops stats due to incomplete shapes.\nINFO:tensorflow:Restoring parameters from 463389a8-52bd-4fd3-bc0a-9198d43fe76b/0/checkpoint/model.ckpt-20\nINFO:tensorflow:Restoring parameters from 463389a8-52bd-4fd3-bc0a-9198d43fe76b/0/checkpoint/model.ckpt-20\nINFO:tensorflow:Restoring parameters from 463389a8-52bd-4fd3-bc0a-9198d43fe76b/0/checkpoint/model.ckpt-20\nINFO:tensorflow:Restoring parameters from 463389a8-52bd-4fd3-bc0a-9198d43fe76b/0/checkpoint/model.ckpt-20\nWARNING:tensorflow:From /home/xenio/Documents/object-detection/venv1/lib/python3.6/site-packages/tensorflow/python/tools/freeze_graph.py:233: convert_variables_to_constants (from tensorflow.python.framework.graph_util_impl) is deprecated and will be removed in a future version.\nInstructions for updating:\nUse `tf.compat.v1.graph_util.convert_variables_to_constants`\nWARNING:tensorflow:From /home/xenio/Documents/object-detection/venv1/lib/python3.6/site-packages/tensorflow/python/tools/freeze_graph.py:233: convert_variables_to_constants (from tensorflow.python.framework.graph_util_impl) is deprecated and will be removed in a future version.\nInstructions for updating:\nUse `tf.compat.v1.graph_util.convert_variables_to_constants`\nWARNING:tensorflow:From /home/xenio/Documents/object-detection/venv1/lib/python3.6/site-packages/tensorflow/python/framework/graph_util_impl.py:270: extract_sub_graph (from tensorflow.python.framework.graph_util_impl) is deprecated and will be removed in a future version.\nInstructions for updating:\nUse `tf.compat.v1.graph_util.extract_sub_graph`\nWARNING:tensorflow:From /home/xenio/Documents/object-detection/venv1/lib/python3.6/site-packages/tensorflow/python/framework/graph_util_impl.py:270: extract_sub_graph (from tensorflow.python.framework.graph_util_impl) is deprecated and will be removed in a future version.\nInstructions for updating:\nUse `tf.compat.v1.graph_util.extract_sub_graph`\nINFO:tensorflow:Froze 360 variables.\nINFO:tensorflow:Froze 360 variables.\nINFO:tensorflow:Converted 360 variables to const ops.\nINFO:tensorflow:Converted 360 variables to const ops.\nWARNING:tensorflow:From /home/xenio/Documents/object-detection/test/object_detection/exporter.py:306: The name tf.saved_model.builder.SavedModelBuilder is deprecated. Please use tf.compat.v1.saved_model.builder.SavedModelBuilder instead.\n\nWARNING:tensorflow:From /home/xenio/Documents/object-detection/test/object_detection/exporter.py:306: The name tf.saved_model.builder.SavedModelBuilder is deprecated. Please use tf.compat.v1.saved_model.builder.SavedModelBuilder instead.\n\nWARNING:tensorflow:From /home/xenio/Documents/object-detection/test/object_detection/exporter.py:309: build_tensor_info (from tensorflow.python.saved_model.utils_impl) is deprecated and will be removed in a future version.\nInstructions for updating:\nThis function will only be available through the v1 compatibility library as tf.compat.v1.saved_model.utils.build_tensor_info or tf.compat.v1.saved_model.build_tensor_info.\nWARNING:tensorflow:From /home/xenio/Documents/object-detection/test/object_detection/exporter.py:309: build_tensor_info (from tensorflow.python.saved_model.utils_impl) is deprecated and will be removed in a future version.\nInstructions for updating:\nThis function will only be available through the v1 compatibility library as tf.compat.v1.saved_model.utils.build_tensor_info or tf.compat.v1.saved_model.build_tensor_info.\nWARNING:tensorflow:From /home/xenio/Documents/object-detection/test/object_detection/exporter.py:315: The name tf.saved_model.signature_def_utils.build_signature_def is deprecated. Please use tf.compat.v1.saved_model.signature_def_utils.build_signature_def instead.\n\nWARNING:tensorflow:From /home/xenio/Documents/object-detection/test/object_detection/exporter.py:315: The name tf.saved_model.signature_def_utils.build_signature_def is deprecated. Please use tf.compat.v1.saved_model.signature_def_utils.build_signature_def instead.\n\nWARNING:tensorflow:From /home/xenio/Documents/object-detection/test/object_detection/exporter.py:318: The name tf.saved_model.signature_constants.PREDICT_METHOD_NAME is deprecated. Please use tf.saved_model.PREDICT_METHOD_NAME instead.\n\nWARNING:tensorflow:From /home/xenio/Documents/object-detection/test/object_detection/exporter.py:318: The name tf.saved_model.signature_constants.PREDICT_METHOD_NAME is deprecated. Please use tf.saved_model.PREDICT_METHOD_NAME instead.\n\nWARNING:tensorflow:From /home/xenio/Documents/object-detection/test/object_detection/exporter.py:323: The name tf.saved_model.tag_constants.SERVING is deprecated. Please use tf.saved_model.SERVING instead.\n\nWARNING:tensorflow:From /home/xenio/Documents/object-detection/test/object_detection/exporter.py:323: The name tf.saved_model.tag_constants.SERVING is deprecated. Please use tf.saved_model.SERVING instead.\n\nWARNING:tensorflow:From /home/xenio/Documents/object-detection/test/object_detection/exporter.py:325: The name tf.saved_model.signature_constants.DEFAULT_SERVING_SIGNATURE_DEF_KEY is deprecated. Please use tf.saved_model.DEFAULT_SERVING_SIGNATURE_DEF_KEY instead.\n\nWARNING:tensorflow:From /home/xenio/Documents/object-detection/test/object_detection/exporter.py:325: The name tf.saved_model.signature_constants.DEFAULT_SERVING_SIGNATURE_DEF_KEY is deprecated. Please use tf.saved_model.DEFAULT_SERVING_SIGNATURE_DEF_KEY instead.\n\nINFO:tensorflow:No assets to save.\nINFO:tensorflow:No assets to save.\nINFO:tensorflow:No assets to write.\nINFO:tensorflow:No assets to write.\nINFO:tensorflow:SavedModel written to: 463389a8-52bd-4fd3-bc0a-9198d43fe76b/0/exported_model/saved_model/saved_model.pb\nINFO:tensorflow:SavedModel written to: 463389a8-52bd-4fd3-bc0a-9198d43fe76b/0/exported_model/saved_model/saved_model.pb\nINFO:tensorflow:Writing pipeline config file to 463389a8-52bd-4fd3-bc0a-9198d43fe76b/0/exported_model/pipeline.config\nINFO:tensorflow:Writing pipeline config file to 463389a8-52bd-4fd3-bc0a-9198d43fe76b/0/exported_model/pipeline.config\n"
    }
   ],
   "source": [
    "main.export_infer_graph(ckpt_dir=ckpt_dir, \n",
    "                        exported_model_dir=clt.exported_model, \n",
    "                        pipeline_config_path=conf_dir,\n",
    "                        write_inference_graph=False, input_type=\"image_tensor\", input_shape=None)"
   ]
  },
  {
   "cell_type": "code",
   "execution_count": 11,
   "metadata": {},
   "outputs": [
    {
     "output_type": "stream",
     "name": "stdout",
     "text": "WARNING:tensorflow:From /home/xenio/Documents/object-detection/venv1/lib/python3.6/site-packages/tensorflow/contrib/predictor/saved_model_predictor.py:153: load (from tensorflow.python.saved_model.loader_impl) is deprecated and will be removed in a future version.\nInstructions for updating:\nThis function will only be available through the v1 compatibility library as tf.compat.v1.saved_model.loader.load or tf.compat.v1.saved_model.load. There will be a new function for importing SavedModels in Tensorflow 2.0.\nWARNING:tensorflow:From /home/xenio/Documents/object-detection/venv1/lib/python3.6/site-packages/tensorflow/contrib/predictor/saved_model_predictor.py:153: load (from tensorflow.python.saved_model.loader_impl) is deprecated and will be removed in a future version.\nInstructions for updating:\nThis function will only be available through the v1 compatibility library as tf.compat.v1.saved_model.loader.load or tf.compat.v1.saved_model.load. There will be a new function for importing SavedModels in Tensorflow 2.0.\nINFO:tensorflow:Saver not created because there are no variables in the graph to restore\nINFO:tensorflow:Saver not created because there are no variables in the graph to restore\nINFO:tensorflow:The specified SavedModel has no variables; no checkpoints were restored.\nINFO:tensorflow:The specified SavedModel has no variables; no checkpoints were restored.\n"
    }
   ],
   "source": [
    "exported_model_path=clt.exported_model\n",
    "infer(clt.eval_list, exported_model_path=exported_model_path, \n",
    "        label_map_path=clt.label_path, \n",
    "        results_dir=clt.results_dir ,\n",
    "        min_score_thresh=0.2)"
   ]
  },
  {
   "cell_type": "code",
   "execution_count": 50,
   "metadata": {},
   "outputs": [],
   "source": [
    "# train_id = clt.training_id \n",
    "# main.edit_config(model_selected=model_selected, \n",
    "#                  config_output_dir=conf_dir, \n",
    "#                  record_dir=clt.record_dir, \n",
    "#                  label_map_path=clt.label_path, \n",
    "                #  masks=\"PNG_MASKS\", num_steps=20, training_id=train_id)"
   ]
  }
 ],
 "metadata": {
  "language_info": {
   "codemirror_mode": {
    "name": "ipython",
    "version": 3
   },
   "file_extension": ".py",
   "mimetype": "text/x-python",
   "name": "python",
   "nbconvert_exporter": "python",
   "pygments_lexer": "ipython3",
   "version": "3.6.9-final"
  },
  "orig_nbformat": 2,
  "kernelspec": {
   "name": "python36964bitvenv1venvb4791e929c1c4dc089b04f5eedec75d6",
   "display_name": "Python 3.6.9 64-bit ('venv1': venv)"
  }
 },
 "nbformat": 4,
 "nbformat_minor": 2
}